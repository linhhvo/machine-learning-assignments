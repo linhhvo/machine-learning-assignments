{
  "nbformat": 4,
  "nbformat_minor": 0,
  "metadata": {
    "colab": {
      "name": "LinhVo_HW5_RNN.ipynb",
      "provenance": [],
      "mount_file_id": "17wjXuGStad-vXQbqk1ATkRGY0bTSQNpQ",
      "authorship_tag": "ABX9TyOfHbxxx0+6nO3WyBeQL5jY",
      "include_colab_link": true
    },
    "kernelspec": {
      "name": "python3",
      "display_name": "Python 3"
    },
    "language_info": {
      "name": "python"
    },
    "accelerator": "GPU"
  },
  "cells": [
    {
      "cell_type": "markdown",
      "metadata": {
        "id": "view-in-github",
        "colab_type": "text"
      },
      "source": [
        "<a href=\"https://colab.research.google.com/github/linhhvo/machine-learning-assignments/blob/master/rnn/LinhVo_HW5_RNN.ipynb\" target=\"_parent\"><img src=\"https://colab.research.google.com/assets/colab-badge.svg\" alt=\"Open In Colab\"/></a>"
      ]
    },
    {
      "cell_type": "code",
      "metadata": {
        "id": "9jt_qOyA6bdw"
      },
      "source": [
        "import numpy as np\n",
        "import pandas as pd\n",
        "import matplotlib.pyplot as plt\n",
        "from sklearn.model_selection import train_test_split\n",
        "import tensorflow_datasets as tfds\n",
        "import tensorflow as tf\n",
        "from tensorflow.keras.layers import Embedding, Bidirectional, Dense, LSTM, Dropout, GlobalAveragePooling1D, BatchNormalization\n",
        "from tensorflow.keras.callbacks import EarlyStopping, ReduceLROnPlateau\n",
        "import re\n",
        "import string\n",
        "from tensorflow.keras.layers.experimental.preprocessing import TextVectorization\n",
        "import nltk\n",
        "from nltk.stem import PorterStemmer\n",
        "from nltk.corpus import stopwords"
      ],
      "execution_count": null,
      "outputs": []
    },
    {
      "cell_type": "code",
      "metadata": {
        "colab": {
          "base_uri": "https://localhost:8080/"
        },
        "id": "d-bGthrV6_BP",
        "outputId": "615b9543-42d8-454c-e04c-e2674c824a28"
      },
      "source": [
        "from google.colab import drive\n",
        "drive.mount('/content/drive')"
      ],
      "execution_count": null,
      "outputs": [
        {
          "output_type": "stream",
          "text": [
            "Drive already mounted at /content/drive; to attempt to forcibly remount, call drive.mount(\"/content/drive\", force_remount=True).\n"
          ],
          "name": "stdout"
        }
      ]
    },
    {
      "cell_type": "code",
      "metadata": {
        "colab": {
          "base_uri": "https://localhost:8080/",
          "height": 452
        },
        "id": "-vNjikUk6_cU",
        "outputId": "bf401568-4256-483c-da87-49a323b71286"
      },
      "source": [
        "import os\n",
        "\n",
        "path = \"/content/drive/My Drive/CS733-HW5/\" \n",
        "os.chdir(path)\n",
        "\n",
        "dataset_orig = pd.read_csv(\"Tweets.csv\")\n",
        "dataset_orig.head()"
      ],
      "execution_count": null,
      "outputs": [
        {
          "output_type": "execute_result",
          "data": {
            "text/html": [
              "<div>\n",
              "<style scoped>\n",
              "    .dataframe tbody tr th:only-of-type {\n",
              "        vertical-align: middle;\n",
              "    }\n",
              "\n",
              "    .dataframe tbody tr th {\n",
              "        vertical-align: top;\n",
              "    }\n",
              "\n",
              "    .dataframe thead th {\n",
              "        text-align: right;\n",
              "    }\n",
              "</style>\n",
              "<table border=\"1\" class=\"dataframe\">\n",
              "  <thead>\n",
              "    <tr style=\"text-align: right;\">\n",
              "      <th></th>\n",
              "      <th>tweet_id</th>\n",
              "      <th>airline_sentiment</th>\n",
              "      <th>airline_sentiment_confidence</th>\n",
              "      <th>negativereason</th>\n",
              "      <th>negativereason_confidence</th>\n",
              "      <th>airline</th>\n",
              "      <th>airline_sentiment_gold</th>\n",
              "      <th>name</th>\n",
              "      <th>negativereason_gold</th>\n",
              "      <th>retweet_count</th>\n",
              "      <th>text</th>\n",
              "      <th>tweet_coord</th>\n",
              "      <th>tweet_created</th>\n",
              "      <th>tweet_location</th>\n",
              "      <th>user_timezone</th>\n",
              "    </tr>\n",
              "  </thead>\n",
              "  <tbody>\n",
              "    <tr>\n",
              "      <th>0</th>\n",
              "      <td>5.700000e+17</td>\n",
              "      <td>neutral</td>\n",
              "      <td>1.0000</td>\n",
              "      <td>NaN</td>\n",
              "      <td>NaN</td>\n",
              "      <td>Virgin America</td>\n",
              "      <td>NaN</td>\n",
              "      <td>cairdin</td>\n",
              "      <td>NaN</td>\n",
              "      <td>0</td>\n",
              "      <td>@VirginAmerica What @dhepburn said.</td>\n",
              "      <td>NaN</td>\n",
              "      <td>2/24/2015 11:35</td>\n",
              "      <td>NaN</td>\n",
              "      <td>Eastern Time (US &amp; Canada)</td>\n",
              "    </tr>\n",
              "    <tr>\n",
              "      <th>1</th>\n",
              "      <td>5.700000e+17</td>\n",
              "      <td>positive</td>\n",
              "      <td>0.3486</td>\n",
              "      <td>NaN</td>\n",
              "      <td>0.0000</td>\n",
              "      <td>Virgin America</td>\n",
              "      <td>NaN</td>\n",
              "      <td>jnardino</td>\n",
              "      <td>NaN</td>\n",
              "      <td>0</td>\n",
              "      <td>@VirginAmerica plus you've added commercials t...</td>\n",
              "      <td>NaN</td>\n",
              "      <td>2/24/2015 11:15</td>\n",
              "      <td>NaN</td>\n",
              "      <td>Pacific Time (US &amp; Canada)</td>\n",
              "    </tr>\n",
              "    <tr>\n",
              "      <th>2</th>\n",
              "      <td>5.700000e+17</td>\n",
              "      <td>neutral</td>\n",
              "      <td>0.6837</td>\n",
              "      <td>NaN</td>\n",
              "      <td>NaN</td>\n",
              "      <td>Virgin America</td>\n",
              "      <td>NaN</td>\n",
              "      <td>yvonnalynn</td>\n",
              "      <td>NaN</td>\n",
              "      <td>0</td>\n",
              "      <td>@VirginAmerica I didn't today... Must mean I n...</td>\n",
              "      <td>NaN</td>\n",
              "      <td>2/24/2015 11:15</td>\n",
              "      <td>Lets Play</td>\n",
              "      <td>Central Time (US &amp; Canada)</td>\n",
              "    </tr>\n",
              "    <tr>\n",
              "      <th>3</th>\n",
              "      <td>5.700000e+17</td>\n",
              "      <td>negative</td>\n",
              "      <td>1.0000</td>\n",
              "      <td>Bad Flight</td>\n",
              "      <td>0.7033</td>\n",
              "      <td>Virgin America</td>\n",
              "      <td>NaN</td>\n",
              "      <td>jnardino</td>\n",
              "      <td>NaN</td>\n",
              "      <td>0</td>\n",
              "      <td>@VirginAmerica it's really aggressive to blast...</td>\n",
              "      <td>NaN</td>\n",
              "      <td>2/24/2015 11:15</td>\n",
              "      <td>NaN</td>\n",
              "      <td>Pacific Time (US &amp; Canada)</td>\n",
              "    </tr>\n",
              "    <tr>\n",
              "      <th>4</th>\n",
              "      <td>5.700000e+17</td>\n",
              "      <td>negative</td>\n",
              "      <td>1.0000</td>\n",
              "      <td>Can't Tell</td>\n",
              "      <td>1.0000</td>\n",
              "      <td>Virgin America</td>\n",
              "      <td>NaN</td>\n",
              "      <td>jnardino</td>\n",
              "      <td>NaN</td>\n",
              "      <td>0</td>\n",
              "      <td>@VirginAmerica and it's a really big bad thing...</td>\n",
              "      <td>NaN</td>\n",
              "      <td>2/24/2015 11:14</td>\n",
              "      <td>NaN</td>\n",
              "      <td>Pacific Time (US &amp; Canada)</td>\n",
              "    </tr>\n",
              "  </tbody>\n",
              "</table>\n",
              "</div>"
            ],
            "text/plain": [
              "       tweet_id airline_sentiment  ...  tweet_location               user_timezone\n",
              "0  5.700000e+17           neutral  ...             NaN  Eastern Time (US & Canada)\n",
              "1  5.700000e+17          positive  ...             NaN  Pacific Time (US & Canada)\n",
              "2  5.700000e+17           neutral  ...       Lets Play  Central Time (US & Canada)\n",
              "3  5.700000e+17          negative  ...             NaN  Pacific Time (US & Canada)\n",
              "4  5.700000e+17          negative  ...             NaN  Pacific Time (US & Canada)\n",
              "\n",
              "[5 rows x 15 columns]"
            ]
          },
          "metadata": {
            "tags": []
          },
          "execution_count": 5
        }
      ]
    },
    {
      "cell_type": "code",
      "metadata": {
        "colab": {
          "base_uri": "https://localhost:8080/",
          "height": 225
        },
        "id": "c07Jn80g8PtL",
        "outputId": "cb3c0fc0-1b3a-499d-a9d0-9780bd96d0dd"
      },
      "source": [
        "# Keep only relevant columns\n",
        "dataset = dataset_orig[['airline_sentiment', 'text']]\n",
        "\n",
        "# Drop rows with 'neutral' sentiment\n",
        "dataset = dataset[dataset['airline_sentiment'] != 'neutral']\n",
        "\n",
        "# Add 'polarity' column and set value to be 1 if sentiment is positive and 0 otherwise\n",
        "dataset['polarity'] = np.where(dataset['airline_sentiment'] == 'positive', 1, 0)\n",
        "\n",
        "print(dataset.shape)\n",
        "dataset.head()"
      ],
      "execution_count": null,
      "outputs": [
        {
          "output_type": "stream",
          "text": [
            "(11541, 3)\n"
          ],
          "name": "stdout"
        },
        {
          "output_type": "execute_result",
          "data": {
            "text/html": [
              "<div>\n",
              "<style scoped>\n",
              "    .dataframe tbody tr th:only-of-type {\n",
              "        vertical-align: middle;\n",
              "    }\n",
              "\n",
              "    .dataframe tbody tr th {\n",
              "        vertical-align: top;\n",
              "    }\n",
              "\n",
              "    .dataframe thead th {\n",
              "        text-align: right;\n",
              "    }\n",
              "</style>\n",
              "<table border=\"1\" class=\"dataframe\">\n",
              "  <thead>\n",
              "    <tr style=\"text-align: right;\">\n",
              "      <th></th>\n",
              "      <th>airline_sentiment</th>\n",
              "      <th>text</th>\n",
              "      <th>polarity</th>\n",
              "    </tr>\n",
              "  </thead>\n",
              "  <tbody>\n",
              "    <tr>\n",
              "      <th>1</th>\n",
              "      <td>positive</td>\n",
              "      <td>@VirginAmerica plus you've added commercials t...</td>\n",
              "      <td>1</td>\n",
              "    </tr>\n",
              "    <tr>\n",
              "      <th>3</th>\n",
              "      <td>negative</td>\n",
              "      <td>@VirginAmerica it's really aggressive to blast...</td>\n",
              "      <td>0</td>\n",
              "    </tr>\n",
              "    <tr>\n",
              "      <th>4</th>\n",
              "      <td>negative</td>\n",
              "      <td>@VirginAmerica and it's a really big bad thing...</td>\n",
              "      <td>0</td>\n",
              "    </tr>\n",
              "    <tr>\n",
              "      <th>5</th>\n",
              "      <td>negative</td>\n",
              "      <td>@VirginAmerica seriously would pay $30 a fligh...</td>\n",
              "      <td>0</td>\n",
              "    </tr>\n",
              "    <tr>\n",
              "      <th>6</th>\n",
              "      <td>positive</td>\n",
              "      <td>@VirginAmerica yes, nearly every time I fly VX...</td>\n",
              "      <td>1</td>\n",
              "    </tr>\n",
              "  </tbody>\n",
              "</table>\n",
              "</div>"
            ],
            "text/plain": [
              "  airline_sentiment  ... polarity\n",
              "1          positive  ...        1\n",
              "3          negative  ...        0\n",
              "4          negative  ...        0\n",
              "5          negative  ...        0\n",
              "6          positive  ...        1\n",
              "\n",
              "[5 rows x 3 columns]"
            ]
          },
          "metadata": {
            "tags": []
          },
          "execution_count": 6
        }
      ]
    },
    {
      "cell_type": "code",
      "metadata": {
        "colab": {
          "base_uri": "https://localhost:8080/",
          "height": 493
        },
        "id": "j_cUoLJTICsy",
        "outputId": "d256fbb5-dd14-4794-a5aa-4cbf57b60ec8"
      },
      "source": [
        "# Only keep 'text' and 'polarity' columns to train model\n",
        "df = dataset[['text', 'polarity']]\n",
        "\n",
        "pd.options.display.max_colwidth = 10000\n",
        "df"
      ],
      "execution_count": null,
      "outputs": [
        {
          "output_type": "execute_result",
          "data": {
            "text/html": [
              "<div>\n",
              "<style scoped>\n",
              "    .dataframe tbody tr th:only-of-type {\n",
              "        vertical-align: middle;\n",
              "    }\n",
              "\n",
              "    .dataframe tbody tr th {\n",
              "        vertical-align: top;\n",
              "    }\n",
              "\n",
              "    .dataframe thead th {\n",
              "        text-align: right;\n",
              "    }\n",
              "</style>\n",
              "<table border=\"1\" class=\"dataframe\">\n",
              "  <thead>\n",
              "    <tr style=\"text-align: right;\">\n",
              "      <th></th>\n",
              "      <th>text</th>\n",
              "      <th>polarity</th>\n",
              "    </tr>\n",
              "  </thead>\n",
              "  <tbody>\n",
              "    <tr>\n",
              "      <th>1</th>\n",
              "      <td>@VirginAmerica plus you've added commercials to the experience... tacky.</td>\n",
              "      <td>1</td>\n",
              "    </tr>\n",
              "    <tr>\n",
              "      <th>3</th>\n",
              "      <td>@VirginAmerica it's really aggressive to blast obnoxious \"entertainment\" in your guests' faces &amp;amp; they have little recourse</td>\n",
              "      <td>0</td>\n",
              "    </tr>\n",
              "    <tr>\n",
              "      <th>4</th>\n",
              "      <td>@VirginAmerica and it's a really big bad thing about it</td>\n",
              "      <td>0</td>\n",
              "    </tr>\n",
              "    <tr>\n",
              "      <th>5</th>\n",
              "      <td>@VirginAmerica seriously would pay $30 a flight for seats that didn't have this playing.\\nit's really the only bad thing about flying VA</td>\n",
              "      <td>0</td>\n",
              "    </tr>\n",
              "    <tr>\n",
              "      <th>6</th>\n",
              "      <td>@VirginAmerica yes, nearly every time I fly VX this â€œear wormâ€ wonâ€™t go away :)</td>\n",
              "      <td>1</td>\n",
              "    </tr>\n",
              "    <tr>\n",
              "      <th>...</th>\n",
              "      <td>...</td>\n",
              "      <td>...</td>\n",
              "    </tr>\n",
              "    <tr>\n",
              "      <th>14633</th>\n",
              "      <td>@AmericanAir my flight was Cancelled Flightled, leaving tomorrow morning. Auto rebooked for a Tuesday night flight but need to arrive Monday.</td>\n",
              "      <td>0</td>\n",
              "    </tr>\n",
              "    <tr>\n",
              "      <th>14634</th>\n",
              "      <td>@AmericanAir right on cue with the delaysðŸ‘Œ</td>\n",
              "      <td>0</td>\n",
              "    </tr>\n",
              "    <tr>\n",
              "      <th>14635</th>\n",
              "      <td>@AmericanAir thank you we got on a different flight to Chicago.</td>\n",
              "      <td>1</td>\n",
              "    </tr>\n",
              "    <tr>\n",
              "      <th>14636</th>\n",
              "      <td>@AmericanAir leaving over 20 minutes Late Flight. No warnings or communication until we were 15 minutes Late Flight. That's called shitty customer svc</td>\n",
              "      <td>0</td>\n",
              "    </tr>\n",
              "    <tr>\n",
              "      <th>14638</th>\n",
              "      <td>@AmericanAir you have my money, you change my flight, and don't answer your phones! Any other suggestions so I can make my commitment??</td>\n",
              "      <td>0</td>\n",
              "    </tr>\n",
              "  </tbody>\n",
              "</table>\n",
              "<p>11541 rows × 2 columns</p>\n",
              "</div>"
            ],
            "text/plain": [
              "                                                                                                                                                         text  polarity\n",
              "1                                                                                    @VirginAmerica plus you've added commercials to the experience... tacky.         1\n",
              "3                              @VirginAmerica it's really aggressive to blast obnoxious \"entertainment\" in your guests' faces &amp; they have little recourse         0\n",
              "4                                                                                                     @VirginAmerica and it's a really big bad thing about it         0\n",
              "5                    @VirginAmerica seriously would pay $30 a flight for seats that didn't have this playing.\\nit's really the only bad thing about flying VA         0\n",
              "6                                                                       @VirginAmerica yes, nearly every time I fly VX this â€œear wormâ€ wonâ€™t go away :)         1\n",
              "...                                                                                                                                                       ...       ...\n",
              "14633           @AmericanAir my flight was Cancelled Flightled, leaving tomorrow morning. Auto rebooked for a Tuesday night flight but need to arrive Monday.         0\n",
              "14634                                                                                                           @AmericanAir right on cue with the delaysðŸ‘Œ         0\n",
              "14635                                                                                         @AmericanAir thank you we got on a different flight to Chicago.         1\n",
              "14636  @AmericanAir leaving over 20 minutes Late Flight. No warnings or communication until we were 15 minutes Late Flight. That's called shitty customer svc         0\n",
              "14638                 @AmericanAir you have my money, you change my flight, and don't answer your phones! Any other suggestions so I can make my commitment??         0\n",
              "\n",
              "[11541 rows x 2 columns]"
            ]
          },
          "metadata": {
            "tags": []
          },
          "execution_count": 7
        }
      ]
    },
    {
      "cell_type": "markdown",
      "metadata": {
        "id": "kEfxtG7kZepW"
      },
      "source": [
        "# Part 1"
      ]
    },
    {
      "cell_type": "markdown",
      "metadata": {
        "id": "K3clCP6KZkld"
      },
      "source": [
        "### Preprocessing dataset"
      ]
    },
    {
      "cell_type": "code",
      "metadata": {
        "id": "1kDOugN5_mi_"
      },
      "source": [
        "# Create a custom standardization function .\n",
        "def custom_standardization(input_data):\n",
        "    lowercase = tf.strings.lower(input_data)\n",
        "    return tf.strings.regex_replace(lowercase,'[%s]' % re.escape(string.punctuation), '')\n",
        "\n",
        "# Vocabulary size and number of words in a sequence.\n",
        "vocab_size = 10000\n",
        "sequence_length = 100\n",
        "\n",
        "# Use the text vectorization layer to normalize, split, and map strings to \n",
        "# integers. Note that the layer uses the custom standardization defined above. \n",
        "# Set maximum_sequence length as all samples are not of the same length.\n",
        "vectorization_layer = TextVectorization(\n",
        "    standardize=custom_standardization,\n",
        "    max_tokens=vocab_size,\n",
        "    output_mode='int',\n",
        "    output_sequence_length=sequence_length)\n",
        "\n",
        "# Make a text-only dataset (no labels) and call adapt to build the vocabulary.\n",
        "text_dataset = df['text'].to_numpy()\n",
        "vectorization_layer.adapt(text_dataset)"
      ],
      "execution_count": null,
      "outputs": []
    },
    {
      "cell_type": "code",
      "metadata": {
        "colab": {
          "base_uri": "https://localhost:8080/"
        },
        "id": "WM3EK1ALBiBC",
        "outputId": "4e80c540-ef61-4d1a-f765-a37714db4654"
      },
      "source": [
        "vocab = np.array(vectorization_layer.get_vocabulary())\n",
        "vocab[:20]"
      ],
      "execution_count": null,
      "outputs": [
        {
          "output_type": "execute_result",
          "data": {
            "text/plain": [
              "array(['', '[UNK]', 'to', 'the', 'i', 'a', 'united', 'you', 'for',\n",
              "       'flight', 'and', 'on', 'my', 'usairways', 'americanair', 'is',\n",
              "       'in', 'southwestair', 'of', 'jetblue'], dtype='<U160')"
            ]
          },
          "metadata": {
            "tags": []
          },
          "execution_count": 7
        }
      ]
    },
    {
      "cell_type": "code",
      "metadata": {
        "colab": {
          "base_uri": "https://localhost:8080/"
        },
        "id": "DViC-0bYBu9K",
        "outputId": "41d01961-18ac-4594-ab2c-46fd97f8abb8"
      },
      "source": [
        "print(df.iloc[1, 0])\n",
        "encoded_review = vectorization_layer(df.text)\n",
        "print(encoded_review[2].numpy())\n",
        "print(f\"\\nIndex 69 refers to the word '{vocab[69]}'\")\n",
        "print(f\"\\nIndex 10 refers to the word '{vocab[10]}'\")"
      ],
      "execution_count": null,
      "outputs": [
        {
          "output_type": "stream",
          "text": [
            "@VirginAmerica it's really aggressive to blast obnoxious \"entertainment\" in your guests' faces &amp; they have little recourse\n",
            "[100  10  69   5 120 435 193 475  86  22   0   0   0   0   0   0   0   0\n",
            "   0   0   0   0   0   0   0   0   0   0   0   0   0   0   0   0   0   0\n",
            "   0   0   0   0   0   0   0   0   0   0   0   0   0   0   0   0   0   0\n",
            "   0   0   0   0   0   0   0   0   0   0   0   0   0   0   0   0   0   0\n",
            "   0   0   0   0   0   0   0   0   0   0   0   0   0   0   0   0   0   0\n",
            "   0   0   0   0   0   0   0   0   0   0]\n",
            "\n",
            "Index 69 refers to the word 'its'\n",
            "\n",
            "Index 10 refers to the word 'and'\n"
          ],
          "name": "stdout"
        }
      ]
    },
    {
      "cell_type": "code",
      "metadata": {
        "id": "ciX6b6O2m4VC"
      },
      "source": [
        "# Split data into training and testing sets\n",
        "train_dataset, test_dataset = train_test_split(df, test_size=0.2, random_state=15)\n",
        "\n",
        "train_text = train_dataset.text.to_numpy()\n",
        "train_label = train_dataset.polarity.to_numpy()\n",
        "test_text = test_dataset.text.to_numpy()\n",
        "test_label= test_dataset.polarity.to_numpy()"
      ],
      "execution_count": null,
      "outputs": []
    },
    {
      "cell_type": "markdown",
      "metadata": {
        "id": "zgXEusU92cQC"
      },
      "source": [
        "### Train and evaluate model 1"
      ]
    },
    {
      "cell_type": "code",
      "metadata": {
        "id": "uWRGQQhQMvpO"
      },
      "source": [
        "np.random.seed(15)\n",
        "tf.random.set_seed(15)\n",
        "\n",
        "embedding_dim = 64\n",
        "\n",
        "model_1 = tf.keras.Sequential([\n",
        "    vectorization_layer,\n",
        "    Embedding(vocab_size, embedding_dim, mask_zero=True),\n",
        "    Bidirectional(LSTM(128, return_sequences=True)),\n",
        "    Bidirectional(LSTM(64)),\n",
        "    Dense(128, activation='relu'),\n",
        "    Dropout(0.25),\n",
        "    Dense(64, activation='relu'),\n",
        "    Dropout(0.25),\n",
        "    Dense(1, activation='sigmoid')\n",
        "])"
      ],
      "execution_count": null,
      "outputs": []
    },
    {
      "cell_type": "code",
      "metadata": {
        "colab": {
          "base_uri": "https://localhost:8080/"
        },
        "id": "ZhLnur6uqIRx",
        "outputId": "66e6b86a-bc73-4e69-b6e3-a1adb31da6ff"
      },
      "source": [
        "model_1.summary()"
      ],
      "execution_count": null,
      "outputs": [
        {
          "output_type": "stream",
          "text": [
            "Model: \"sequential_3\"\n",
            "_________________________________________________________________\n",
            "Layer (type)                 Output Shape              Param #   \n",
            "=================================================================\n",
            "text_vectorization (TextVect (None, 100)               0         \n",
            "_________________________________________________________________\n",
            "embedding_3 (Embedding)      (None, 100, 64)           640000    \n",
            "_________________________________________________________________\n",
            "bidirectional_6 (Bidirection (None, 100, 256)          197632    \n",
            "_________________________________________________________________\n",
            "bidirectional_7 (Bidirection (None, 128)               164352    \n",
            "_________________________________________________________________\n",
            "dense_9 (Dense)              (None, 128)               16512     \n",
            "_________________________________________________________________\n",
            "dropout_6 (Dropout)          (None, 128)               0         \n",
            "_________________________________________________________________\n",
            "dense_10 (Dense)             (None, 64)                8256      \n",
            "_________________________________________________________________\n",
            "dropout_7 (Dropout)          (None, 64)                0         \n",
            "_________________________________________________________________\n",
            "dense_11 (Dense)             (None, 1)                 65        \n",
            "=================================================================\n",
            "Total params: 1,026,817\n",
            "Trainable params: 1,026,817\n",
            "Non-trainable params: 0\n",
            "_________________________________________________________________\n"
          ],
          "name": "stdout"
        }
      ]
    },
    {
      "cell_type": "code",
      "metadata": {
        "id": "uHLHMFeEOLav"
      },
      "source": [
        "model_1.compile(loss=tf.keras.losses.BinaryCrossentropy(from_logits=True),\n",
        "              optimizer='sgd',\n",
        "              metrics=['accuracy'])"
      ],
      "execution_count": null,
      "outputs": []
    },
    {
      "cell_type": "code",
      "metadata": {
        "colab": {
          "base_uri": "https://localhost:8080/"
        },
        "id": "bQUMVD6ZOupe",
        "outputId": "656492ab-2424-43c7-fd25-8bb97d4a9ae3"
      },
      "source": [
        "history = model_1.fit(x=train_text, y=train_label, epochs=40, validation_split=0.1)"
      ],
      "execution_count": null,
      "outputs": [
        {
          "output_type": "stream",
          "text": [
            "Epoch 1/40\n",
            "260/260 [==============================] - 56s 39ms/step - loss: 0.5873 - accuracy: 0.7883 - val_loss: 0.5133 - val_accuracy: 0.7792\n",
            "Epoch 2/40\n",
            "260/260 [==============================] - 6s 24ms/step - loss: 0.4982 - accuracy: 0.7954 - val_loss: 0.5095 - val_accuracy: 0.7792\n",
            "Epoch 3/40\n",
            "260/260 [==============================] - 6s 25ms/step - loss: 0.4956 - accuracy: 0.7927 - val_loss: 0.5044 - val_accuracy: 0.7792\n",
            "Epoch 4/40\n",
            "260/260 [==============================] - 6s 24ms/step - loss: 0.4795 - accuracy: 0.7974 - val_loss: 0.4964 - val_accuracy: 0.7792\n",
            "Epoch 5/40\n",
            "260/260 [==============================] - 6s 25ms/step - loss: 0.4766 - accuracy: 0.7956 - val_loss: 0.4887 - val_accuracy: 0.7792\n",
            "Epoch 6/40\n",
            "260/260 [==============================] - 6s 24ms/step - loss: 0.4813 - accuracy: 0.7879 - val_loss: 0.4810 - val_accuracy: 0.7792\n",
            "Epoch 7/40\n",
            "260/260 [==============================] - 6s 25ms/step - loss: 0.4633 - accuracy: 0.7967 - val_loss: 0.4723 - val_accuracy: 0.7792\n",
            "Epoch 8/40\n",
            "260/260 [==============================] - 6s 24ms/step - loss: 0.4533 - accuracy: 0.7971 - val_loss: 0.4677 - val_accuracy: 0.7792\n",
            "Epoch 9/40\n",
            "260/260 [==============================] - 6s 24ms/step - loss: 0.4615 - accuracy: 0.7969 - val_loss: 0.4665 - val_accuracy: 0.7987\n",
            "Epoch 10/40\n",
            "260/260 [==============================] - 6s 24ms/step - loss: 0.4589 - accuracy: 0.7974 - val_loss: 0.4646 - val_accuracy: 0.8030\n",
            "Epoch 11/40\n",
            "260/260 [==============================] - 6s 24ms/step - loss: 0.4494 - accuracy: 0.8063 - val_loss: 0.4655 - val_accuracy: 0.8041\n",
            "Epoch 12/40\n",
            "260/260 [==============================] - 6s 25ms/step - loss: 0.4548 - accuracy: 0.8092 - val_loss: 0.4628 - val_accuracy: 0.8063\n",
            "Epoch 13/40\n",
            "260/260 [==============================] - 7s 25ms/step - loss: 0.4476 - accuracy: 0.8108 - val_loss: 0.4684 - val_accuracy: 0.8019\n",
            "Epoch 14/40\n",
            "260/260 [==============================] - 7s 25ms/step - loss: 0.4367 - accuracy: 0.8118 - val_loss: 0.4601 - val_accuracy: 0.8074\n",
            "Epoch 15/40\n",
            "260/260 [==============================] - 6s 24ms/step - loss: 0.4255 - accuracy: 0.8187 - val_loss: 0.4570 - val_accuracy: 0.8052\n",
            "Epoch 16/40\n",
            "260/260 [==============================] - 6s 25ms/step - loss: 0.4367 - accuracy: 0.8115 - val_loss: 0.4595 - val_accuracy: 0.8052\n",
            "Epoch 17/40\n",
            "260/260 [==============================] - 6s 24ms/step - loss: 0.4333 - accuracy: 0.8107 - val_loss: 0.4449 - val_accuracy: 0.8139\n",
            "Epoch 18/40\n",
            "260/260 [==============================] - 6s 24ms/step - loss: 0.4273 - accuracy: 0.8182 - val_loss: 0.4351 - val_accuracy: 0.8333\n",
            "Epoch 19/40\n",
            "260/260 [==============================] - 6s 24ms/step - loss: 0.4141 - accuracy: 0.8276 - val_loss: 0.4267 - val_accuracy: 0.8290\n",
            "Epoch 20/40\n",
            "260/260 [==============================] - 6s 24ms/step - loss: 0.3978 - accuracy: 0.8407 - val_loss: 0.6179 - val_accuracy: 0.6071\n",
            "Epoch 21/40\n",
            "260/260 [==============================] - 6s 24ms/step - loss: 0.3804 - accuracy: 0.8439 - val_loss: 0.3855 - val_accuracy: 0.8539\n",
            "Epoch 22/40\n",
            "260/260 [==============================] - 6s 25ms/step - loss: 0.3518 - accuracy: 0.8646 - val_loss: 0.3992 - val_accuracy: 0.8463\n",
            "Epoch 23/40\n",
            "260/260 [==============================] - 6s 24ms/step - loss: 0.3512 - accuracy: 0.8604 - val_loss: 0.3434 - val_accuracy: 0.8734\n",
            "Epoch 24/40\n",
            "260/260 [==============================] - 6s 24ms/step - loss: 0.3284 - accuracy: 0.8675 - val_loss: 0.4374 - val_accuracy: 0.8496\n",
            "Epoch 25/40\n",
            "260/260 [==============================] - 6s 25ms/step - loss: 0.3326 - accuracy: 0.8700 - val_loss: 0.3520 - val_accuracy: 0.8755\n",
            "Epoch 26/40\n",
            "260/260 [==============================] - 6s 25ms/step - loss: 0.3106 - accuracy: 0.8760 - val_loss: 0.3089 - val_accuracy: 0.8885\n",
            "Epoch 27/40\n",
            "260/260 [==============================] - 6s 24ms/step - loss: 0.2948 - accuracy: 0.8829 - val_loss: 0.3314 - val_accuracy: 0.8788\n",
            "Epoch 28/40\n",
            "260/260 [==============================] - 6s 25ms/step - loss: 0.2768 - accuracy: 0.8927 - val_loss: 0.2938 - val_accuracy: 0.8918\n",
            "Epoch 29/40\n",
            "260/260 [==============================] - 6s 25ms/step - loss: 0.2510 - accuracy: 0.9060 - val_loss: 0.4166 - val_accuracy: 0.7911\n",
            "Epoch 30/40\n",
            "260/260 [==============================] - 6s 24ms/step - loss: 0.2486 - accuracy: 0.9074 - val_loss: 0.3023 - val_accuracy: 0.8874\n",
            "Epoch 31/40\n",
            "260/260 [==============================] - 6s 24ms/step - loss: 0.2471 - accuracy: 0.9057 - val_loss: 0.2747 - val_accuracy: 0.8961\n",
            "Epoch 32/40\n",
            "260/260 [==============================] - 6s 24ms/step - loss: 0.2339 - accuracy: 0.9108 - val_loss: 0.3335 - val_accuracy: 0.8864\n",
            "Epoch 33/40\n",
            "260/260 [==============================] - 6s 25ms/step - loss: 0.2344 - accuracy: 0.9126 - val_loss: 0.2906 - val_accuracy: 0.8983\n",
            "Epoch 34/40\n",
            "260/260 [==============================] - 6s 24ms/step - loss: 0.2070 - accuracy: 0.9206 - val_loss: 0.2669 - val_accuracy: 0.8961\n",
            "Epoch 35/40\n",
            "260/260 [==============================] - 6s 25ms/step - loss: 0.2111 - accuracy: 0.9177 - val_loss: 0.4134 - val_accuracy: 0.8690\n",
            "Epoch 36/40\n",
            "260/260 [==============================] - 6s 24ms/step - loss: 0.2057 - accuracy: 0.9201 - val_loss: 0.3046 - val_accuracy: 0.8961\n",
            "Epoch 37/40\n",
            "260/260 [==============================] - 6s 25ms/step - loss: 0.2142 - accuracy: 0.9120 - val_loss: 0.3509 - val_accuracy: 0.8907\n",
            "Epoch 38/40\n",
            "260/260 [==============================] - 6s 25ms/step - loss: 0.1926 - accuracy: 0.9263 - val_loss: 0.3291 - val_accuracy: 0.8950\n",
            "Epoch 39/40\n",
            "260/260 [==============================] - 6s 25ms/step - loss: 0.1831 - accuracy: 0.9284 - val_loss: 0.2976 - val_accuracy: 0.8939\n",
            "Epoch 40/40\n",
            "260/260 [==============================] - 6s 25ms/step - loss: 0.1786 - accuracy: 0.9287 - val_loss: 0.3240 - val_accuracy: 0.8929\n"
          ],
          "name": "stdout"
        }
      ]
    },
    {
      "cell_type": "code",
      "metadata": {
        "colab": {
          "base_uri": "https://localhost:8080/"
        },
        "id": "7ggBsxRSPJMd",
        "outputId": "7a9e6999-e3bb-40db-9403-c4a4c9b35c1b"
      },
      "source": [
        "train_loss, train_acc = model_1.evaluate(x=train_text, y=train_label, verbose=0)\n",
        "print('Train Loss: {:.4f}'.format(train_loss))\n",
        "print('Train Accuracy: {:.4f}'.format(train_acc))\n",
        "\n",
        "print()\n",
        "\n",
        "test_loss, test_acc = model_1.evaluate(x=test_text, y=test_label, verbose=0)\n",
        "print('Test Loss: {:.4f}'.format(test_loss))\n",
        "print('Test Accuracy: {:.4f}'.format(test_acc))"
      ],
      "execution_count": null,
      "outputs": [
        {
          "output_type": "stream",
          "text": [
            "Train Loss: 0.1882\n",
            "Train Accuracy: 0.9282\n",
            "\n",
            "Test Loss: 0.2607\n",
            "Test Accuracy: 0.9108\n"
          ],
          "name": "stdout"
        }
      ]
    },
    {
      "cell_type": "code",
      "metadata": {
        "id": "1dZQQLAOPecV"
      },
      "source": [
        "def plot_graphs(history, metric):\n",
        "  plt.plot(history.history[metric])\n",
        "  plt.plot(history.history['val_'+metric], '') # for validation results\n",
        "  plt.xlabel(\"Epochs\")\n",
        "  plt.ylabel(metric)\n",
        "  plt.legend([metric, 'val_'+metric])"
      ],
      "execution_count": null,
      "outputs": []
    },
    {
      "cell_type": "code",
      "metadata": {
        "colab": {
          "base_uri": "https://localhost:8080/",
          "height": 392
        },
        "id": "vlq5HVnUPZZg",
        "outputId": "32804b45-14b3-404b-c8f6-daccb290cdf0"
      },
      "source": [
        "plt.figure(figsize=(16,6))\n",
        "plt.subplot(1,2,1)\n",
        "plot_graphs(history, 'accuracy')\n",
        "plt.subplot(1,2,2)\n",
        "plot_graphs(history, 'loss')"
      ],
      "execution_count": null,
      "outputs": [
        {
          "output_type": "display_data",
          "data": {
            "image/png": "[encoded data removed]",
            "text/plain": [
              "<Figure size 1152x432 with 2 Axes>"
            ]
          },
          "metadata": {
            "tags": [],
            "needs_background": "light"
          }
        }
      ]
    },
    {
      "cell_type": "markdown",
      "metadata": {
        "id": "rdeeSiHV2U55"
      },
      "source": [
        "# Part 2\n",
        "\n"
      ]
    },
    {
      "cell_type": "markdown",
      "metadata": {
        "id": "Z-DtX0K-aa78"
      },
      "source": [
        "### Preprocessing dataset"
      ]
    },
    {
      "cell_type": "code",
      "metadata": {
        "colab": {
          "base_uri": "https://localhost:8080/",
          "height": 493
        },
        "id": "nqzRCK_1bujp",
        "outputId": "5469aa96-f852-4bce-acb0-be7162d23ecf"
      },
      "source": [
        "# Make a copy of dataset\n",
        "df_2 = df.copy()\n",
        "df_2"
      ],
      "execution_count": null,
      "outputs": [
        {
          "output_type": "execute_result",
          "data": {
            "text/html": [
              "<div>\n",
              "<style scoped>\n",
              "    .dataframe tbody tr th:only-of-type {\n",
              "        vertical-align: middle;\n",
              "    }\n",
              "\n",
              "    .dataframe tbody tr th {\n",
              "        vertical-align: top;\n",
              "    }\n",
              "\n",
              "    .dataframe thead th {\n",
              "        text-align: right;\n",
              "    }\n",
              "</style>\n",
              "<table border=\"1\" class=\"dataframe\">\n",
              "  <thead>\n",
              "    <tr style=\"text-align: right;\">\n",
              "      <th></th>\n",
              "      <th>text</th>\n",
              "      <th>polarity</th>\n",
              "    </tr>\n",
              "  </thead>\n",
              "  <tbody>\n",
              "    <tr>\n",
              "      <th>1</th>\n",
              "      <td>@VirginAmerica plus you've added commercials to the experience... tacky.</td>\n",
              "      <td>1</td>\n",
              "    </tr>\n",
              "    <tr>\n",
              "      <th>3</th>\n",
              "      <td>@VirginAmerica it's really aggressive to blast obnoxious \"entertainment\" in your guests' faces &amp;amp; they have little recourse</td>\n",
              "      <td>0</td>\n",
              "    </tr>\n",
              "    <tr>\n",
              "      <th>4</th>\n",
              "      <td>@VirginAmerica and it's a really big bad thing about it</td>\n",
              "      <td>0</td>\n",
              "    </tr>\n",
              "    <tr>\n",
              "      <th>5</th>\n",
              "      <td>@VirginAmerica seriously would pay $30 a flight for seats that didn't have this playing.\\nit's really the only bad thing about flying VA</td>\n",
              "      <td>0</td>\n",
              "    </tr>\n",
              "    <tr>\n",
              "      <th>6</th>\n",
              "      <td>@VirginAmerica yes, nearly every time I fly VX this â€œear wormâ€ wonâ€™t go away :)</td>\n",
              "      <td>1</td>\n",
              "    </tr>\n",
              "    <tr>\n",
              "      <th>...</th>\n",
              "      <td>...</td>\n",
              "      <td>...</td>\n",
              "    </tr>\n",
              "    <tr>\n",
              "      <th>14633</th>\n",
              "      <td>@AmericanAir my flight was Cancelled Flightled, leaving tomorrow morning. Auto rebooked for a Tuesday night flight but need to arrive Monday.</td>\n",
              "      <td>0</td>\n",
              "    </tr>\n",
              "    <tr>\n",
              "      <th>14634</th>\n",
              "      <td>@AmericanAir right on cue with the delaysðŸ‘Œ</td>\n",
              "      <td>0</td>\n",
              "    </tr>\n",
              "    <tr>\n",
              "      <th>14635</th>\n",
              "      <td>@AmericanAir thank you we got on a different flight to Chicago.</td>\n",
              "      <td>1</td>\n",
              "    </tr>\n",
              "    <tr>\n",
              "      <th>14636</th>\n",
              "      <td>@AmericanAir leaving over 20 minutes Late Flight. No warnings or communication until we were 15 minutes Late Flight. That's called shitty customer svc</td>\n",
              "      <td>0</td>\n",
              "    </tr>\n",
              "    <tr>\n",
              "      <th>14638</th>\n",
              "      <td>@AmericanAir you have my money, you change my flight, and don't answer your phones! Any other suggestions so I can make my commitment??</td>\n",
              "      <td>0</td>\n",
              "    </tr>\n",
              "  </tbody>\n",
              "</table>\n",
              "<p>11541 rows × 2 columns</p>\n",
              "</div>"
            ],
            "text/plain": [
              "                                                                                                                                                         text  polarity\n",
              "1                                                                                    @VirginAmerica plus you've added commercials to the experience... tacky.         1\n",
              "3                              @VirginAmerica it's really aggressive to blast obnoxious \"entertainment\" in your guests' faces &amp; they have little recourse         0\n",
              "4                                                                                                     @VirginAmerica and it's a really big bad thing about it         0\n",
              "5                    @VirginAmerica seriously would pay $30 a flight for seats that didn't have this playing.\\nit's really the only bad thing about flying VA         0\n",
              "6                                                                       @VirginAmerica yes, nearly every time I fly VX this â€œear wormâ€ wonâ€™t go away :)         1\n",
              "...                                                                                                                                                       ...       ...\n",
              "14633           @AmericanAir my flight was Cancelled Flightled, leaving tomorrow morning. Auto rebooked for a Tuesday night flight but need to arrive Monday.         0\n",
              "14634                                                                                                           @AmericanAir right on cue with the delaysðŸ‘Œ         0\n",
              "14635                                                                                         @AmericanAir thank you we got on a different flight to Chicago.         1\n",
              "14636  @AmericanAir leaving over 20 minutes Late Flight. No warnings or communication until we were 15 minutes Late Flight. That's called shitty customer svc         0\n",
              "14638                 @AmericanAir you have my money, you change my flight, and don't answer your phones! Any other suggestions so I can make my commitment??         0\n",
              "\n",
              "[11541 rows x 2 columns]"
            ]
          },
          "metadata": {
            "tags": []
          },
          "execution_count": 8
        }
      ]
    },
    {
      "cell_type": "code",
      "metadata": {
        "colab": {
          "base_uri": "https://localhost:8080/"
        },
        "id": "IQtMX8gYOtyO",
        "outputId": "4bc31f3f-9854-477a-c2c0-88da0eed114f"
      },
      "source": [
        "# Convert each tweet into a list of words\n",
        "df_2['text'] = df_2['text'].str.split()\n",
        "\n",
        "# Remove stop words\n",
        "nltk.download('stopwords')\n",
        "stops = set(stopwords.words(\"english\"))                  \n",
        "\n",
        "def remove_stops(row):\n",
        "    text = row['text']\n",
        "    filtered_text = [word for word in text if not word in stops]\n",
        "    return (filtered_text)\n",
        "\n",
        "# Apply preprocessing functions to dataset and store values in separate columns\n",
        "df_2['processed_text'] = df_2.apply(remove_stops, axis=1)"
      ],
      "execution_count": null,
      "outputs": [
        {
          "output_type": "stream",
          "text": [
            "[nltk_data] Downloading package stopwords to /root/nltk_data...\n",
            "[nltk_data]   Unzipping corpora/stopwords.zip.\n"
          ],
          "name": "stdout"
        }
      ]
    },
    {
      "cell_type": "code",
      "metadata": {
        "colab": {
          "base_uri": "https://localhost:8080/",
          "height": 650
        },
        "id": "UWWahVl5nULx",
        "outputId": "68dc7078-5fc1-42af-bcf1-fbebdf98df19"
      },
      "source": [
        "df_2"
      ],
      "execution_count": null,
      "outputs": [
        {
          "output_type": "execute_result",
          "data": {
            "text/html": [
              "<div>\n",
              "<style scoped>\n",
              "    .dataframe tbody tr th:only-of-type {\n",
              "        vertical-align: middle;\n",
              "    }\n",
              "\n",
              "    .dataframe tbody tr th {\n",
              "        vertical-align: top;\n",
              "    }\n",
              "\n",
              "    .dataframe thead th {\n",
              "        text-align: right;\n",
              "    }\n",
              "</style>\n",
              "<table border=\"1\" class=\"dataframe\">\n",
              "  <thead>\n",
              "    <tr style=\"text-align: right;\">\n",
              "      <th></th>\n",
              "      <th>text</th>\n",
              "      <th>polarity</th>\n",
              "      <th>processed_text</th>\n",
              "    </tr>\n",
              "  </thead>\n",
              "  <tbody>\n",
              "    <tr>\n",
              "      <th>1</th>\n",
              "      <td>[@VirginAmerica, plus, you've, added, commercials, to, the, experience..., tacky.]</td>\n",
              "      <td>1</td>\n",
              "      <td>[@VirginAmerica, plus, added, commercials, experience..., tacky.]</td>\n",
              "    </tr>\n",
              "    <tr>\n",
              "      <th>3</th>\n",
              "      <td>[@VirginAmerica, it's, really, aggressive, to, blast, obnoxious, \"entertainment\", in, your, guests', faces, &amp;amp;, they, have, little, recourse]</td>\n",
              "      <td>0</td>\n",
              "      <td>[@VirginAmerica, really, aggressive, blast, obnoxious, \"entertainment\", guests', faces, &amp;amp;, little, recourse]</td>\n",
              "    </tr>\n",
              "    <tr>\n",
              "      <th>4</th>\n",
              "      <td>[@VirginAmerica, and, it's, a, really, big, bad, thing, about, it]</td>\n",
              "      <td>0</td>\n",
              "      <td>[@VirginAmerica, really, big, bad, thing]</td>\n",
              "    </tr>\n",
              "    <tr>\n",
              "      <th>5</th>\n",
              "      <td>[@VirginAmerica, seriously, would, pay, $30, a, flight, for, seats, that, didn't, have, this, playing., it's, really, the, only, bad, thing, about, flying, VA]</td>\n",
              "      <td>0</td>\n",
              "      <td>[@VirginAmerica, seriously, would, pay, $30, flight, seats, playing., really, bad, thing, flying, VA]</td>\n",
              "    </tr>\n",
              "    <tr>\n",
              "      <th>6</th>\n",
              "      <td>[@VirginAmerica, yes,, nearly, every, time, I, fly, VX, this, â€œear, wormâ€, wonâ€™t, go, away, :)]</td>\n",
              "      <td>1</td>\n",
              "      <td>[@VirginAmerica, yes,, nearly, every, time, I, fly, VX, â€œear, wormâ€, wonâ€™t, go, away, :)]</td>\n",
              "    </tr>\n",
              "    <tr>\n",
              "      <th>...</th>\n",
              "      <td>...</td>\n",
              "      <td>...</td>\n",
              "      <td>...</td>\n",
              "    </tr>\n",
              "    <tr>\n",
              "      <th>14633</th>\n",
              "      <td>[@AmericanAir, my, flight, was, Cancelled, Flightled,, leaving, tomorrow, morning., Auto, rebooked, for, a, Tuesday, night, flight, but, need, to, arrive, Monday.]</td>\n",
              "      <td>0</td>\n",
              "      <td>[@AmericanAir, flight, Cancelled, Flightled,, leaving, tomorrow, morning., Auto, rebooked, Tuesday, night, flight, need, arrive, Monday.]</td>\n",
              "    </tr>\n",
              "    <tr>\n",
              "      <th>14634</th>\n",
              "      <td>[@AmericanAir, right, on, cue, with, the, delaysðŸ‘Œ]</td>\n",
              "      <td>0</td>\n",
              "      <td>[@AmericanAir, right, cue, delaysðŸ‘Œ]</td>\n",
              "    </tr>\n",
              "    <tr>\n",
              "      <th>14635</th>\n",
              "      <td>[@AmericanAir, thank, you, we, got, on, a, different, flight, to, Chicago.]</td>\n",
              "      <td>1</td>\n",
              "      <td>[@AmericanAir, thank, got, different, flight, Chicago.]</td>\n",
              "    </tr>\n",
              "    <tr>\n",
              "      <th>14636</th>\n",
              "      <td>[@AmericanAir, leaving, over, 20, minutes, Late, Flight., No, warnings, or, communication, until, we, were, 15, minutes, Late, Flight., That's, called, shitty, customer, svc]</td>\n",
              "      <td>0</td>\n",
              "      <td>[@AmericanAir, leaving, 20, minutes, Late, Flight., No, warnings, communication, 15, minutes, Late, Flight., That's, called, shitty, customer, svc]</td>\n",
              "    </tr>\n",
              "    <tr>\n",
              "      <th>14638</th>\n",
              "      <td>[@AmericanAir, you, have, my, money,, you, change, my, flight,, and, don't, answer, your, phones!, Any, other, suggestions, so, I, can, make, my, commitment??]</td>\n",
              "      <td>0</td>\n",
              "      <td>[@AmericanAir, money,, change, flight,, answer, phones!, Any, suggestions, I, make, commitment??]</td>\n",
              "    </tr>\n",
              "  </tbody>\n",
              "</table>\n",
              "<p>11541 rows × 3 columns</p>\n",
              "</div>"
            ],
            "text/plain": [
              "                                                                                                                                                                                 text  ...                                                                                                                                       processed_text\n",
              "1                                                                                                  [@VirginAmerica, plus, you've, added, commercials, to, the, experience..., tacky.]  ...                                                                                    [@VirginAmerica, plus, added, commercials, experience..., tacky.]\n",
              "3                                    [@VirginAmerica, it's, really, aggressive, to, blast, obnoxious, \"entertainment\", in, your, guests', faces, &amp;, they, have, little, recourse]  ...                                     [@VirginAmerica, really, aggressive, blast, obnoxious, \"entertainment\", guests', faces, &amp;, little, recourse]\n",
              "4                                                                                                                  [@VirginAmerica, and, it's, a, really, big, bad, thing, about, it]  ...                                                                                                            [@VirginAmerica, really, big, bad, thing]\n",
              "5                     [@VirginAmerica, seriously, would, pay, $30, a, flight, for, seats, that, didn't, have, this, playing., it's, really, the, only, bad, thing, about, flying, VA]  ...                                                [@VirginAmerica, seriously, would, pay, $30, flight, seats, playing., really, bad, thing, flying, VA]\n",
              "6                                                                               [@VirginAmerica, yes,, nearly, every, time, I, fly, VX, this, â€œear, wormâ€, wonâ€™t, go, away, :)]  ...                                                      [@VirginAmerica, yes,, nearly, every, time, I, fly, VX, â€œear, wormâ€, wonâ€™t, go, away, :)]\n",
              "...                                                                                                                                                                               ...  ...                                                                                                                                                  ...\n",
              "14633             [@AmericanAir, my, flight, was, Cancelled, Flightled,, leaving, tomorrow, morning., Auto, rebooked, for, a, Tuesday, night, flight, but, need, to, arrive, Monday.]  ...            [@AmericanAir, flight, Cancelled, Flightled,, leaving, tomorrow, morning., Auto, rebooked, Tuesday, night, flight, need, arrive, Monday.]\n",
              "14634                                                                                                                           [@AmericanAir, right, on, cue, with, the, delaysðŸ‘Œ]  ...                                                                                                               [@AmericanAir, right, cue, delaysðŸ‘Œ]\n",
              "14635                                                                                                     [@AmericanAir, thank, you, we, got, on, a, different, flight, to, Chicago.]  ...                                                                                              [@AmericanAir, thank, got, different, flight, Chicago.]\n",
              "14636  [@AmericanAir, leaving, over, 20, minutes, Late, Flight., No, warnings, or, communication, until, we, were, 15, minutes, Late, Flight., That's, called, shitty, customer, svc]  ...  [@AmericanAir, leaving, 20, minutes, Late, Flight., No, warnings, communication, 15, minutes, Late, Flight., That's, called, shitty, customer, svc]\n",
              "14638                 [@AmericanAir, you, have, my, money,, you, change, my, flight,, and, don't, answer, your, phones!, Any, other, suggestions, so, I, can, make, my, commitment??]  ...                                                    [@AmericanAir, money,, change, flight,, answer, phones!, Any, suggestions, I, make, commitment??]\n",
              "\n",
              "[11541 rows x 3 columns]"
            ]
          },
          "metadata": {
            "tags": []
          },
          "execution_count": 10
        }
      ]
    },
    {
      "cell_type": "code",
      "metadata": {
        "id": "FRMVFZIiNc8G"
      },
      "source": [
        "# Join words back into sentences\n",
        "def rejoin_words(row):\n",
        "    text = row['processed_text']\n",
        "    joined_words = ( \" \".join(text))\n",
        "    return joined_words\n",
        "\n",
        "df_2['processed_text'] = df_2.apply(rejoin_words, axis=1) "
      ],
      "execution_count": null,
      "outputs": []
    },
    {
      "cell_type": "code",
      "metadata": {
        "colab": {
          "base_uri": "https://localhost:8080/",
          "height": 441
        },
        "id": "ksq8LnR3NyAJ",
        "outputId": "41e8212a-3ff7-4f7c-a7b8-ed3d61a756e3"
      },
      "source": [
        "# Drop unnecessary columns\n",
        "df_2.drop(columns=['text'], inplace=True)\n",
        "df_2"
      ],
      "execution_count": null,
      "outputs": [
        {
          "output_type": "execute_result",
          "data": {
            "text/html": [
              "<div>\n",
              "<style scoped>\n",
              "    .dataframe tbody tr th:only-of-type {\n",
              "        vertical-align: middle;\n",
              "    }\n",
              "\n",
              "    .dataframe tbody tr th {\n",
              "        vertical-align: top;\n",
              "    }\n",
              "\n",
              "    .dataframe thead th {\n",
              "        text-align: right;\n",
              "    }\n",
              "</style>\n",
              "<table border=\"1\" class=\"dataframe\">\n",
              "  <thead>\n",
              "    <tr style=\"text-align: right;\">\n",
              "      <th></th>\n",
              "      <th>polarity</th>\n",
              "      <th>processed_text</th>\n",
              "    </tr>\n",
              "  </thead>\n",
              "  <tbody>\n",
              "    <tr>\n",
              "      <th>1</th>\n",
              "      <td>1</td>\n",
              "      <td>@VirginAmerica plus added commercials experience... tacky.</td>\n",
              "    </tr>\n",
              "    <tr>\n",
              "      <th>3</th>\n",
              "      <td>0</td>\n",
              "      <td>@VirginAmerica really aggressive blast obnoxious \"entertainment\" guests' faces &amp;amp; little recourse</td>\n",
              "    </tr>\n",
              "    <tr>\n",
              "      <th>4</th>\n",
              "      <td>0</td>\n",
              "      <td>@VirginAmerica really big bad thing</td>\n",
              "    </tr>\n",
              "    <tr>\n",
              "      <th>5</th>\n",
              "      <td>0</td>\n",
              "      <td>@VirginAmerica seriously would pay $30 flight seats playing. really bad thing flying VA</td>\n",
              "    </tr>\n",
              "    <tr>\n",
              "      <th>6</th>\n",
              "      <td>1</td>\n",
              "      <td>@VirginAmerica yes, nearly every time I fly VX â€œear wormâ€ wonâ€™t go away :)</td>\n",
              "    </tr>\n",
              "    <tr>\n",
              "      <th>...</th>\n",
              "      <td>...</td>\n",
              "      <td>...</td>\n",
              "    </tr>\n",
              "    <tr>\n",
              "      <th>14633</th>\n",
              "      <td>0</td>\n",
              "      <td>@AmericanAir flight Cancelled Flightled, leaving tomorrow morning. Auto rebooked Tuesday night flight need arrive Monday.</td>\n",
              "    </tr>\n",
              "    <tr>\n",
              "      <th>14634</th>\n",
              "      <td>0</td>\n",
              "      <td>@AmericanAir right cue delaysðŸ‘Œ</td>\n",
              "    </tr>\n",
              "    <tr>\n",
              "      <th>14635</th>\n",
              "      <td>1</td>\n",
              "      <td>@AmericanAir thank got different flight Chicago.</td>\n",
              "    </tr>\n",
              "    <tr>\n",
              "      <th>14636</th>\n",
              "      <td>0</td>\n",
              "      <td>@AmericanAir leaving 20 minutes Late Flight. No warnings communication 15 minutes Late Flight. That's called shitty customer svc</td>\n",
              "    </tr>\n",
              "    <tr>\n",
              "      <th>14638</th>\n",
              "      <td>0</td>\n",
              "      <td>@AmericanAir money, change flight, answer phones! Any suggestions I make commitment??</td>\n",
              "    </tr>\n",
              "  </tbody>\n",
              "</table>\n",
              "<p>11541 rows × 2 columns</p>\n",
              "</div>"
            ],
            "text/plain": [
              "       polarity                                                                                                                    processed_text\n",
              "1             1                                                                        @VirginAmerica plus added commercials experience... tacky.\n",
              "3             0                              @VirginAmerica really aggressive blast obnoxious \"entertainment\" guests' faces &amp; little recourse\n",
              "4             0                                                                                               @VirginAmerica really big bad thing\n",
              "5             0                                           @VirginAmerica seriously would pay $30 flight seats playing. really bad thing flying VA\n",
              "6             1                                                  @VirginAmerica yes, nearly every time I fly VX â€œear wormâ€ wonâ€™t go away :)\n",
              "...         ...                                                                                                                               ...\n",
              "14633         0         @AmericanAir flight Cancelled Flightled, leaving tomorrow morning. Auto rebooked Tuesday night flight need arrive Monday.\n",
              "14634         0                                                                                                 @AmericanAir right cue delaysðŸ‘Œ\n",
              "14635         1                                                                                  @AmericanAir thank got different flight Chicago.\n",
              "14636         0  @AmericanAir leaving 20 minutes Late Flight. No warnings communication 15 minutes Late Flight. That's called shitty customer svc\n",
              "14638         0                                             @AmericanAir money, change flight, answer phones! Any suggestions I make commitment??\n",
              "\n",
              "[11541 rows x 2 columns]"
            ]
          },
          "metadata": {
            "tags": []
          },
          "execution_count": 12
        }
      ]
    },
    {
      "cell_type": "code",
      "metadata": {
        "id": "C4C6AD2i6wHn"
      },
      "source": [
        "# Create a custom standardization function to strip twitter usernames/handlers.\n",
        "def custom_standardization(input_data):\n",
        "    lowercase = tf.strings.lower(input_data)\n",
        "    removed_punctuation = tf.strings.regex_replace(lowercase,'[%s]' % re.escape(string.punctuation), '')\n",
        "    removed_tweets_handle = tf.strings.regex_replace(removed_punctuation, '([@][\\w_-]+)', '')\n",
        "    return removed_tweets_handle\n",
        "\n",
        "# Vocabulary size and number of words in a sequence.\n",
        "vocab_size = 10000\n",
        "sequence_length = 100\n",
        "\n",
        "# Use the text vectorization layer to normalize, split, and map strings to \n",
        "# integers. Note that the layer uses the custom standardization defined above. \n",
        "# Set maximum_sequence length as all samples are not of the same length.\n",
        "vectorization_layer = TextVectorization(\n",
        "    standardize=custom_standardization,\n",
        "    max_tokens=vocab_size,\n",
        "    output_mode='int',\n",
        "    output_sequence_length=sequence_length)\n",
        "\n",
        "# Make a text-only dataset (no labels) and call adapt to build the vocabulary.\n",
        "text_dataset = df_2['processed_text'].to_numpy()\n",
        "vectorization_layer.adapt(text_dataset)"
      ],
      "execution_count": null,
      "outputs": []
    },
    {
      "cell_type": "code",
      "metadata": {
        "id": "nSfyZKA_RW4v"
      },
      "source": [
        "# Split data into training and testing sets\n",
        "train_dataset_2, test_dataset_2 = train_test_split(df_2, test_size=0.2, random_state=15)\n",
        "\n",
        "train_text_2 = train_dataset_2.processed_text.to_numpy()\n",
        "train_label_2 = train_dataset_2.polarity.to_numpy()\n",
        "test_text_2 = test_dataset_2.processed_text.to_numpy()\n",
        "test_label_2= test_dataset_2.polarity.to_numpy()"
      ],
      "execution_count": null,
      "outputs": []
    },
    {
      "cell_type": "markdown",
      "metadata": {
        "id": "uSHf-mSSG7Og"
      },
      "source": [
        "### Train and evaluate model 2"
      ]
    },
    {
      "cell_type": "code",
      "metadata": {
        "id": "lzIJXDLIdGlu"
      },
      "source": [
        "from tensorflow.keras.regularizers import l1, l2, l1_l2"
      ],
      "execution_count": null,
      "outputs": []
    },
    {
      "cell_type": "code",
      "metadata": {
        "id": "m7oFa47EXXTA"
      },
      "source": [
        "np.random.seed(112)\n",
        "tf.random.set_seed(20)\n",
        "\n",
        "embedding_dim = 64\n",
        "\n",
        "model_2 = tf.keras.Sequential([\n",
        "    vectorization_layer,\n",
        "    Embedding(vocab_size, embedding_dim, mask_zero=True),\n",
        "    Bidirectional(LSTM(16)),\n",
        "    BatchNormalization(),\n",
        "    Dense(32, activation='relu', kernel_regularizer='l2'),\n",
        "    Dropout(0.5),\n",
        "    BatchNormalization(),\n",
        "    Dense(1, activation='sigmoid')\n",
        "])"
      ],
      "execution_count": null,
      "outputs": []
    },
    {
      "cell_type": "code",
      "metadata": {
        "id": "b7D9VNQ32gnv"
      },
      "source": [
        "# Add learning rate scheduling\n",
        "lr_schedule = tf.keras.optimizers.schedules.ExponentialDecay(\n",
        "    0.01,\n",
        "    decay_steps=100000,\n",
        "    decay_rate=0.95,\n",
        "    staircase=True)\n",
        "\n",
        "model_2.compile(loss=tf.keras.losses.BinaryCrossentropy(from_logits=True),\n",
        "              optimizer=tf.keras.optimizers.Adam(learning_rate=lr_schedule),\n",
        "              metrics=['accuracy'])"
      ],
      "execution_count": null,
      "outputs": []
    },
    {
      "cell_type": "code",
      "metadata": {
        "colab": {
          "base_uri": "https://localhost:8080/"
        },
        "id": "ReF30zv02kCU",
        "outputId": "5cff00cd-7be3-4ce8-eeee-ae603e9eb186"
      },
      "source": [
        "earlystopper = EarlyStopping(\n",
        "    patience=20,\n",
        "    restore_best_weights=True,\n",
        "    verbose=1)\n",
        "\n",
        "history_2 = model_2.fit(\n",
        "    x=train_text_2, \n",
        "    y=train_label_2, \n",
        "    batch_size= 100,\n",
        "    epochs=40, \n",
        "    validation_split=0.1,\n",
        "    callbacks=[earlystopper],\n",
        "    verbose=0\n",
        "    )"
      ],
      "execution_count": null,
      "outputs": [
        {
          "output_type": "stream",
          "text": [
            "Restoring model weights from the end of the best epoch.\n",
            "Epoch 00024: early stopping\n"
          ],
          "name": "stdout"
        }
      ]
    },
    {
      "cell_type": "code",
      "metadata": {
        "colab": {
          "base_uri": "https://localhost:8080/"
        },
        "id": "kljvo2td2nAc",
        "outputId": "8f8ed292-6580-4218-8847-a4e286af2b04"
      },
      "source": [
        "train_loss, train_acc = model_2.evaluate(x=train_text_2, y=train_label_2, verbose=0)\n",
        "\n",
        "print('Train Loss: {:.4f}'.format(train_loss))\n",
        "print('Train Accuracy: {:.4f}'.format(train_acc))\n",
        "\n",
        "print()\n",
        "test_loss, test_acc = model_2.evaluate(x=test_text_2, y=test_label_2, verbose=0)\n",
        "\n",
        "print('Test Loss: {:.4f}'.format(test_loss))\n",
        "print('Test Accuracy: {:.4f}'.format(test_acc))"
      ],
      "execution_count": null,
      "outputs": [
        {
          "output_type": "stream",
          "text": [
            "Train Loss: 0.0727\n",
            "Train Accuracy: 0.9829\n",
            "\n",
            "Test Loss: 0.2973\n",
            "Test Accuracy: 0.9142\n"
          ],
          "name": "stdout"
        }
      ]
    },
    {
      "cell_type": "code",
      "metadata": {
        "colab": {
          "base_uri": "https://localhost:8080/",
          "height": 388
        },
        "id": "Cy1EQvxn2peO",
        "outputId": "4fd567ef-1c76-408b-aa3a-6cf9ac30336e"
      },
      "source": [
        "plt.figure(figsize=(16,6))\n",
        "plt.subplot(1,2,1)\n",
        "plot_graphs(history_2, 'accuracy')\n",
        "plt.subplot(1,2,2)\n",
        "plot_graphs(history_2, 'loss')"
      ],
      "execution_count": null,
      "outputs": [
        {
          "output_type": "display_data",
          "data": {
            "image/png": "[encoded data removed]",
            "text/plain": [
              "<Figure size 1152x432 with 2 Axes>"
            ]
          },
          "metadata": {
            "tags": [],
            "needs_background": "light"
          }
        }
      ]
    }
  ]
}