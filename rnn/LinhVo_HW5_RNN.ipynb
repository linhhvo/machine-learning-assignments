{
  "nbformat": 4,
  "nbformat_minor": 0,
  "metadata": {
    "colab": {
      "name": "LinhVo_HW5_RNN.ipynb",
      "provenance": [],
      "mount_file_id": "17wjXuGStad-vXQbqk1ATkRGY0bTSQNpQ",
      "authorship_tag": "ABX9TyPT4IINwoUI/AKckW/ICbo0",
      "include_colab_link": true
    },
    "kernelspec": {
      "name": "python3",
      "display_name": "Python 3"
    },
    "language_info": {
      "name": "python"
    },
    "accelerator": "GPU"
  },
  "cells": [
    {
      "cell_type": "markdown",
      "metadata": {
        "id": "view-in-github",
        "colab_type": "text"
      },
      "source": [
        "<a href=\"https://colab.research.google.com/github/linhhvo/machine-learning-assignments/blob/master/rnn/LinhVo_HW5_RNN.ipynb\" target=\"_parent\"><img src=\"https://colab.research.google.com/assets/colab-badge.svg\" alt=\"Open In Colab\"/></a>"
      ]
    },
    {
      "cell_type": "code",
      "metadata": {
        "id": "9jt_qOyA6bdw"
      },
      "source": [
        "import numpy as np\n",
        "import pandas as pd\n",
        "import matplotlib.pyplot as plt\n",
        "import tensorflow_datasets as tfds\n",
        "import tensorflow as tf\n",
        "from tensorflow.keras.layers import Embedding, Bidirectional, Dense, LSTM, Dropout, GlobalAveragePooling1D\n",
        "import re\n",
        "import string\n",
        "from tensorflow.keras.layers.experimental.preprocessing import TextVectorization\n",
        "import nltk\n",
        "from nltk.stem import PorterStemmer\n",
        "from nltk.corpus import stopwords"
      ],
      "execution_count": null,
      "outputs": []
    },
    {
      "cell_type": "code",
      "metadata": {
        "colab": {
          "base_uri": "https://localhost:8080/"
        },
        "id": "d-bGthrV6_BP",
        "outputId": "db1e1f5e-fabb-4fd9-ea46-b677dff3362f"
      },
      "source": [
        "from google.colab import drive\n",
        "drive.mount('/content/drive')"
      ],
      "execution_count": null,
      "outputs": [
        {
          "output_type": "stream",
          "text": [
            "Drive already mounted at /content/drive; to attempt to forcibly remount, call drive.mount(\"/content/drive\", force_remount=True).\n"
          ],
          "name": "stdout"
        }
      ]
    },
    {
      "cell_type": "code",
      "metadata": {
        "colab": {
          "base_uri": "https://localhost:8080/",
          "height": 452
        },
        "id": "-vNjikUk6_cU",
        "outputId": "ffb5e27f-9db4-45d8-a2e4-1501062eb00b"
      },
      "source": [
        "import os\n",
        "\n",
        "path = \"/content/drive/My Drive/CS733-HW5/\" \n",
        "os.chdir(path)\n",
        "\n",
        "dataset_orig = pd.read_csv(\"Tweets.csv\")\n",
        "dataset_orig.head()"
      ],
      "execution_count": null,
      "outputs": [
        {
          "output_type": "execute_result",
          "data": {
            "text/html": [
              "<div>\n",
              "<style scoped>\n",
              "    .dataframe tbody tr th:only-of-type {\n",
              "        vertical-align: middle;\n",
              "    }\n",
              "\n",
              "    .dataframe tbody tr th {\n",
              "        vertical-align: top;\n",
              "    }\n",
              "\n",
              "    .dataframe thead th {\n",
              "        text-align: right;\n",
              "    }\n",
              "</style>\n",
              "<table border=\"1\" class=\"dataframe\">\n",
              "  <thead>\n",
              "    <tr style=\"text-align: right;\">\n",
              "      <th></th>\n",
              "      <th>tweet_id</th>\n",
              "      <th>airline_sentiment</th>\n",
              "      <th>airline_sentiment_confidence</th>\n",
              "      <th>negativereason</th>\n",
              "      <th>negativereason_confidence</th>\n",
              "      <th>airline</th>\n",
              "      <th>airline_sentiment_gold</th>\n",
              "      <th>name</th>\n",
              "      <th>negativereason_gold</th>\n",
              "      <th>retweet_count</th>\n",
              "      <th>text</th>\n",
              "      <th>tweet_coord</th>\n",
              "      <th>tweet_created</th>\n",
              "      <th>tweet_location</th>\n",
              "      <th>user_timezone</th>\n",
              "    </tr>\n",
              "  </thead>\n",
              "  <tbody>\n",
              "    <tr>\n",
              "      <th>0</th>\n",
              "      <td>5.700000e+17</td>\n",
              "      <td>neutral</td>\n",
              "      <td>1.0000</td>\n",
              "      <td>NaN</td>\n",
              "      <td>NaN</td>\n",
              "      <td>Virgin America</td>\n",
              "      <td>NaN</td>\n",
              "      <td>cairdin</td>\n",
              "      <td>NaN</td>\n",
              "      <td>0</td>\n",
              "      <td>@VirginAmerica What @dhepburn said.</td>\n",
              "      <td>NaN</td>\n",
              "      <td>2/24/2015 11:35</td>\n",
              "      <td>NaN</td>\n",
              "      <td>Eastern Time (US &amp; Canada)</td>\n",
              "    </tr>\n",
              "    <tr>\n",
              "      <th>1</th>\n",
              "      <td>5.700000e+17</td>\n",
              "      <td>positive</td>\n",
              "      <td>0.3486</td>\n",
              "      <td>NaN</td>\n",
              "      <td>0.0000</td>\n",
              "      <td>Virgin America</td>\n",
              "      <td>NaN</td>\n",
              "      <td>jnardino</td>\n",
              "      <td>NaN</td>\n",
              "      <td>0</td>\n",
              "      <td>@VirginAmerica plus you've added commercials t...</td>\n",
              "      <td>NaN</td>\n",
              "      <td>2/24/2015 11:15</td>\n",
              "      <td>NaN</td>\n",
              "      <td>Pacific Time (US &amp; Canada)</td>\n",
              "    </tr>\n",
              "    <tr>\n",
              "      <th>2</th>\n",
              "      <td>5.700000e+17</td>\n",
              "      <td>neutral</td>\n",
              "      <td>0.6837</td>\n",
              "      <td>NaN</td>\n",
              "      <td>NaN</td>\n",
              "      <td>Virgin America</td>\n",
              "      <td>NaN</td>\n",
              "      <td>yvonnalynn</td>\n",
              "      <td>NaN</td>\n",
              "      <td>0</td>\n",
              "      <td>@VirginAmerica I didn't today... Must mean I n...</td>\n",
              "      <td>NaN</td>\n",
              "      <td>2/24/2015 11:15</td>\n",
              "      <td>Lets Play</td>\n",
              "      <td>Central Time (US &amp; Canada)</td>\n",
              "    </tr>\n",
              "    <tr>\n",
              "      <th>3</th>\n",
              "      <td>5.700000e+17</td>\n",
              "      <td>negative</td>\n",
              "      <td>1.0000</td>\n",
              "      <td>Bad Flight</td>\n",
              "      <td>0.7033</td>\n",
              "      <td>Virgin America</td>\n",
              "      <td>NaN</td>\n",
              "      <td>jnardino</td>\n",
              "      <td>NaN</td>\n",
              "      <td>0</td>\n",
              "      <td>@VirginAmerica it's really aggressive to blast...</td>\n",
              "      <td>NaN</td>\n",
              "      <td>2/24/2015 11:15</td>\n",
              "      <td>NaN</td>\n",
              "      <td>Pacific Time (US &amp; Canada)</td>\n",
              "    </tr>\n",
              "    <tr>\n",
              "      <th>4</th>\n",
              "      <td>5.700000e+17</td>\n",
              "      <td>negative</td>\n",
              "      <td>1.0000</td>\n",
              "      <td>Can't Tell</td>\n",
              "      <td>1.0000</td>\n",
              "      <td>Virgin America</td>\n",
              "      <td>NaN</td>\n",
              "      <td>jnardino</td>\n",
              "      <td>NaN</td>\n",
              "      <td>0</td>\n",
              "      <td>@VirginAmerica and it's a really big bad thing...</td>\n",
              "      <td>NaN</td>\n",
              "      <td>2/24/2015 11:14</td>\n",
              "      <td>NaN</td>\n",
              "      <td>Pacific Time (US &amp; Canada)</td>\n",
              "    </tr>\n",
              "  </tbody>\n",
              "</table>\n",
              "</div>"
            ],
            "text/plain": [
              "       tweet_id airline_sentiment  ...  tweet_location               user_timezone\n",
              "0  5.700000e+17           neutral  ...             NaN  Eastern Time (US & Canada)\n",
              "1  5.700000e+17          positive  ...             NaN  Pacific Time (US & Canada)\n",
              "2  5.700000e+17           neutral  ...       Lets Play  Central Time (US & Canada)\n",
              "3  5.700000e+17          negative  ...             NaN  Pacific Time (US & Canada)\n",
              "4  5.700000e+17          negative  ...             NaN  Pacific Time (US & Canada)\n",
              "\n",
              "[5 rows x 15 columns]"
            ]
          },
          "metadata": {
            "tags": []
          },
          "execution_count": 3
        }
      ]
    },
    {
      "cell_type": "code",
      "metadata": {
        "colab": {
          "base_uri": "https://localhost:8080/",
          "height": 225
        },
        "id": "c07Jn80g8PtL",
        "outputId": "7f6f50f1-c557-4f7d-8bfc-c54ffd9199c7"
      },
      "source": [
        "# Keep only relevant columns\n",
        "dataset = dataset_orig[['airline_sentiment', 'text']]\n",
        "\n",
        "# Drop rows with 'neutral' sentiment\n",
        "dataset = dataset[dataset['airline_sentiment'] != 'neutral']\n",
        "\n",
        "# Add 'polarity' column and set value to be 1 if sentiment is positive and 0 otherwise\n",
        "dataset['polarity'] = np.where(dataset['airline_sentiment'] == 'positive', 1, 0)\n",
        "\n",
        "print(dataset.shape)\n",
        "dataset.head()"
      ],
      "execution_count": null,
      "outputs": [
        {
          "output_type": "stream",
          "text": [
            "(11541, 3)\n"
          ],
          "name": "stdout"
        },
        {
          "output_type": "execute_result",
          "data": {
            "text/html": [
              "<div>\n",
              "<style scoped>\n",
              "    .dataframe tbody tr th:only-of-type {\n",
              "        vertical-align: middle;\n",
              "    }\n",
              "\n",
              "    .dataframe tbody tr th {\n",
              "        vertical-align: top;\n",
              "    }\n",
              "\n",
              "    .dataframe thead th {\n",
              "        text-align: right;\n",
              "    }\n",
              "</style>\n",
              "<table border=\"1\" class=\"dataframe\">\n",
              "  <thead>\n",
              "    <tr style=\"text-align: right;\">\n",
              "      <th></th>\n",
              "      <th>airline_sentiment</th>\n",
              "      <th>text</th>\n",
              "      <th>polarity</th>\n",
              "    </tr>\n",
              "  </thead>\n",
              "  <tbody>\n",
              "    <tr>\n",
              "      <th>1</th>\n",
              "      <td>positive</td>\n",
              "      <td>@VirginAmerica plus you've added commercials t...</td>\n",
              "      <td>1</td>\n",
              "    </tr>\n",
              "    <tr>\n",
              "      <th>3</th>\n",
              "      <td>negative</td>\n",
              "      <td>@VirginAmerica it's really aggressive to blast...</td>\n",
              "      <td>0</td>\n",
              "    </tr>\n",
              "    <tr>\n",
              "      <th>4</th>\n",
              "      <td>negative</td>\n",
              "      <td>@VirginAmerica and it's a really big bad thing...</td>\n",
              "      <td>0</td>\n",
              "    </tr>\n",
              "    <tr>\n",
              "      <th>5</th>\n",
              "      <td>negative</td>\n",
              "      <td>@VirginAmerica seriously would pay $30 a fligh...</td>\n",
              "      <td>0</td>\n",
              "    </tr>\n",
              "    <tr>\n",
              "      <th>6</th>\n",
              "      <td>positive</td>\n",
              "      <td>@VirginAmerica yes, nearly every time I fly VX...</td>\n",
              "      <td>1</td>\n",
              "    </tr>\n",
              "  </tbody>\n",
              "</table>\n",
              "</div>"
            ],
            "text/plain": [
              "  airline_sentiment  ... polarity\n",
              "1          positive  ...        1\n",
              "3          negative  ...        0\n",
              "4          negative  ...        0\n",
              "5          negative  ...        0\n",
              "6          positive  ...        1\n",
              "\n",
              "[5 rows x 3 columns]"
            ]
          },
          "metadata": {
            "tags": []
          },
          "execution_count": 4
        }
      ]
    },
    {
      "cell_type": "code",
      "metadata": {
        "colab": {
          "base_uri": "https://localhost:8080/",
          "height": 424
        },
        "id": "j_cUoLJTICsy",
        "outputId": "e435a10d-f64a-4336-acea-c0fe1103f7a3"
      },
      "source": [
        "# Only keep 'text' and 'polarity' columns to train model\n",
        "df = dataset[['text', 'polarity']]\n",
        "\n",
        "pd.options.display.max_colwidth = 10000\n",
        "df"
      ],
      "execution_count": null,
      "outputs": [
        {
          "output_type": "execute_result",
          "data": {
            "text/html": [
              "<div>\n",
              "<style scoped>\n",
              "    .dataframe tbody tr th:only-of-type {\n",
              "        vertical-align: middle;\n",
              "    }\n",
              "\n",
              "    .dataframe tbody tr th {\n",
              "        vertical-align: top;\n",
              "    }\n",
              "\n",
              "    .dataframe thead th {\n",
              "        text-align: right;\n",
              "    }\n",
              "</style>\n",
              "<table border=\"1\" class=\"dataframe\">\n",
              "  <thead>\n",
              "    <tr style=\"text-align: right;\">\n",
              "      <th></th>\n",
              "      <th>text</th>\n",
              "      <th>polarity</th>\n",
              "    </tr>\n",
              "  </thead>\n",
              "  <tbody>\n",
              "    <tr>\n",
              "      <th>1</th>\n",
              "      <td>@VirginAmerica plus you've added commercials to the experience... tacky.</td>\n",
              "      <td>1</td>\n",
              "    </tr>\n",
              "    <tr>\n",
              "      <th>3</th>\n",
              "      <td>@VirginAmerica it's really aggressive to blast obnoxious \"entertainment\" in your guests' faces &amp;amp; they have little recourse</td>\n",
              "      <td>0</td>\n",
              "    </tr>\n",
              "    <tr>\n",
              "      <th>4</th>\n",
              "      <td>@VirginAmerica and it's a really big bad thing about it</td>\n",
              "      <td>0</td>\n",
              "    </tr>\n",
              "    <tr>\n",
              "      <th>5</th>\n",
              "      <td>@VirginAmerica seriously would pay $30 a flight for seats that didn't have this playing.\\nit's really the only bad thing about flying VA</td>\n",
              "      <td>0</td>\n",
              "    </tr>\n",
              "    <tr>\n",
              "      <th>6</th>\n",
              "      <td>@VirginAmerica yes, nearly every time I fly VX this â€œear wormâ€ wonâ€™t go away :)</td>\n",
              "      <td>1</td>\n",
              "    </tr>\n",
              "    <tr>\n",
              "      <th>...</th>\n",
              "      <td>...</td>\n",
              "      <td>...</td>\n",
              "    </tr>\n",
              "    <tr>\n",
              "      <th>14633</th>\n",
              "      <td>@AmericanAir my flight was Cancelled Flightled, leaving tomorrow morning. Auto rebooked for a Tuesday night flight but need to arrive Monday.</td>\n",
              "      <td>0</td>\n",
              "    </tr>\n",
              "    <tr>\n",
              "      <th>14634</th>\n",
              "      <td>@AmericanAir right on cue with the delaysðŸ‘Œ</td>\n",
              "      <td>0</td>\n",
              "    </tr>\n",
              "    <tr>\n",
              "      <th>14635</th>\n",
              "      <td>@AmericanAir thank you we got on a different flight to Chicago.</td>\n",
              "      <td>1</td>\n",
              "    </tr>\n",
              "    <tr>\n",
              "      <th>14636</th>\n",
              "      <td>@AmericanAir leaving over 20 minutes Late Flight. No warnings or communication until we were 15 minutes Late Flight. That's called shitty customer svc</td>\n",
              "      <td>0</td>\n",
              "    </tr>\n",
              "    <tr>\n",
              "      <th>14638</th>\n",
              "      <td>@AmericanAir you have my money, you change my flight, and don't answer your phones! Any other suggestions so I can make my commitment??</td>\n",
              "      <td>0</td>\n",
              "    </tr>\n",
              "  </tbody>\n",
              "</table>\n",
              "<p>11541 rows × 2 columns</p>\n",
              "</div>"
            ],
            "text/plain": [
              "                                                                                                                                                         text  polarity\n",
              "1                                                                                    @VirginAmerica plus you've added commercials to the experience... tacky.         1\n",
              "3                              @VirginAmerica it's really aggressive to blast obnoxious \"entertainment\" in your guests' faces &amp; they have little recourse         0\n",
              "4                                                                                                     @VirginAmerica and it's a really big bad thing about it         0\n",
              "5                    @VirginAmerica seriously would pay $30 a flight for seats that didn't have this playing.\\nit's really the only bad thing about flying VA         0\n",
              "6                                                                       @VirginAmerica yes, nearly every time I fly VX this â€œear wormâ€ wonâ€™t go away :)         1\n",
              "...                                                                                                                                                       ...       ...\n",
              "14633           @AmericanAir my flight was Cancelled Flightled, leaving tomorrow morning. Auto rebooked for a Tuesday night flight but need to arrive Monday.         0\n",
              "14634                                                                                                           @AmericanAir right on cue with the delaysðŸ‘Œ         0\n",
              "14635                                                                                         @AmericanAir thank you we got on a different flight to Chicago.         1\n",
              "14636  @AmericanAir leaving over 20 minutes Late Flight. No warnings or communication until we were 15 minutes Late Flight. That's called shitty customer svc         0\n",
              "14638                 @AmericanAir you have my money, you change my flight, and don't answer your phones! Any other suggestions so I can make my commitment??         0\n",
              "\n",
              "[11541 rows x 2 columns]"
            ]
          },
          "metadata": {
            "tags": []
          },
          "execution_count": 5
        }
      ]
    },
    {
      "cell_type": "markdown",
      "metadata": {
        "id": "kEfxtG7kZepW"
      },
      "source": [
        "# Part 1"
      ]
    },
    {
      "cell_type": "markdown",
      "metadata": {
        "id": "K3clCP6KZkld"
      },
      "source": [
        "### Preprocessing dataset"
      ]
    },
    {
      "cell_type": "code",
      "metadata": {
        "id": "1kDOugN5_mi_"
      },
      "source": [
        "# Create a custom standardization function .\n",
        "def custom_standardization(input_data):\n",
        "    lowercase = tf.strings.lower(input_data)\n",
        "    return tf.strings.regex_replace(lowercase,'[%s]' % re.escape(string.punctuation), '')\n",
        "\n",
        "# Vocabulary size and number of words in a sequence.\n",
        "vocab_size = 10000\n",
        "sequence_length = 100\n",
        "\n",
        "# Use the text vectorization layer to normalize, split, and map strings to \n",
        "# integers. Note that the layer uses the custom standardization defined above. \n",
        "# Set maximum_sequence length as all samples are not of the same length.\n",
        "vectorization_layer = TextVectorization(\n",
        "    standardize=custom_standardization,\n",
        "    max_tokens=vocab_size,\n",
        "    output_mode='int',\n",
        "    output_sequence_length=sequence_length)\n",
        "\n",
        "# Make a text-only dataset (no labels) and call adapt to build the vocabulary.\n",
        "text_dataset = df['text'].to_numpy()\n",
        "vectorization_layer.adapt(text_dataset)"
      ],
      "execution_count": null,
      "outputs": []
    },
    {
      "cell_type": "code",
      "metadata": {
        "colab": {
          "base_uri": "https://localhost:8080/"
        },
        "id": "WM3EK1ALBiBC",
        "outputId": "5b0b548d-6c89-4856-d7ea-e644e5ce0a58"
      },
      "source": [
        "vocab = np.array(vectorization_layer.get_vocabulary())\n",
        "vocab[:20]"
      ],
      "execution_count": null,
      "outputs": [
        {
          "output_type": "execute_result",
          "data": {
            "text/plain": [
              "array(['', '[UNK]', 'to', 'the', 'i', 'a', 'united', 'you', 'for',\n",
              "       'flight', 'and', 'on', 'my', 'usairways', 'americanair', 'is',\n",
              "       'in', 'southwestair', 'of', 'jetblue'], dtype='<U160')"
            ]
          },
          "metadata": {
            "tags": []
          },
          "execution_count": 7
        }
      ]
    },
    {
      "cell_type": "code",
      "metadata": {
        "colab": {
          "base_uri": "https://localhost:8080/"
        },
        "id": "DViC-0bYBu9K",
        "outputId": "4857e0e6-1f5f-47a6-b1b7-d35bdffa3e1c"
      },
      "source": [
        "print(df.iloc[1, 0])\n",
        "encoded_review = vectorization_layer(df.text)\n",
        "print(encoded_review[2].numpy())\n",
        "print(f\"\\nIndex 69 refers to the word '{vocab[69]}'\")\n",
        "print(f\"\\nIndex 10 refers to the word '{vocab[10]}'\")"
      ],
      "execution_count": null,
      "outputs": [
        {
          "output_type": "stream",
          "text": [
            "@VirginAmerica it's really aggressive to blast obnoxious \"entertainment\" in your guests' faces &amp; they have little recourse\n",
            "[100  10  69   5 120 435 193 475  86  22   0   0   0   0   0   0   0   0\n",
            "   0   0   0   0   0   0   0   0   0   0   0   0   0   0   0   0   0   0\n",
            "   0   0   0   0   0   0   0   0   0   0   0   0   0   0   0   0   0   0\n",
            "   0   0   0   0   0   0   0   0   0   0   0   0   0   0   0   0   0   0\n",
            "   0   0   0   0   0   0   0   0   0   0   0   0   0   0   0   0   0   0\n",
            "   0   0   0   0   0   0   0   0   0   0]\n",
            "\n",
            "Index 69 refers to the word 'its'\n",
            "\n",
            "Index 10 refers to the word 'and'\n"
          ],
          "name": "stdout"
        }
      ]
    },
    {
      "cell_type": "code",
      "metadata": {
        "colab": {
          "base_uri": "https://localhost:8080/",
          "height": 424
        },
        "id": "sEaLulKpCI9w",
        "outputId": "dc7757b6-a532-42a8-ee5c-d0622f9db25f"
      },
      "source": [
        "# Shuffle dataset\n",
        "df = df.sample(frac=1).reset_index(drop=True)\n",
        "df"
      ],
      "execution_count": null,
      "outputs": [
        {
          "output_type": "execute_result",
          "data": {
            "text/html": [
              "<div>\n",
              "<style scoped>\n",
              "    .dataframe tbody tr th:only-of-type {\n",
              "        vertical-align: middle;\n",
              "    }\n",
              "\n",
              "    .dataframe tbody tr th {\n",
              "        vertical-align: top;\n",
              "    }\n",
              "\n",
              "    .dataframe thead th {\n",
              "        text-align: right;\n",
              "    }\n",
              "</style>\n",
              "<table border=\"1\" class=\"dataframe\">\n",
              "  <thead>\n",
              "    <tr style=\"text-align: right;\">\n",
              "      <th></th>\n",
              "      <th>text</th>\n",
              "      <th>polarity</th>\n",
              "    </tr>\n",
              "  </thead>\n",
              "  <tbody>\n",
              "    <tr>\n",
              "      <th>0</th>\n",
              "      <td>@AmericanAir I'll be sticking with @southwest in the future. No change fees, first bag free, and stellar customer service.</td>\n",
              "      <td>0</td>\n",
              "    </tr>\n",
              "    <tr>\n",
              "      <th>1</th>\n",
              "      <td>@united cldnt be happier w the many plastic wing pins given to me on flight 494. I love them! Amazing staff! So nice http://t.co/CbV7f3KBKx</td>\n",
              "      <td>1</td>\n",
              "    </tr>\n",
              "    <tr>\n",
              "      <th>2</th>\n",
              "      <td>@USAirways Ever sit on hold and just lose track of time? http://t.co/Yqhk8LJaBN</td>\n",
              "      <td>0</td>\n",
              "    </tr>\n",
              "    <tr>\n",
              "      <th>3</th>\n",
              "      <td>@JetBlue There's just so many choices for y'all south of the border and I know not every airline is equal - lowest price != best value. ;)</td>\n",
              "      <td>1</td>\n",
              "    </tr>\n",
              "    <tr>\n",
              "      <th>4</th>\n",
              "      <td>@AmericanAir my husband and 5 year old son stuck overnight in DC thanks to 7 crew members arguing over who was boarding the flight</td>\n",
              "      <td>0</td>\n",
              "    </tr>\n",
              "    <tr>\n",
              "      <th>...</th>\n",
              "      <td>...</td>\n",
              "      <td>...</td>\n",
              "    </tr>\n",
              "    <tr>\n",
              "      <th>11536</th>\n",
              "      <td>@USAirways 1899. Thanks</td>\n",
              "      <td>1</td>\n",
              "    </tr>\n",
              "    <tr>\n",
              "      <th>11537</th>\n",
              "      <td>@SouthwestAir So frustrated with my experience with #Southwest. 18 hours trapped in Denver bc of mechanical problems. #worstcustomerservice</td>\n",
              "      <td>0</td>\n",
              "    </tr>\n",
              "    <tr>\n",
              "      <th>11538</th>\n",
              "      <td>@AmericanAir United needs our ticket number since you rebooked us and you gave the incorrect ticket number now we can't check in #help</td>\n",
              "      <td>0</td>\n",
              "    </tr>\n",
              "    <tr>\n",
              "      <th>11539</th>\n",
              "      <td>@USAirways But every time I call I'm on hold for 45 min and then get disconnected. Any way someone can help?</td>\n",
              "      <td>0</td>\n",
              "    </tr>\n",
              "    <tr>\n",
              "      <th>11540</th>\n",
              "      <td>@SouthwestAir do we have a time estimate for our luggage? we'll be sure to fill out your survey!!</td>\n",
              "      <td>0</td>\n",
              "    </tr>\n",
              "  </tbody>\n",
              "</table>\n",
              "<p>11541 rows × 2 columns</p>\n",
              "</div>"
            ],
            "text/plain": [
              "                                                                                                                                              text  polarity\n",
              "0                       @AmericanAir I'll be sticking with @southwest in the future. No change fees, first bag free, and stellar customer service.         0\n",
              "1      @united cldnt be happier w the many plastic wing pins given to me on flight 494. I love them! Amazing staff! So nice http://t.co/CbV7f3KBKx         1\n",
              "2                                                                  @USAirways Ever sit on hold and just lose track of time? http://t.co/Yqhk8LJaBN         0\n",
              "3       @JetBlue There's just so many choices for y'all south of the border and I know not every airline is equal - lowest price != best value. ;)         1\n",
              "4               @AmericanAir my husband and 5 year old son stuck overnight in DC thanks to 7 crew members arguing over who was boarding the flight         0\n",
              "...                                                                                                                                            ...       ...\n",
              "11536                                                                                                                      @USAirways 1899. Thanks         1\n",
              "11537  @SouthwestAir So frustrated with my experience with #Southwest. 18 hours trapped in Denver bc of mechanical problems. #worstcustomerservice         0\n",
              "11538       @AmericanAir United needs our ticket number since you rebooked us and you gave the incorrect ticket number now we can't check in #help         0\n",
              "11539                                 @USAirways But every time I call I'm on hold for 45 min and then get disconnected. Any way someone can help?         0\n",
              "11540                                            @SouthwestAir do we have a time estimate for our luggage? we'll be sure to fill out your survey!!         0\n",
              "\n",
              "[11541 rows x 2 columns]"
            ]
          },
          "metadata": {
            "tags": []
          },
          "execution_count": 9
        }
      ]
    },
    {
      "cell_type": "code",
      "metadata": {
        "id": "mjT11hnvLTpF"
      },
      "source": [
        "# Split data into training and testing sets\n",
        "training_end_index = round(len(df) * .8)\n",
        "train_dataset = df.iloc[:training_end_index, :]\n",
        "test_dataset = df.iloc[training_end_index:, :]\n",
        "\n",
        "train_text = train_dataset.text.to_numpy()\n",
        "train_label = train_dataset.polarity.to_numpy()\n",
        "test_text = test_dataset.text.to_numpy()\n",
        "test_label= test_dataset.polarity.to_numpy()"
      ],
      "execution_count": null,
      "outputs": []
    },
    {
      "cell_type": "markdown",
      "metadata": {
        "id": "YlHpi-Lkn6JU"
      },
      "source": [
        ""
      ]
    },
    {
      "cell_type": "markdown",
      "metadata": {
        "id": "zgXEusU92cQC"
      },
      "source": [
        "### Train and evaluate model 1"
      ]
    },
    {
      "cell_type": "code",
      "metadata": {
        "id": "uWRGQQhQMvpO"
      },
      "source": [
        "embedding_dim = 64\n",
        "\n",
        "model_1 = tf.keras.Sequential([\n",
        "    vectorization_layer,\n",
        "    Embedding(vocab_size, embedding_dim, mask_zero=True),\n",
        "    Bidirectional(LSTM(128, return_sequences=True)),\n",
        "    Bidirectional(LSTM(64)),\n",
        "    Dense(128, activation='relu'),\n",
        "    Dropout(0.25),\n",
        "    Dense(64, activation='relu'),\n",
        "    Dropout(0.25),\n",
        "    Dense(1, activation='sigmoid')\n",
        "])"
      ],
      "execution_count": null,
      "outputs": []
    },
    {
      "cell_type": "code",
      "metadata": {
        "id": "uHLHMFeEOLav"
      },
      "source": [
        "model_1.compile(loss=tf.keras.losses.BinaryCrossentropy(from_logits=True),\n",
        "              optimizer='sgd',\n",
        "              metrics=['accuracy'])"
      ],
      "execution_count": null,
      "outputs": []
    },
    {
      "cell_type": "code",
      "metadata": {
        "colab": {
          "base_uri": "https://localhost:8080/"
        },
        "id": "bQUMVD6ZOupe",
        "outputId": "fcba91a3-7a02-4238-b20f-63966f47afce"
      },
      "source": [
        "history = model_1.fit(x=train_text, y=train_label, epochs=40, validation_split=0.1)"
      ],
      "execution_count": null,
      "outputs": [
        {
          "output_type": "stream",
          "text": [
            "Epoch 1/40\n",
            "260/260 [==============================] - 28s 41ms/step - loss: 0.5793 - accuracy: 0.7936 - val_loss: 0.5059 - val_accuracy: 0.7835\n",
            "Epoch 2/40\n",
            "260/260 [==============================] - 6s 25ms/step - loss: 0.4896 - accuracy: 0.7979 - val_loss: 0.5007 - val_accuracy: 0.7835\n",
            "Epoch 3/40\n",
            "260/260 [==============================] - 6s 25ms/step - loss: 0.4881 - accuracy: 0.7936 - val_loss: 0.4943 - val_accuracy: 0.7835\n",
            "Epoch 4/40\n",
            "260/260 [==============================] - 6s 24ms/step - loss: 0.4778 - accuracy: 0.8001 - val_loss: 0.4867 - val_accuracy: 0.7835\n",
            "Epoch 5/40\n",
            "260/260 [==============================] - 6s 24ms/step - loss: 0.4727 - accuracy: 0.7964 - val_loss: 0.4796 - val_accuracy: 0.7835\n",
            "Epoch 6/40\n",
            "260/260 [==============================] - 7s 25ms/step - loss: 0.4696 - accuracy: 0.7978 - val_loss: 0.4721 - val_accuracy: 0.7835\n",
            "Epoch 7/40\n",
            "260/260 [==============================] - 6s 25ms/step - loss: 0.4590 - accuracy: 0.7981 - val_loss: 0.4677 - val_accuracy: 0.7835\n",
            "Epoch 8/40\n",
            "260/260 [==============================] - 6s 24ms/step - loss: 0.4619 - accuracy: 0.7976 - val_loss: 0.4650 - val_accuracy: 0.7835\n",
            "Epoch 9/40\n",
            "260/260 [==============================] - 6s 24ms/step - loss: 0.4559 - accuracy: 0.8005 - val_loss: 0.4630 - val_accuracy: 0.7944\n",
            "Epoch 10/40\n",
            "260/260 [==============================] - 6s 25ms/step - loss: 0.4666 - accuracy: 0.7943 - val_loss: 0.4618 - val_accuracy: 0.7955\n",
            "Epoch 11/40\n",
            "260/260 [==============================] - 6s 24ms/step - loss: 0.4371 - accuracy: 0.8182 - val_loss: 0.4637 - val_accuracy: 0.7987\n",
            "Epoch 12/40\n",
            "260/260 [==============================] - 6s 25ms/step - loss: 0.4532 - accuracy: 0.8111 - val_loss: 0.4607 - val_accuracy: 0.7965\n",
            "Epoch 13/40\n",
            "260/260 [==============================] - 6s 24ms/step - loss: 0.4627 - accuracy: 0.8033 - val_loss: 0.4590 - val_accuracy: 0.8019\n",
            "Epoch 14/40\n",
            "260/260 [==============================] - 6s 24ms/step - loss: 0.4469 - accuracy: 0.8108 - val_loss: 0.4575 - val_accuracy: 0.7987\n",
            "Epoch 15/40\n",
            "260/260 [==============================] - 6s 24ms/step - loss: 0.4477 - accuracy: 0.8090 - val_loss: 0.4567 - val_accuracy: 0.7998\n",
            "Epoch 16/40\n",
            "260/260 [==============================] - 6s 24ms/step - loss: 0.4458 - accuracy: 0.8096 - val_loss: 0.4573 - val_accuracy: 0.8030\n",
            "Epoch 17/40\n",
            "260/260 [==============================] - 6s 24ms/step - loss: 0.4522 - accuracy: 0.8052 - val_loss: 0.4531 - val_accuracy: 0.8041\n",
            "Epoch 18/40\n",
            "260/260 [==============================] - 6s 24ms/step - loss: 0.4402 - accuracy: 0.8149 - val_loss: 0.4516 - val_accuracy: 0.8052\n",
            "Epoch 19/40\n",
            "260/260 [==============================] - 6s 24ms/step - loss: 0.4416 - accuracy: 0.8121 - val_loss: 0.4464 - val_accuracy: 0.8095\n",
            "Epoch 20/40\n",
            "260/260 [==============================] - 6s 24ms/step - loss: 0.4364 - accuracy: 0.8121 - val_loss: 0.4383 - val_accuracy: 0.8106\n",
            "Epoch 21/40\n",
            "260/260 [==============================] - 6s 24ms/step - loss: 0.4302 - accuracy: 0.8127 - val_loss: 0.4437 - val_accuracy: 0.8084\n",
            "Epoch 22/40\n",
            "260/260 [==============================] - 6s 24ms/step - loss: 0.4170 - accuracy: 0.8199 - val_loss: 0.4028 - val_accuracy: 0.8355\n",
            "Epoch 23/40\n",
            "260/260 [==============================] - 6s 24ms/step - loss: 0.3974 - accuracy: 0.8359 - val_loss: 0.4009 - val_accuracy: 0.8279\n",
            "Epoch 24/40\n",
            "260/260 [==============================] - 6s 24ms/step - loss: 0.3870 - accuracy: 0.8409 - val_loss: 0.4031 - val_accuracy: 0.8377\n",
            "Epoch 25/40\n",
            "260/260 [==============================] - 6s 24ms/step - loss: 0.3578 - accuracy: 0.8626 - val_loss: 0.3968 - val_accuracy: 0.8409\n",
            "Epoch 26/40\n",
            "260/260 [==============================] - 6s 24ms/step - loss: 0.3595 - accuracy: 0.8598 - val_loss: 0.4072 - val_accuracy: 0.8452\n",
            "Epoch 27/40\n",
            "260/260 [==============================] - 6s 24ms/step - loss: 0.3406 - accuracy: 0.8658 - val_loss: 0.3481 - val_accuracy: 0.8539\n",
            "Epoch 28/40\n",
            "260/260 [==============================] - 6s 24ms/step - loss: 0.3166 - accuracy: 0.8770 - val_loss: 0.3937 - val_accuracy: 0.8182\n",
            "Epoch 29/40\n",
            "260/260 [==============================] - 6s 24ms/step - loss: 0.3176 - accuracy: 0.8776 - val_loss: 0.3178 - val_accuracy: 0.8712\n",
            "Epoch 30/40\n",
            "260/260 [==============================] - 6s 24ms/step - loss: 0.2881 - accuracy: 0.8884 - val_loss: 0.3791 - val_accuracy: 0.8593\n",
            "Epoch 31/40\n",
            "260/260 [==============================] - 6s 24ms/step - loss: 0.2772 - accuracy: 0.8958 - val_loss: 0.3296 - val_accuracy: 0.8658\n",
            "Epoch 32/40\n",
            "260/260 [==============================] - 6s 24ms/step - loss: 0.2739 - accuracy: 0.8946 - val_loss: 0.3414 - val_accuracy: 0.8626\n",
            "Epoch 33/40\n",
            "260/260 [==============================] - 6s 24ms/step - loss: 0.2562 - accuracy: 0.9041 - val_loss: 0.2858 - val_accuracy: 0.8874\n",
            "Epoch 34/40\n",
            "260/260 [==============================] - 6s 23ms/step - loss: 0.2593 - accuracy: 0.9067 - val_loss: 0.2852 - val_accuracy: 0.8896\n",
            "Epoch 35/40\n",
            "260/260 [==============================] - 6s 24ms/step - loss: 0.2494 - accuracy: 0.9052 - val_loss: 0.2798 - val_accuracy: 0.8918\n",
            "Epoch 36/40\n",
            "260/260 [==============================] - 6s 24ms/step - loss: 0.2348 - accuracy: 0.9151 - val_loss: 0.2720 - val_accuracy: 0.8929\n",
            "Epoch 37/40\n",
            "260/260 [==============================] - 6s 24ms/step - loss: 0.2362 - accuracy: 0.9123 - val_loss: 0.3398 - val_accuracy: 0.8745\n",
            "Epoch 38/40\n",
            "260/260 [==============================] - 6s 24ms/step - loss: 0.2291 - accuracy: 0.9124 - val_loss: 0.2769 - val_accuracy: 0.8929\n",
            "Epoch 39/40\n",
            "260/260 [==============================] - 6s 24ms/step - loss: 0.2155 - accuracy: 0.9179 - val_loss: 0.2720 - val_accuracy: 0.8896\n",
            "Epoch 40/40\n",
            "260/260 [==============================] - 6s 24ms/step - loss: 0.2131 - accuracy: 0.9216 - val_loss: 0.2766 - val_accuracy: 0.8918\n"
          ],
          "name": "stdout"
        }
      ]
    },
    {
      "cell_type": "code",
      "metadata": {
        "colab": {
          "base_uri": "https://localhost:8080/"
        },
        "id": "7ggBsxRSPJMd",
        "outputId": "5c050ad3-583a-4694-a508-86d34b354fd3"
      },
      "source": [
        "train_loss, train_acc = model_1.evaluate(x=train_text, y=train_label)\n",
        "\n",
        "print('Train Loss: {}'.format(train_loss))\n",
        "print('Train Accuracy: {}'.format(train_acc))\n",
        "\n",
        "test_loss, test_acc = model_1.evaluate(x=test_text, y=test_label)\n",
        "\n",
        "print('Test Loss: {}'.format(test_loss))\n",
        "print('Test Accuracy: {}'.format(test_acc))"
      ],
      "execution_count": null,
      "outputs": [
        {
          "output_type": "stream",
          "text": [
            "289/289 [==============================] - 3s 10ms/step - loss: 0.1908 - accuracy: 0.9278\n",
            "Train Loss: 0.19077476859092712\n",
            "Train Accuracy: 0.9277591109275818\n",
            "73/73 [==============================] - 1s 10ms/step - loss: 0.2201 - accuracy: 0.9116\n",
            "Test Loss: 0.22011196613311768\n",
            "Test Accuracy: 0.911611795425415\n"
          ],
          "name": "stdout"
        }
      ]
    },
    {
      "cell_type": "code",
      "metadata": {
        "id": "1dZQQLAOPecV"
      },
      "source": [
        "def plot_graphs(history, metric):\n",
        "  plt.plot(history.history[metric])\n",
        "  plt.plot(history.history['val_'+metric], '') # for validation results\n",
        "  plt.xlabel(\"Epochs\")\n",
        "  plt.ylabel(metric)\n",
        "  plt.legend([metric, 'val_'+metric])"
      ],
      "execution_count": null,
      "outputs": []
    },
    {
      "cell_type": "code",
      "metadata": {
        "colab": {
          "base_uri": "https://localhost:8080/",
          "height": 388
        },
        "id": "vlq5HVnUPZZg",
        "outputId": "84a78c66-51f5-4acb-c1fd-5b361649f7bc"
      },
      "source": [
        "plt.figure(figsize=(16,6))\n",
        "plt.subplot(1,2,1)\n",
        "plot_graphs(history, 'accuracy')\n",
        "plt.subplot(1,2,2)\n",
        "plot_graphs(history, 'loss')"
      ],
      "execution_count": null,
      "outputs": [
        {
          "output_type": "display_data",
          "data": {
            "image/png": "[encoded data removed]",
            "text/plain": [
              "<Figure size 1152x432 with 2 Axes>"
            ]
          },
          "metadata": {
            "tags": [],
            "needs_background": "light"
          }
        }
      ]
    },
    {
      "cell_type": "markdown",
      "metadata": {
        "id": "rdeeSiHV2U55"
      },
      "source": [
        "# Part 2\n",
        "\n"
      ]
    },
    {
      "cell_type": "markdown",
      "metadata": {
        "id": "Z-DtX0K-aa78"
      },
      "source": [
        "### Preprocessing dataset"
      ]
    },
    {
      "cell_type": "code",
      "metadata": {
        "colab": {
          "base_uri": "https://localhost:8080/",
          "height": 424
        },
        "id": "nqzRCK_1bujp",
        "outputId": "219aa87e-f971-463e-a6c3-185136b464fe"
      },
      "source": [
        "# Make a copy of dataset\n",
        "df_2 = df.copy()\n",
        "df_2"
      ],
      "execution_count": null,
      "outputs": [
        {
          "output_type": "execute_result",
          "data": {
            "text/html": [
              "<div>\n",
              "<style scoped>\n",
              "    .dataframe tbody tr th:only-of-type {\n",
              "        vertical-align: middle;\n",
              "    }\n",
              "\n",
              "    .dataframe tbody tr th {\n",
              "        vertical-align: top;\n",
              "    }\n",
              "\n",
              "    .dataframe thead th {\n",
              "        text-align: right;\n",
              "    }\n",
              "</style>\n",
              "<table border=\"1\" class=\"dataframe\">\n",
              "  <thead>\n",
              "    <tr style=\"text-align: right;\">\n",
              "      <th></th>\n",
              "      <th>text</th>\n",
              "      <th>polarity</th>\n",
              "    </tr>\n",
              "  </thead>\n",
              "  <tbody>\n",
              "    <tr>\n",
              "      <th>0</th>\n",
              "      <td>@AmericanAir I'll be sticking with @southwest in the future. No change fees, first bag free, and stellar customer service.</td>\n",
              "      <td>0</td>\n",
              "    </tr>\n",
              "    <tr>\n",
              "      <th>1</th>\n",
              "      <td>@united cldnt be happier w the many plastic wing pins given to me on flight 494. I love them! Amazing staff! So nice http://t.co/CbV7f3KBKx</td>\n",
              "      <td>1</td>\n",
              "    </tr>\n",
              "    <tr>\n",
              "      <th>2</th>\n",
              "      <td>@USAirways Ever sit on hold and just lose track of time? http://t.co/Yqhk8LJaBN</td>\n",
              "      <td>0</td>\n",
              "    </tr>\n",
              "    <tr>\n",
              "      <th>3</th>\n",
              "      <td>@JetBlue There's just so many choices for y'all south of the border and I know not every airline is equal - lowest price != best value. ;)</td>\n",
              "      <td>1</td>\n",
              "    </tr>\n",
              "    <tr>\n",
              "      <th>4</th>\n",
              "      <td>@AmericanAir my husband and 5 year old son stuck overnight in DC thanks to 7 crew members arguing over who was boarding the flight</td>\n",
              "      <td>0</td>\n",
              "    </tr>\n",
              "    <tr>\n",
              "      <th>...</th>\n",
              "      <td>...</td>\n",
              "      <td>...</td>\n",
              "    </tr>\n",
              "    <tr>\n",
              "      <th>11536</th>\n",
              "      <td>@USAirways 1899. Thanks</td>\n",
              "      <td>1</td>\n",
              "    </tr>\n",
              "    <tr>\n",
              "      <th>11537</th>\n",
              "      <td>@SouthwestAir So frustrated with my experience with #Southwest. 18 hours trapped in Denver bc of mechanical problems. #worstcustomerservice</td>\n",
              "      <td>0</td>\n",
              "    </tr>\n",
              "    <tr>\n",
              "      <th>11538</th>\n",
              "      <td>@AmericanAir United needs our ticket number since you rebooked us and you gave the incorrect ticket number now we can't check in #help</td>\n",
              "      <td>0</td>\n",
              "    </tr>\n",
              "    <tr>\n",
              "      <th>11539</th>\n",
              "      <td>@USAirways But every time I call I'm on hold for 45 min and then get disconnected. Any way someone can help?</td>\n",
              "      <td>0</td>\n",
              "    </tr>\n",
              "    <tr>\n",
              "      <th>11540</th>\n",
              "      <td>@SouthwestAir do we have a time estimate for our luggage? we'll be sure to fill out your survey!!</td>\n",
              "      <td>0</td>\n",
              "    </tr>\n",
              "  </tbody>\n",
              "</table>\n",
              "<p>11541 rows × 2 columns</p>\n",
              "</div>"
            ],
            "text/plain": [
              "                                                                                                                                              text  polarity\n",
              "0                       @AmericanAir I'll be sticking with @southwest in the future. No change fees, first bag free, and stellar customer service.         0\n",
              "1      @united cldnt be happier w the many plastic wing pins given to me on flight 494. I love them! Amazing staff! So nice http://t.co/CbV7f3KBKx         1\n",
              "2                                                                  @USAirways Ever sit on hold and just lose track of time? http://t.co/Yqhk8LJaBN         0\n",
              "3       @JetBlue There's just so many choices for y'all south of the border and I know not every airline is equal - lowest price != best value. ;)         1\n",
              "4               @AmericanAir my husband and 5 year old son stuck overnight in DC thanks to 7 crew members arguing over who was boarding the flight         0\n",
              "...                                                                                                                                            ...       ...\n",
              "11536                                                                                                                      @USAirways 1899. Thanks         1\n",
              "11537  @SouthwestAir So frustrated with my experience with #Southwest. 18 hours trapped in Denver bc of mechanical problems. #worstcustomerservice         0\n",
              "11538       @AmericanAir United needs our ticket number since you rebooked us and you gave the incorrect ticket number now we can't check in #help         0\n",
              "11539                                 @USAirways But every time I call I'm on hold for 45 min and then get disconnected. Any way someone can help?         0\n",
              "11540                                            @SouthwestAir do we have a time estimate for our luggage? we'll be sure to fill out your survey!!         0\n",
              "\n",
              "[11541 rows x 2 columns]"
            ]
          },
          "metadata": {
            "tags": []
          },
          "execution_count": 61
        }
      ]
    },
    {
      "cell_type": "code",
      "metadata": {
        "colab": {
          "base_uri": "https://localhost:8080/"
        },
        "id": "IQtMX8gYOtyO",
        "outputId": "06fbe68d-a626-48e7-a3ee-0bfff974295e"
      },
      "source": [
        "# Convert each tweet into a list of words\n",
        "df_2['text'] = df_2['text'].str.split()\n",
        "\n",
        "# Remove stop words\n",
        "nltk.download('stopwords')\n",
        "stops = set(stopwords.words(\"english\"))                  \n",
        "\n",
        "def remove_stops(row):\n",
        "    text = row['text']\n",
        "    filtered_text = [word for word in text if not word in stops]\n",
        "    return (filtered_text)\n",
        "\n",
        "# Reduce related words to a common stems\n",
        "porter = PorterStemmer()\n",
        "\n",
        "def stem_text(row):\n",
        "    text = row['processed_text']\n",
        "    stemmed_text = [porter.stem(word) for word in text]\n",
        "    return (stemmed_text)\n",
        "\n",
        "# Apply preprocessing functions to dataset and store values in separate columns\n",
        "df_2['processed_text'] = df_2.apply(remove_stops, axis=1)\n",
        "# df_2['stemmed_text'] = df_2.apply(stem_text, axis=1)"
      ],
      "execution_count": null,
      "outputs": [
        {
          "output_type": "stream",
          "text": [
            "[nltk_data] Downloading package stopwords to /root/nltk_data...\n",
            "[nltk_data]   Package stopwords is already up-to-date!\n"
          ],
          "name": "stdout"
        }
      ]
    },
    {
      "cell_type": "code",
      "metadata": {
        "colab": {
          "base_uri": "https://localhost:8080/",
          "height": 545
        },
        "id": "UWWahVl5nULx",
        "outputId": "dfeb9957-fe31-450b-b3af-088c1474f00f"
      },
      "source": [
        "df_2"
      ],
      "execution_count": null,
      "outputs": [
        {
          "output_type": "execute_result",
          "data": {
            "text/html": [
              "<div>\n",
              "<style scoped>\n",
              "    .dataframe tbody tr th:only-of-type {\n",
              "        vertical-align: middle;\n",
              "    }\n",
              "\n",
              "    .dataframe tbody tr th {\n",
              "        vertical-align: top;\n",
              "    }\n",
              "\n",
              "    .dataframe thead th {\n",
              "        text-align: right;\n",
              "    }\n",
              "</style>\n",
              "<table border=\"1\" class=\"dataframe\">\n",
              "  <thead>\n",
              "    <tr style=\"text-align: right;\">\n",
              "      <th></th>\n",
              "      <th>text</th>\n",
              "      <th>polarity</th>\n",
              "      <th>processed_text</th>\n",
              "    </tr>\n",
              "  </thead>\n",
              "  <tbody>\n",
              "    <tr>\n",
              "      <th>0</th>\n",
              "      <td>[@AmericanAir, I'll, be, sticking, with, @southwest, in, the, future., No, change, fees,, first, bag, free,, and, stellar, customer, service.]</td>\n",
              "      <td>0</td>\n",
              "      <td>[@AmericanAir, I'll, sticking, @southwest, future., No, change, fees,, first, bag, free,, stellar, customer, service.]</td>\n",
              "    </tr>\n",
              "    <tr>\n",
              "      <th>1</th>\n",
              "      <td>[@united, cldnt, be, happier, w, the, many, plastic, wing, pins, given, to, me, on, flight, 494., I, love, them!, Amazing, staff!, So, nice, http://t.co/CbV7f3KBKx]</td>\n",
              "      <td>1</td>\n",
              "      <td>[@united, cldnt, happier, w, many, plastic, wing, pins, given, flight, 494., I, love, them!, Amazing, staff!, So, nice, http://t.co/CbV7f3KBKx]</td>\n",
              "    </tr>\n",
              "    <tr>\n",
              "      <th>2</th>\n",
              "      <td>[@USAirways, Ever, sit, on, hold, and, just, lose, track, of, time?, http://t.co/Yqhk8LJaBN]</td>\n",
              "      <td>0</td>\n",
              "      <td>[@USAirways, Ever, sit, hold, lose, track, time?, http://t.co/Yqhk8LJaBN]</td>\n",
              "    </tr>\n",
              "    <tr>\n",
              "      <th>3</th>\n",
              "      <td>[@JetBlue, There's, just, so, many, choices, for, y'all, south, of, the, border, and, I, know, not, every, airline, is, equal, -, lowest, price, !=, best, value., ;)]</td>\n",
              "      <td>1</td>\n",
              "      <td>[@JetBlue, There's, many, choices, y'all, south, border, I, know, every, airline, equal, -, lowest, price, !=, best, value., ;)]</td>\n",
              "    </tr>\n",
              "    <tr>\n",
              "      <th>4</th>\n",
              "      <td>[@AmericanAir, my, husband, and, 5, year, old, son, stuck, overnight, in, DC, thanks, to, 7, crew, members, arguing, over, who, was, boarding, the, flight]</td>\n",
              "      <td>0</td>\n",
              "      <td>[@AmericanAir, husband, 5, year, old, son, stuck, overnight, DC, thanks, 7, crew, members, arguing, boarding, flight]</td>\n",
              "    </tr>\n",
              "    <tr>\n",
              "      <th>...</th>\n",
              "      <td>...</td>\n",
              "      <td>...</td>\n",
              "      <td>...</td>\n",
              "    </tr>\n",
              "    <tr>\n",
              "      <th>11536</th>\n",
              "      <td>[@USAirways, 1899., Thanks]</td>\n",
              "      <td>1</td>\n",
              "      <td>[@USAirways, 1899., Thanks]</td>\n",
              "    </tr>\n",
              "    <tr>\n",
              "      <th>11537</th>\n",
              "      <td>[@SouthwestAir, So, frustrated, with, my, experience, with, #Southwest., 18, hours, trapped, in, Denver, bc, of, mechanical, problems., #worstcustomerservice]</td>\n",
              "      <td>0</td>\n",
              "      <td>[@SouthwestAir, So, frustrated, experience, #Southwest., 18, hours, trapped, Denver, bc, mechanical, problems., #worstcustomerservice]</td>\n",
              "    </tr>\n",
              "    <tr>\n",
              "      <th>11538</th>\n",
              "      <td>[@AmericanAir, United, needs, our, ticket, number, since, you, rebooked, us, and, you, gave, the, incorrect, ticket, number, now, we, can't, check, in, #help]</td>\n",
              "      <td>0</td>\n",
              "      <td>[@AmericanAir, United, needs, ticket, number, since, rebooked, us, gave, incorrect, ticket, number, can't, check, #help]</td>\n",
              "    </tr>\n",
              "    <tr>\n",
              "      <th>11539</th>\n",
              "      <td>[@USAirways, But, every, time, I, call, I'm, on, hold, for, 45, min, and, then, get, disconnected., Any, way, someone, can, help?]</td>\n",
              "      <td>0</td>\n",
              "      <td>[@USAirways, But, every, time, I, call, I'm, hold, 45, min, get, disconnected., Any, way, someone, help?]</td>\n",
              "    </tr>\n",
              "    <tr>\n",
              "      <th>11540</th>\n",
              "      <td>[@SouthwestAir, do, we, have, a, time, estimate, for, our, luggage?, we'll, be, sure, to, fill, out, your, survey!!]</td>\n",
              "      <td>0</td>\n",
              "      <td>[@SouthwestAir, time, estimate, luggage?, we'll, sure, fill, survey!!]</td>\n",
              "    </tr>\n",
              "  </tbody>\n",
              "</table>\n",
              "<p>11541 rows × 3 columns</p>\n",
              "</div>"
            ],
            "text/plain": [
              "                                                                                                                                                                         text  ...                                                                                                                                   processed_text\n",
              "0                              [@AmericanAir, I'll, be, sticking, with, @southwest, in, the, future., No, change, fees,, first, bag, free,, and, stellar, customer, service.]  ...                           [@AmericanAir, I'll, sticking, @southwest, future., No, change, fees,, first, bag, free,, stellar, customer, service.]\n",
              "1        [@united, cldnt, be, happier, w, the, many, plastic, wing, pins, given, to, me, on, flight, 494., I, love, them!, Amazing, staff!, So, nice, http://t.co/CbV7f3KBKx]  ...  [@united, cldnt, happier, w, many, plastic, wing, pins, given, flight, 494., I, love, them!, Amazing, staff!, So, nice, http://t.co/CbV7f3KBKx]\n",
              "2                                                                                [@USAirways, Ever, sit, on, hold, and, just, lose, track, of, time?, http://t.co/Yqhk8LJaBN]  ...                                                                        [@USAirways, Ever, sit, hold, lose, track, time?, http://t.co/Yqhk8LJaBN]\n",
              "3      [@JetBlue, There's, just, so, many, choices, for, y'all, south, of, the, border, and, I, know, not, every, airline, is, equal, -, lowest, price, !=, best, value., ;)]  ...                 [@JetBlue, There's, many, choices, y'all, south, border, I, know, every, airline, equal, -, lowest, price, !=, best, value., ;)]\n",
              "4                 [@AmericanAir, my, husband, and, 5, year, old, son, stuck, overnight, in, DC, thanks, to, 7, crew, members, arguing, over, who, was, boarding, the, flight]  ...                            [@AmericanAir, husband, 5, year, old, son, stuck, overnight, DC, thanks, 7, crew, members, arguing, boarding, flight]\n",
              "...                                                                                                                                                                       ...  ...                                                                                                                                              ...\n",
              "11536                                                                                                                                             [@USAirways, 1899., Thanks]  ...                                                                                                                      [@USAirways, 1899., Thanks]\n",
              "11537          [@SouthwestAir, So, frustrated, with, my, experience, with, #Southwest., 18, hours, trapped, in, Denver, bc, of, mechanical, problems., #worstcustomerservice]  ...           [@SouthwestAir, So, frustrated, experience, #Southwest., 18, hours, trapped, Denver, bc, mechanical, problems., #worstcustomerservice]\n",
              "11538          [@AmericanAir, United, needs, our, ticket, number, since, you, rebooked, us, and, you, gave, the, incorrect, ticket, number, now, we, can't, check, in, #help]  ...                         [@AmericanAir, United, needs, ticket, number, since, rebooked, us, gave, incorrect, ticket, number, can't, check, #help]\n",
              "11539                                      [@USAirways, But, every, time, I, call, I'm, on, hold, for, 45, min, and, then, get, disconnected., Any, way, someone, can, help?]  ...                                        [@USAirways, But, every, time, I, call, I'm, hold, 45, min, get, disconnected., Any, way, someone, help?]\n",
              "11540                                                    [@SouthwestAir, do, we, have, a, time, estimate, for, our, luggage?, we'll, be, sure, to, fill, out, your, survey!!]  ...                                                                           [@SouthwestAir, time, estimate, luggage?, we'll, sure, fill, survey!!]\n",
              "\n",
              "[11541 rows x 3 columns]"
            ]
          },
          "metadata": {
            "tags": []
          },
          "execution_count": 63
        }
      ]
    },
    {
      "cell_type": "code",
      "metadata": {
        "id": "FRMVFZIiNc8G"
      },
      "source": [
        "# Join words back into sentences\n",
        "def rejoin_words(row):\n",
        "    text = row['processed_text']\n",
        "    joined_words = ( \" \".join(text))\n",
        "    return joined_words\n",
        "\n",
        "df_2['processed_text'] = df_2.apply(rejoin_words, axis=1) "
      ],
      "execution_count": null,
      "outputs": []
    },
    {
      "cell_type": "code",
      "metadata": {
        "colab": {
          "base_uri": "https://localhost:8080/",
          "height": 424
        },
        "id": "ksq8LnR3NyAJ",
        "outputId": "3b40939d-7c57-49c7-c292-66a76a9484d3"
      },
      "source": [
        "# Drop unnecessary columns\n",
        "df_2.drop(columns=['text'], inplace=True)\n",
        "df_2"
      ],
      "execution_count": null,
      "outputs": [
        {
          "output_type": "execute_result",
          "data": {
            "text/html": [
              "<div>\n",
              "<style scoped>\n",
              "    .dataframe tbody tr th:only-of-type {\n",
              "        vertical-align: middle;\n",
              "    }\n",
              "\n",
              "    .dataframe tbody tr th {\n",
              "        vertical-align: top;\n",
              "    }\n",
              "\n",
              "    .dataframe thead th {\n",
              "        text-align: right;\n",
              "    }\n",
              "</style>\n",
              "<table border=\"1\" class=\"dataframe\">\n",
              "  <thead>\n",
              "    <tr style=\"text-align: right;\">\n",
              "      <th></th>\n",
              "      <th>polarity</th>\n",
              "      <th>processed_text</th>\n",
              "    </tr>\n",
              "  </thead>\n",
              "  <tbody>\n",
              "    <tr>\n",
              "      <th>0</th>\n",
              "      <td>0</td>\n",
              "      <td>@AmericanAir I'll sticking @southwest future. No change fees, first bag free, stellar customer service.</td>\n",
              "    </tr>\n",
              "    <tr>\n",
              "      <th>1</th>\n",
              "      <td>1</td>\n",
              "      <td>@united cldnt happier w many plastic wing pins given flight 494. I love them! Amazing staff! So nice http://t.co/CbV7f3KBKx</td>\n",
              "    </tr>\n",
              "    <tr>\n",
              "      <th>2</th>\n",
              "      <td>0</td>\n",
              "      <td>@USAirways Ever sit hold lose track time? http://t.co/Yqhk8LJaBN</td>\n",
              "    </tr>\n",
              "    <tr>\n",
              "      <th>3</th>\n",
              "      <td>1</td>\n",
              "      <td>@JetBlue There's many choices y'all south border I know every airline equal - lowest price != best value. ;)</td>\n",
              "    </tr>\n",
              "    <tr>\n",
              "      <th>4</th>\n",
              "      <td>0</td>\n",
              "      <td>@AmericanAir husband 5 year old son stuck overnight DC thanks 7 crew members arguing boarding flight</td>\n",
              "    </tr>\n",
              "    <tr>\n",
              "      <th>...</th>\n",
              "      <td>...</td>\n",
              "      <td>...</td>\n",
              "    </tr>\n",
              "    <tr>\n",
              "      <th>11536</th>\n",
              "      <td>1</td>\n",
              "      <td>@USAirways 1899. Thanks</td>\n",
              "    </tr>\n",
              "    <tr>\n",
              "      <th>11537</th>\n",
              "      <td>0</td>\n",
              "      <td>@SouthwestAir So frustrated experience #Southwest. 18 hours trapped Denver bc mechanical problems. #worstcustomerservice</td>\n",
              "    </tr>\n",
              "    <tr>\n",
              "      <th>11538</th>\n",
              "      <td>0</td>\n",
              "      <td>@AmericanAir United needs ticket number since rebooked us gave incorrect ticket number can't check #help</td>\n",
              "    </tr>\n",
              "    <tr>\n",
              "      <th>11539</th>\n",
              "      <td>0</td>\n",
              "      <td>@USAirways But every time I call I'm hold 45 min get disconnected. Any way someone help?</td>\n",
              "    </tr>\n",
              "    <tr>\n",
              "      <th>11540</th>\n",
              "      <td>0</td>\n",
              "      <td>@SouthwestAir time estimate luggage? we'll sure fill survey!!</td>\n",
              "    </tr>\n",
              "  </tbody>\n",
              "</table>\n",
              "<p>11541 rows × 2 columns</p>\n",
              "</div>"
            ],
            "text/plain": [
              "       polarity                                                                                                               processed_text\n",
              "0             0                      @AmericanAir I'll sticking @southwest future. No change fees, first bag free, stellar customer service.\n",
              "1             1  @united cldnt happier w many plastic wing pins given flight 494. I love them! Amazing staff! So nice http://t.co/CbV7f3KBKx\n",
              "2             0                                                             @USAirways Ever sit hold lose track time? http://t.co/Yqhk8LJaBN\n",
              "3             1                 @JetBlue There's many choices y'all south border I know every airline equal - lowest price != best value. ;)\n",
              "4             0                         @AmericanAir husband 5 year old son stuck overnight DC thanks 7 crew members arguing boarding flight\n",
              "...         ...                                                                                                                          ...\n",
              "11536         1                                                                                                      @USAirways 1899. Thanks\n",
              "11537         0     @SouthwestAir So frustrated experience #Southwest. 18 hours trapped Denver bc mechanical problems. #worstcustomerservice\n",
              "11538         0                     @AmericanAir United needs ticket number since rebooked us gave incorrect ticket number can't check #help\n",
              "11539         0                                     @USAirways But every time I call I'm hold 45 min get disconnected. Any way someone help?\n",
              "11540         0                                                                @SouthwestAir time estimate luggage? we'll sure fill survey!!\n",
              "\n",
              "[11541 rows x 2 columns]"
            ]
          },
          "metadata": {
            "tags": []
          },
          "execution_count": 65
        }
      ]
    },
    {
      "cell_type": "code",
      "metadata": {
        "id": "C4C6AD2i6wHn"
      },
      "source": [
        "# Create a custom standardization function to strip twitter usernames/handlers.\n",
        "def custom_standardization(input_data):\n",
        "    lowercase = tf.strings.lower(input_data)\n",
        "    removed_punctuation = tf.strings.regex_replace(lowercase,'[%s]' % re.escape(string.punctuation), '')\n",
        "    removed_tweets_handle = tf.strings.regex_replace(removed_punctuation, '([@][\\w_-]+)', '')\n",
        "    return removed_tweets_handle\n",
        "\n",
        "# Vocabulary size and number of words in a sequence.\n",
        "vocab_size = 10000\n",
        "sequence_length = 100\n",
        "\n",
        "# Use the text vectorization layer to normalize, split, and map strings to \n",
        "# integers. Note that the layer uses the custom standardization defined above. \n",
        "# Set maximum_sequence length as all samples are not of the same length.\n",
        "vectorization_layer = TextVectorization(\n",
        "    standardize=custom_standardization,\n",
        "    max_tokens=vocab_size,\n",
        "    output_mode='int',\n",
        "    output_sequence_length=sequence_length)\n",
        "\n",
        "# Make a text-only dataset (no labels) and call adapt to build the vocabulary.\n",
        "text_dataset = df_2['processed_text'].to_numpy()\n",
        "vectorization_layer.adapt(text_dataset)"
      ],
      "execution_count": null,
      "outputs": []
    },
    {
      "cell_type": "code",
      "metadata": {
        "id": "nSfyZKA_RW4v"
      },
      "source": [
        "train_dataset_2 = df_2.iloc[:training_end_index, :]\n",
        "test_dataset_2 = df_2.iloc[training_end_index:, :]\n",
        "\n",
        "train_text_2 = train_dataset_2.processed_text.to_numpy()\n",
        "train_label_2 = train_dataset_2.polarity.to_numpy()\n",
        "test_text_2 = test_dataset_2.processed_text.to_numpy()\n",
        "test_label_2= test_dataset_2.polarity.to_numpy()"
      ],
      "execution_count": null,
      "outputs": []
    },
    {
      "cell_type": "markdown",
      "metadata": {
        "id": "uSHf-mSSG7Og"
      },
      "source": [
        "### Train and evaluate model 2"
      ]
    },
    {
      "cell_type": "code",
      "metadata": {
        "id": "m7oFa47EXXTA"
      },
      "source": [
        "embedding_dim = 64\n",
        "\n",
        "model_2 = tf.keras.Sequential([\n",
        "    vectorization_layer,\n",
        "    Embedding(vocab_size, embedding_dim, mask_zero=True),\n",
        "    # GlobalAveragePooling1D(),\n",
        "    Bidirectional(LSTM(128, return_sequences=True)),\n",
        "    Bidirectional(LSTM(32)),\n",
        "    Dense(128, activation='relu'),\n",
        "    Dropout(0.5),\n",
        "    Dense(64, activation='relu'),\n",
        "    Dropout(0.5),\n",
        "    Dense(1, activation='sigmoid')\n",
        "])"
      ],
      "execution_count": null,
      "outputs": []
    },
    {
      "cell_type": "code",
      "metadata": {
        "id": "b7D9VNQ32gnv"
      },
      "source": [
        "model_2.compile(loss=tf.keras.losses.BinaryCrossentropy(from_logits=True),\n",
        "              optimizer='nadam',\n",
        "              metrics=['accuracy'])"
      ],
      "execution_count": null,
      "outputs": []
    },
    {
      "cell_type": "code",
      "metadata": {
        "colab": {
          "base_uri": "https://localhost:8080/"
        },
        "id": "ReF30zv02kCU",
        "outputId": "8a650564-b60d-487a-d1be-c553da2a93b4"
      },
      "source": [
        "earlystopper = tf.keras.callbacks.EarlyStopping(patience=15, restore_best_weights=True)\n",
        "history_2 = model_2.fit(x=train_text_2, y=train_label_2, epochs=40, validation_split=0.1, verbose=1)"
      ],
      "execution_count": null,
      "outputs": [
        {
          "output_type": "stream",
          "text": [
            "Epoch 1/40\n",
            "260/260 [==============================] - 29s 48ms/step - loss: 0.4092 - accuracy: 0.8299 - val_loss: 0.2701 - val_accuracy: 0.9037\n",
            "Epoch 2/40\n",
            "260/260 [==============================] - 8s 31ms/step - loss: 0.1375 - accuracy: 0.9516 - val_loss: 0.2668 - val_accuracy: 0.8994\n",
            "Epoch 3/40\n",
            "260/260 [==============================] - 8s 31ms/step - loss: 0.0839 - accuracy: 0.9711 - val_loss: 0.3445 - val_accuracy: 0.8896\n",
            "Epoch 4/40\n",
            "260/260 [==============================] - 8s 31ms/step - loss: 0.0426 - accuracy: 0.9879 - val_loss: 0.3758 - val_accuracy: 0.8918\n",
            "Epoch 5/40\n",
            "260/260 [==============================] - 8s 31ms/step - loss: 0.0317 - accuracy: 0.9915 - val_loss: 0.5028 - val_accuracy: 0.8874\n",
            "Epoch 6/40\n",
            "260/260 [==============================] - 8s 31ms/step - loss: 0.0249 - accuracy: 0.9928 - val_loss: 0.4714 - val_accuracy: 0.9004\n",
            "Epoch 7/40\n",
            "260/260 [==============================] - 8s 31ms/step - loss: 0.0181 - accuracy: 0.9943 - val_loss: 0.6890 - val_accuracy: 0.8950\n",
            "Epoch 8/40\n",
            "260/260 [==============================] - 8s 30ms/step - loss: 0.0151 - accuracy: 0.9953 - val_loss: 0.6460 - val_accuracy: 0.8994\n",
            "Epoch 9/40\n",
            "260/260 [==============================] - 8s 31ms/step - loss: 0.0101 - accuracy: 0.9966 - val_loss: 0.7168 - val_accuracy: 0.8929\n",
            "Epoch 10/40\n",
            "260/260 [==============================] - 8s 31ms/step - loss: 0.0128 - accuracy: 0.9954 - val_loss: 0.8041 - val_accuracy: 0.8961\n",
            "Epoch 11/40\n",
            "260/260 [==============================] - 8s 31ms/step - loss: 0.0087 - accuracy: 0.9975 - val_loss: 0.7571 - val_accuracy: 0.8983\n",
            "Epoch 12/40\n",
            "260/260 [==============================] - 8s 31ms/step - loss: 0.0059 - accuracy: 0.9987 - val_loss: 1.2085 - val_accuracy: 0.8939\n",
            "Epoch 13/40\n",
            "260/260 [==============================] - 8s 30ms/step - loss: 0.0092 - accuracy: 0.9974 - val_loss: 1.1697 - val_accuracy: 0.8994\n",
            "Epoch 14/40\n",
            "260/260 [==============================] - 8s 31ms/step - loss: 0.0043 - accuracy: 0.9986 - val_loss: 0.9786 - val_accuracy: 0.9004\n",
            "Epoch 15/40\n",
            "260/260 [==============================] - 8s 31ms/step - loss: 0.0163 - accuracy: 0.9968 - val_loss: 0.8921 - val_accuracy: 0.8983\n",
            "Epoch 16/40\n",
            "260/260 [==============================] - 8s 31ms/step - loss: 0.0094 - accuracy: 0.9970 - val_loss: 0.8549 - val_accuracy: 0.8961\n",
            "Epoch 17/40\n",
            "260/260 [==============================] - 8s 31ms/step - loss: 0.0036 - accuracy: 0.9990 - val_loss: 0.9975 - val_accuracy: 0.8961\n",
            "Epoch 18/40\n",
            "260/260 [==============================] - 8s 31ms/step - loss: 0.0096 - accuracy: 0.9975 - val_loss: 0.9796 - val_accuracy: 0.8907\n",
            "Epoch 19/40\n",
            "260/260 [==============================] - 8s 31ms/step - loss: 0.0071 - accuracy: 0.9980 - val_loss: 1.1275 - val_accuracy: 0.8907\n",
            "Epoch 20/40\n",
            "260/260 [==============================] - 8s 32ms/step - loss: 0.0045 - accuracy: 0.9987 - val_loss: 1.0066 - val_accuracy: 0.8950\n",
            "Epoch 21/40\n",
            "260/260 [==============================] - 8s 32ms/step - loss: 0.0024 - accuracy: 0.9990 - val_loss: 1.2768 - val_accuracy: 0.8939\n",
            "Epoch 22/40\n",
            "260/260 [==============================] - 8s 31ms/step - loss: 9.5089e-04 - accuracy: 0.9996 - val_loss: 1.4077 - val_accuracy: 0.8972\n",
            "Epoch 23/40\n",
            "260/260 [==============================] - 8s 31ms/step - loss: 8.5612e-04 - accuracy: 0.9996 - val_loss: 1.5588 - val_accuracy: 0.8961\n",
            "Epoch 24/40\n",
            "260/260 [==============================] - 8s 31ms/step - loss: 5.8533e-04 - accuracy: 0.9997 - val_loss: 1.6774 - val_accuracy: 0.8961\n",
            "Epoch 25/40\n",
            "260/260 [==============================] - 8s 31ms/step - loss: 5.1051e-04 - accuracy: 0.9999 - val_loss: 1.7608 - val_accuracy: 0.8961\n",
            "Epoch 26/40\n",
            "260/260 [==============================] - 8s 31ms/step - loss: 3.0820e-04 - accuracy: 0.9998 - val_loss: 1.8624 - val_accuracy: 0.8983\n",
            "Epoch 27/40\n",
            "260/260 [==============================] - 8s 31ms/step - loss: 3.8510e-04 - accuracy: 0.9998 - val_loss: 1.9666 - val_accuracy: 0.8972\n",
            "Epoch 28/40\n",
            "260/260 [==============================] - 8s 31ms/step - loss: 4.6866e-04 - accuracy: 0.9996 - val_loss: 1.9940 - val_accuracy: 0.8972\n",
            "Epoch 29/40\n",
            "260/260 [==============================] - 8s 32ms/step - loss: 4.6339e-04 - accuracy: 0.9998 - val_loss: 2.0898 - val_accuracy: 0.8983\n",
            "Epoch 30/40\n",
            "260/260 [==============================] - 8s 31ms/step - loss: 5.9319e-04 - accuracy: 0.9998 - val_loss: 2.1497 - val_accuracy: 0.8950\n",
            "Epoch 31/40\n",
            "260/260 [==============================] - 8s 31ms/step - loss: 0.0011 - accuracy: 0.9993 - val_loss: 2.1717 - val_accuracy: 0.8972\n",
            "Epoch 32/40\n",
            "260/260 [==============================] - 8s 31ms/step - loss: 4.1834e-04 - accuracy: 0.9997 - val_loss: 2.1932 - val_accuracy: 0.8950\n",
            "Epoch 33/40\n",
            "260/260 [==============================] - 8s 31ms/step - loss: 1.7192e-04 - accuracy: 1.0000 - val_loss: 2.3266 - val_accuracy: 0.8972\n",
            "Epoch 34/40\n",
            "260/260 [==============================] - 8s 31ms/step - loss: 6.6466e-04 - accuracy: 0.9995 - val_loss: 2.4761 - val_accuracy: 0.8961\n",
            "Epoch 35/40\n",
            "260/260 [==============================] - 8s 31ms/step - loss: 0.0010 - accuracy: 0.9994 - val_loss: 2.6020 - val_accuracy: 0.8961\n",
            "Epoch 36/40\n",
            "260/260 [==============================] - 8s 32ms/step - loss: 3.0715e-04 - accuracy: 0.9997 - val_loss: 2.5587 - val_accuracy: 0.8972\n",
            "Epoch 37/40\n",
            "260/260 [==============================] - 8s 31ms/step - loss: 3.7538e-04 - accuracy: 0.9999 - val_loss: 2.6948 - val_accuracy: 0.8961\n",
            "Epoch 38/40\n",
            "260/260 [==============================] - 8s 31ms/step - loss: 5.4421e-04 - accuracy: 0.9997 - val_loss: 2.5965 - val_accuracy: 0.8983\n",
            "Epoch 39/40\n",
            "260/260 [==============================] - 8s 31ms/step - loss: 5.1243e-04 - accuracy: 0.9997 - val_loss: 2.6914 - val_accuracy: 0.8972\n",
            "Epoch 40/40\n",
            "260/260 [==============================] - 8s 31ms/step - loss: 0.0061 - accuracy: 0.9991 - val_loss: 0.6139 - val_accuracy: 0.8972\n"
          ],
          "name": "stdout"
        }
      ]
    },
    {
      "cell_type": "code",
      "metadata": {
        "colab": {
          "base_uri": "https://localhost:8080/"
        },
        "id": "kljvo2td2nAc",
        "outputId": "7180022a-0eaf-4477-d02c-83e379e94e6d"
      },
      "source": [
        "train_loss, train_acc = model_2.evaluate(x=train_text_2, y=train_label_2, verbose=0)\n",
        "\n",
        "print('Train Loss: {}'.format(train_loss))\n",
        "print('Train Accuracy: {}'.format(train_acc))\n",
        "\n",
        "print()\n",
        "test_loss, test_acc = model_2.evaluate(x=test_text_2, y=test_label_2, verbose=0)\n",
        "\n",
        "print('Test Loss: {}'.format(test_loss))\n",
        "print('Test Accuracy: {}'.format(test_acc))"
      ],
      "execution_count": null,
      "outputs": [
        {
          "output_type": "stream",
          "text": [
            "Train Loss: 0.08720608055591583\n",
            "Train Accuracy: 0.9815877676010132\n",
            "\n",
            "Test Loss: 0.4260745346546173\n",
            "Test Accuracy: 0.909878671169281\n"
          ],
          "name": "stdout"
        }
      ]
    },
    {
      "cell_type": "code",
      "metadata": {
        "colab": {
          "base_uri": "https://localhost:8080/",
          "height": 388
        },
        "id": "Cy1EQvxn2peO",
        "outputId": "41620c06-6c49-4124-90c7-72d0972deed3"
      },
      "source": [
        "plt.figure(figsize=(16,6))\n",
        "plt.subplot(1,2,1)\n",
        "plot_graphs(history_2, 'accuracy')\n",
        "plt.subplot(1,2,2)\n",
        "plot_graphs(history_2, 'loss')"
      ],
      "execution_count": null,
      "outputs": [
        {
          "output_type": "display_data",
          "data": {
            "image/png": "[encoded data removed]",
            "text/plain": [
              "<Figure size 1152x432 with 2 Axes>"
            ]
          },
          "metadata": {
            "tags": [],
            "needs_background": "light"
          }
        }
      ]
    }
  ]
}