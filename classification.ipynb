{
 "metadata": {
  "language_info": {
   "codemirror_mode": {
    "name": "ipython",
    "version": 3
   },
   "file_extension": ".py",
   "mimetype": "text/x-python",
   "name": "python",
   "nbconvert_exporter": "python",
   "pygments_lexer": "ipython3",
   "version": "3.6.8-final"
  },
  "orig_nbformat": 2,
  "kernelspec": {
   "name": "python3",
   "display_name": "Python 3",
   "language": "python"
  }
 },
 "nbformat": 4,
 "nbformat_minor": 2,
 "cells": [
  {
   "cell_type": "code",
   "execution_count": null,
   "metadata": {},
   "outputs": [],
   "source": [
    "import numpy as np\n",
    "import pandas as pd\n",
    "from sklearn.model_selection import train_test_split\n",
    "from sklearn.metrics import confusion_matrix, accuracy_score, classification_report\n",
    "from sklearn.tree import DecisionTreeClassifier, plot_tree\n",
    "from sklearn.ensemble import RandomForestClassifier, VotingClassifier\n",
    "import xgboost as xgb\n",
    "import matplotlib.pyplot as plt\n",
    "import category_encoders as ce"
   ]
  },
  {
   "cell_type": "code",
   "execution_count": null,
   "metadata": {},
   "outputs": [],
   "source": [
    "# Performance Report\n",
    "def evaluate(y_test, y_pred):\n",
    "    print(\"Confusion Matrix: \")\n",
    "    print(confusion_matrix(y_test, y_pred))\n",
    "\n",
    "    print (\"Accuracy : \")\n",
    "    print(accuracy_score(y_test,y_pred)*100)\n",
    "\n",
    "    print(\"Report : \")\n",
    "    report = classification_report(y_test, y_pred)\n",
    "    print(report)"
   ]
  },
  {
   "cell_type": "code",
   "execution_count": null,
   "metadata": {},
   "outputs": [],
   "source": [
    "data = pd.read_csv(\"bank.csv\")"
   ]
  },
  {
   "cell_type": "code",
   "execution_count": null,
   "metadata": {},
   "outputs": [],
   "source": [
    "data = data.replace({'yes': 1, 'no': 0})"
   ]
  },
  {
   "cell_type": "code",
   "execution_count": null,
   "metadata": {},
   "outputs": [],
   "source": [
    "data"
   ]
  },
  {
   "cell_type": "code",
   "execution_count": null,
   "metadata": {},
   "outputs": [],
   "source": [
    "data['education'].unique()"
   ]
  },
  {
   "cell_type": "code",
   "execution_count": null,
   "metadata": {},
   "outputs": [],
   "source": [
    "X = data.drop(columns=['subcribed'])\n",
    "X"
   ]
  },
  {
   "cell_type": "code",
   "execution_count": null,
   "metadata": {},
   "outputs": [],
   "source": [
    "y = data['subcribed']\n",
    "y"
   ]
  },
  {
   "cell_type": "code",
   "execution_count": null,
   "metadata": {},
   "outputs": [],
   "source": [
    "from datetime import datetime\n",
    "data['month'] = data['month'].transform(lambda x : datetime.strptime(x, '%b').month)\n",
    "# datetime.strptime('oct', '%b').month"
   ]
  },
  {
   "cell_type": "code",
   "execution_count": 52,
   "metadata": {},
   "outputs": [],
   "source": [
    "data.rename(columns={'subcribed': 'subscribed'}, inplace=True)"
   ]
  },
  {
   "cell_type": "code",
   "execution_count": null,
   "metadata": {},
   "outputs": [],
   "source": [
    "encoder_edu = ce.OrdinalEncoder(mapping={'col': 'education', 'mapping': {'tertiary': 1, 'secondary': 2, 'primary': 3, 'unknown': 4}})\n",
    "\n",
    "encoder_job = ce.cat_boost.CatBoostEncoder(cols=['job'])\n"
   ]
  },
  {
   "cell_type": "code",
   "execution_count": null,
   "metadata": {},
   "outputs": [],
   "source": [
    "encoder_job = ce.cat_boost.CatBoostEncoder(cols=['job'])"
   ]
  },
  {
   "cell_type": "code",
   "execution_count": 49,
   "metadata": {},
   "outputs": [
    {
     "output_type": "execute_result",
     "data": {
      "text/plain": [
       "array(['unemployed', 'services', 'management', 'blue-collar',\n",
       "       'self-employed', 'technician', 'entrepreneur', 'admin.', 'student',\n",
       "       'housemaid', 'retired', 'unknown'], dtype=object)"
      ]
     },
     "metadata": {},
     "execution_count": 49
    }
   ],
   "source": [
    "data['job'].unique()"
   ]
  },
  {
   "cell_type": "code",
   "execution_count": 53,
   "metadata": {},
   "outputs": [
    {
     "output_type": "execute_result",
     "data": {
      "text/plain": [
       "      age            job   marital  education  default  balance  housing  \\\n",
       "0      30     unemployed   married    primary        0     1787        0   \n",
       "1      33       services   married  secondary        0     4789        1   \n",
       "2      35     management    single   tertiary        0     1350        1   \n",
       "3      30     management   married   tertiary        0     1476        1   \n",
       "4      59    blue-collar   married  secondary        0        0        1   \n",
       "5      35     management    single   tertiary        0      747        0   \n",
       "6      36  self-employed   married   tertiary        0      307        1   \n",
       "7      39     technician   married  secondary        0      147        1   \n",
       "8      41   entrepreneur   married   tertiary        0      221        1   \n",
       "9      43       services   married    primary        0      -88        1   \n",
       "10     39       services   married  secondary        0     9374        1   \n",
       "11     43         admin.   married  secondary        0      264        1   \n",
       "12     36     technician   married   tertiary        0     1109        0   \n",
       "13     20        student    single  secondary        0      502        0   \n",
       "14     31    blue-collar   married  secondary        0      360        1   \n",
       "15     40     management   married   tertiary        0      194        0   \n",
       "16     56     technician   married  secondary        0     4073        0   \n",
       "17     37         admin.    single   tertiary        0     2317        1   \n",
       "18     25    blue-collar    single    primary        0     -221        1   \n",
       "19     31       services   married  secondary        0      132        0   \n",
       "20     38     management  divorced    unknown        0        0        1   \n",
       "21     42     management  divorced   tertiary        0       16        0   \n",
       "22     44       services    single  secondary        0      106        0   \n",
       "23     44   entrepreneur   married  secondary        0       93        0   \n",
       "24     26      housemaid   married   tertiary        0      543        0   \n",
       "25     41     management   married   tertiary        0     5883        0   \n",
       "26     55    blue-collar   married    primary        0      627        1   \n",
       "27     67        retired   married    unknown        0      696        0   \n",
       "28     56  self-employed   married  secondary        0      784        0   \n",
       "29     53         admin.   married  secondary        0      105        0   \n",
       "...   ...            ...       ...        ...      ...      ...      ...   \n",
       "4491   35    blue-collar    single  secondary        0        0        1   \n",
       "4492   32     technician    single  secondary        0      309        1   \n",
       "4493   28     technician    single   tertiary        0        0        1   \n",
       "4494   26     technician    single  secondary        0      668        1   \n",
       "4495   48     management   married   tertiary        0     1175        1   \n",
       "4496   30    blue-collar    single  secondary        0      363        0   \n",
       "4497   31   entrepreneur    single   tertiary        0       38        0   \n",
       "4498   31     management   married   tertiary        0     1183        1   \n",
       "4499   45    blue-collar  divorced    primary        0      942        0   \n",
       "4500   38         admin.   married  secondary        0     4196        1   \n",
       "4501   34     management   married   tertiary        0      297        1   \n",
       "4502   42       services   married  secondary        0      -91        1   \n",
       "4503   60  self-employed   married    primary        0      362        0   \n",
       "4504   42    blue-collar    single  secondary        0     1080        1   \n",
       "4505   32         admin.    single  secondary        0      620        1   \n",
       "4506   42     unemployed  divorced   tertiary        0     -166        0   \n",
       "4507   33       services   married  secondary        0      288        1   \n",
       "4508   42         admin.   married    unknown        0      642        1   \n",
       "4509   51     technician   married   tertiary        0     2506        0   \n",
       "4510   36     technician  divorced  secondary        0      566        1   \n",
       "4511   46    blue-collar   married  secondary        0      668        1   \n",
       "4512   40    blue-collar   married  secondary        0     1100        1   \n",
       "4513   49    blue-collar   married  secondary        0      322        0   \n",
       "4514   38    blue-collar   married  secondary        0     1205        1   \n",
       "4515   32       services    single  secondary        0      473        1   \n",
       "4516   33       services   married  secondary        0     -333        1   \n",
       "4517   57  self-employed   married   tertiary        1    -3313        1   \n",
       "4518   57     technician   married  secondary        0      295        0   \n",
       "4519   28    blue-collar   married  secondary        0     1137        0   \n",
       "4520   44   entrepreneur    single   tertiary        0     1136        1   \n",
       "\n",
       "      loan    contact  day  month  duration  campaign  pdays  previous  \\\n",
       "0        0   cellular   19     10        79         1     -1         0   \n",
       "1        1   cellular   11      5       220         1    339         4   \n",
       "2        0   cellular   16      4       185         1    330         1   \n",
       "3        1    unknown    3      6       199         4     -1         0   \n",
       "4        0    unknown    5      5       226         1     -1         0   \n",
       "5        0   cellular   23      2       141         2    176         3   \n",
       "6        0   cellular   14      5       341         1    330         2   \n",
       "7        0   cellular    6      5       151         2     -1         0   \n",
       "8        0    unknown   14      5        57         2     -1         0   \n",
       "9        1   cellular   17      4       313         1    147         2   \n",
       "10       0    unknown   20      5       273         1     -1         0   \n",
       "11       0   cellular   17      4       113         2     -1         0   \n",
       "12       0   cellular   13      8       328         2     -1         0   \n",
       "13       0   cellular   30      4       261         1     -1         0   \n",
       "14       1   cellular   29      1        89         1    241         1   \n",
       "15       1   cellular   29      8       189         2     -1         0   \n",
       "16       0   cellular   27      8       239         5     -1         0   \n",
       "17       0   cellular   20      4       114         1    152         2   \n",
       "18       0    unknown   23      5       250         1     -1         0   \n",
       "19       0   cellular    7      7       148         1    152         1   \n",
       "20       0   cellular   18     11        96         2     -1         0   \n",
       "21       0   cellular   19     11       140         3     -1         0   \n",
       "22       0    unknown   12      6       109         2     -1         0   \n",
       "23       0   cellular    7      7       125         2     -1         0   \n",
       "24       0   cellular   30      1       169         3     -1         0   \n",
       "25       0   cellular   20     11       182         2     -1         0   \n",
       "26       0    unknown    5      5       247         1     -1         0   \n",
       "27       0  telephone   17      8       119         1    105         2   \n",
       "28       1   cellular   30      7       149         2     -1         0   \n",
       "29       1   cellular   21      8        74         2     -1         0   \n",
       "...    ...        ...  ...    ...       ...       ...    ...       ...   \n",
       "4491     0   cellular   16      4       169         1     -1         0   \n",
       "4492     1   cellular   16      4       346         1    234         3   \n",
       "4493     0    unknown    4      6       205         6     -1         0   \n",
       "4494     0    unknown   28      5       576         3     -1         0   \n",
       "4495     0  telephone   18     11      1476         3     -1         0   \n",
       "4496     0   cellular   28      7       171         3     -1         0   \n",
       "4497     0   cellular   20     11       185         2     -1         0   \n",
       "4498     0    unknown   27      5       676         6     -1         0   \n",
       "4499     0   cellular   21     11       362         1     -1         0   \n",
       "4500     0   cellular   12      5       193         2     -1         0   \n",
       "4501     0   cellular   26      8        63         4     -1         0   \n",
       "4502     1   cellular    5      2        43         1     -1         0   \n",
       "4503     1   cellular   29      7       816         6     -1         0   \n",
       "4504     1   cellular   13      5       951         3    370         4   \n",
       "4505     0    unknown   26      5      1234         3     -1         0   \n",
       "4506     0   cellular   29      8        85         4     -1         0   \n",
       "4507     0   cellular   17      4       306         1     -1         0   \n",
       "4508     1    unknown   16      5       509         2     -1         0   \n",
       "4509     0   cellular   30     11       210         3     -1         0   \n",
       "4510     0    unknown   20      5       129         2     -1         0   \n",
       "4511     0    unknown   15      5      1263         2     -1         0   \n",
       "4512     0    unknown   29      5       660         2     -1         0   \n",
       "4513     0   cellular   14      8       356         2     -1         0   \n",
       "4514     0   cellular   20      4        45         4    153         1   \n",
       "4515     0   cellular    7      7       624         5     -1         0   \n",
       "4516     0   cellular   30      7       329         5     -1         0   \n",
       "4517     1    unknown    9      5       153         1     -1         0   \n",
       "4518     0   cellular   19      8       151        11     -1         0   \n",
       "4519     0   cellular    6      2       129         4    211         3   \n",
       "4520     1   cellular    3      4       345         2    249         7   \n",
       "\n",
       "     poutcome  subscribed  \n",
       "0     unknown           0  \n",
       "1     failure           0  \n",
       "2     failure           0  \n",
       "3     unknown           0  \n",
       "4     unknown           0  \n",
       "5     failure           0  \n",
       "6       other           0  \n",
       "7     unknown           0  \n",
       "8     unknown           0  \n",
       "9     failure           0  \n",
       "10    unknown           0  \n",
       "11    unknown           0  \n",
       "12    unknown           0  \n",
       "13    unknown           1  \n",
       "14    failure           0  \n",
       "15    unknown           0  \n",
       "16    unknown           0  \n",
       "17    failure           0  \n",
       "18    unknown           0  \n",
       "19      other           0  \n",
       "20    unknown           0  \n",
       "21    unknown           0  \n",
       "22    unknown           0  \n",
       "23    unknown           0  \n",
       "24    unknown           0  \n",
       "25    unknown           0  \n",
       "26    unknown           0  \n",
       "27    failure           0  \n",
       "28    unknown           0  \n",
       "29    unknown           0  \n",
       "...       ...         ...  \n",
       "4491  unknown           0  \n",
       "4492  failure           0  \n",
       "4493  unknown           0  \n",
       "4494  unknown           1  \n",
       "4495  unknown           0  \n",
       "4496  unknown           0  \n",
       "4497  unknown           0  \n",
       "4498  unknown           0  \n",
       "4499  unknown           0  \n",
       "4500  unknown           0  \n",
       "4501  unknown           0  \n",
       "4502  unknown           0  \n",
       "4503  unknown           1  \n",
       "4504  failure           1  \n",
       "4505  unknown           1  \n",
       "4506  unknown           0  \n",
       "4507  unknown           0  \n",
       "4508  unknown           0  \n",
       "4509  unknown           0  \n",
       "4510  unknown           0  \n",
       "4511  unknown           1  \n",
       "4512  unknown           0  \n",
       "4513  unknown           0  \n",
       "4514  failure           0  \n",
       "4515  unknown           0  \n",
       "4516  unknown           0  \n",
       "4517  unknown           0  \n",
       "4518  unknown           0  \n",
       "4519    other           0  \n",
       "4520    other           0  \n",
       "\n",
       "[4521 rows x 17 columns]"
      ],
      "text/html": "<div>\n<style scoped>\n    .dataframe tbody tr th:only-of-type {\n        vertical-align: middle;\n    }\n\n    .dataframe tbody tr th {\n        vertical-align: top;\n    }\n\n    .dataframe thead th {\n        text-align: right;\n    }\n</style>\n<table border=\"1\" class=\"dataframe\">\n  <thead>\n    <tr style=\"text-align: right;\">\n      <th></th>\n      <th>age</th>\n      <th>job</th>\n      <th>marital</th>\n      <th>education</th>\n      <th>default</th>\n      <th>balance</th>\n      <th>housing</th>\n      <th>loan</th>\n      <th>contact</th>\n      <th>day</th>\n      <th>month</th>\n      <th>duration</th>\n      <th>campaign</th>\n      <th>pdays</th>\n      <th>previous</th>\n      <th>poutcome</th>\n      <th>subscribed</th>\n    </tr>\n  </thead>\n  <tbody>\n    <tr>\n      <th>0</th>\n      <td>30</td>\n      <td>unemployed</td>\n      <td>married</td>\n      <td>primary</td>\n      <td>0</td>\n      <td>1787</td>\n      <td>0</td>\n      <td>0</td>\n      <td>cellular</td>\n      <td>19</td>\n      <td>10</td>\n      <td>79</td>\n      <td>1</td>\n      <td>-1</td>\n      <td>0</td>\n      <td>unknown</td>\n      <td>0</td>\n    </tr>\n    <tr>\n      <th>1</th>\n      <td>33</td>\n      <td>services</td>\n      <td>married</td>\n      <td>secondary</td>\n      <td>0</td>\n      <td>4789</td>\n      <td>1</td>\n      <td>1</td>\n      <td>cellular</td>\n      <td>11</td>\n      <td>5</td>\n      <td>220</td>\n      <td>1</td>\n      <td>339</td>\n      <td>4</td>\n      <td>failure</td>\n      <td>0</td>\n    </tr>\n    <tr>\n      <th>2</th>\n      <td>35</td>\n      <td>management</td>\n      <td>single</td>\n      <td>tertiary</td>\n      <td>0</td>\n      <td>1350</td>\n      <td>1</td>\n      <td>0</td>\n      <td>cellular</td>\n      <td>16</td>\n      <td>4</td>\n      <td>185</td>\n      <td>1</td>\n      <td>330</td>\n      <td>1</td>\n      <td>failure</td>\n      <td>0</td>\n    </tr>\n    <tr>\n      <th>3</th>\n      <td>30</td>\n      <td>management</td>\n      <td>married</td>\n      <td>tertiary</td>\n      <td>0</td>\n      <td>1476</td>\n      <td>1</td>\n      <td>1</td>\n      <td>unknown</td>\n      <td>3</td>\n      <td>6</td>\n      <td>199</td>\n      <td>4</td>\n      <td>-1</td>\n      <td>0</td>\n      <td>unknown</td>\n      <td>0</td>\n    </tr>\n    <tr>\n      <th>4</th>\n      <td>59</td>\n      <td>blue-collar</td>\n      <td>married</td>\n      <td>secondary</td>\n      <td>0</td>\n      <td>0</td>\n      <td>1</td>\n      <td>0</td>\n      <td>unknown</td>\n      <td>5</td>\n      <td>5</td>\n      <td>226</td>\n      <td>1</td>\n      <td>-1</td>\n      <td>0</td>\n      <td>unknown</td>\n      <td>0</td>\n    </tr>\n    <tr>\n      <th>5</th>\n      <td>35</td>\n      <td>management</td>\n      <td>single</td>\n      <td>tertiary</td>\n      <td>0</td>\n      <td>747</td>\n      <td>0</td>\n      <td>0</td>\n      <td>cellular</td>\n      <td>23</td>\n      <td>2</td>\n      <td>141</td>\n      <td>2</td>\n      <td>176</td>\n      <td>3</td>\n      <td>failure</td>\n      <td>0</td>\n    </tr>\n    <tr>\n      <th>6</th>\n      <td>36</td>\n      <td>self-employed</td>\n      <td>married</td>\n      <td>tertiary</td>\n      <td>0</td>\n      <td>307</td>\n      <td>1</td>\n      <td>0</td>\n      <td>cellular</td>\n      <td>14</td>\n      <td>5</td>\n      <td>341</td>\n      <td>1</td>\n      <td>330</td>\n      <td>2</td>\n      <td>other</td>\n      <td>0</td>\n    </tr>\n    <tr>\n      <th>7</th>\n      <td>39</td>\n      <td>technician</td>\n      <td>married</td>\n      <td>secondary</td>\n      <td>0</td>\n      <td>147</td>\n      <td>1</td>\n      <td>0</td>\n      <td>cellular</td>\n      <td>6</td>\n      <td>5</td>\n      <td>151</td>\n      <td>2</td>\n      <td>-1</td>\n      <td>0</td>\n      <td>unknown</td>\n      <td>0</td>\n    </tr>\n    <tr>\n      <th>8</th>\n      <td>41</td>\n      <td>entrepreneur</td>\n      <td>married</td>\n      <td>tertiary</td>\n      <td>0</td>\n      <td>221</td>\n      <td>1</td>\n      <td>0</td>\n      <td>unknown</td>\n      <td>14</td>\n      <td>5</td>\n      <td>57</td>\n      <td>2</td>\n      <td>-1</td>\n      <td>0</td>\n      <td>unknown</td>\n      <td>0</td>\n    </tr>\n    <tr>\n      <th>9</th>\n      <td>43</td>\n      <td>services</td>\n      <td>married</td>\n      <td>primary</td>\n      <td>0</td>\n      <td>-88</td>\n      <td>1</td>\n      <td>1</td>\n      <td>cellular</td>\n      <td>17</td>\n      <td>4</td>\n      <td>313</td>\n      <td>1</td>\n      <td>147</td>\n      <td>2</td>\n      <td>failure</td>\n      <td>0</td>\n    </tr>\n    <tr>\n      <th>10</th>\n      <td>39</td>\n      <td>services</td>\n      <td>married</td>\n      <td>secondary</td>\n      <td>0</td>\n      <td>9374</td>\n      <td>1</td>\n      <td>0</td>\n      <td>unknown</td>\n      <td>20</td>\n      <td>5</td>\n      <td>273</td>\n      <td>1</td>\n      <td>-1</td>\n      <td>0</td>\n      <td>unknown</td>\n      <td>0</td>\n    </tr>\n    <tr>\n      <th>11</th>\n      <td>43</td>\n      <td>admin.</td>\n      <td>married</td>\n      <td>secondary</td>\n      <td>0</td>\n      <td>264</td>\n      <td>1</td>\n      <td>0</td>\n      <td>cellular</td>\n      <td>17</td>\n      <td>4</td>\n      <td>113</td>\n      <td>2</td>\n      <td>-1</td>\n      <td>0</td>\n      <td>unknown</td>\n      <td>0</td>\n    </tr>\n    <tr>\n      <th>12</th>\n      <td>36</td>\n      <td>technician</td>\n      <td>married</td>\n      <td>tertiary</td>\n      <td>0</td>\n      <td>1109</td>\n      <td>0</td>\n      <td>0</td>\n      <td>cellular</td>\n      <td>13</td>\n      <td>8</td>\n      <td>328</td>\n      <td>2</td>\n      <td>-1</td>\n      <td>0</td>\n      <td>unknown</td>\n      <td>0</td>\n    </tr>\n    <tr>\n      <th>13</th>\n      <td>20</td>\n      <td>student</td>\n      <td>single</td>\n      <td>secondary</td>\n      <td>0</td>\n      <td>502</td>\n      <td>0</td>\n      <td>0</td>\n      <td>cellular</td>\n      <td>30</td>\n      <td>4</td>\n      <td>261</td>\n      <td>1</td>\n      <td>-1</td>\n      <td>0</td>\n      <td>unknown</td>\n      <td>1</td>\n    </tr>\n    <tr>\n      <th>14</th>\n      <td>31</td>\n      <td>blue-collar</td>\n      <td>married</td>\n      <td>secondary</td>\n      <td>0</td>\n      <td>360</td>\n      <td>1</td>\n      <td>1</td>\n      <td>cellular</td>\n      <td>29</td>\n      <td>1</td>\n      <td>89</td>\n      <td>1</td>\n      <td>241</td>\n      <td>1</td>\n      <td>failure</td>\n      <td>0</td>\n    </tr>\n    <tr>\n      <th>15</th>\n      <td>40</td>\n      <td>management</td>\n      <td>married</td>\n      <td>tertiary</td>\n      <td>0</td>\n      <td>194</td>\n      <td>0</td>\n      <td>1</td>\n      <td>cellular</td>\n      <td>29</td>\n      <td>8</td>\n      <td>189</td>\n      <td>2</td>\n      <td>-1</td>\n      <td>0</td>\n      <td>unknown</td>\n      <td>0</td>\n    </tr>\n    <tr>\n      <th>16</th>\n      <td>56</td>\n      <td>technician</td>\n      <td>married</td>\n      <td>secondary</td>\n      <td>0</td>\n      <td>4073</td>\n      <td>0</td>\n      <td>0</td>\n      <td>cellular</td>\n      <td>27</td>\n      <td>8</td>\n      <td>239</td>\n      <td>5</td>\n      <td>-1</td>\n      <td>0</td>\n      <td>unknown</td>\n      <td>0</td>\n    </tr>\n    <tr>\n      <th>17</th>\n      <td>37</td>\n      <td>admin.</td>\n      <td>single</td>\n      <td>tertiary</td>\n      <td>0</td>\n      <td>2317</td>\n      <td>1</td>\n      <td>0</td>\n      <td>cellular</td>\n      <td>20</td>\n      <td>4</td>\n      <td>114</td>\n      <td>1</td>\n      <td>152</td>\n      <td>2</td>\n      <td>failure</td>\n      <td>0</td>\n    </tr>\n    <tr>\n      <th>18</th>\n      <td>25</td>\n      <td>blue-collar</td>\n      <td>single</td>\n      <td>primary</td>\n      <td>0</td>\n      <td>-221</td>\n      <td>1</td>\n      <td>0</td>\n      <td>unknown</td>\n      <td>23</td>\n      <td>5</td>\n      <td>250</td>\n      <td>1</td>\n      <td>-1</td>\n      <td>0</td>\n      <td>unknown</td>\n      <td>0</td>\n    </tr>\n    <tr>\n      <th>19</th>\n      <td>31</td>\n      <td>services</td>\n      <td>married</td>\n      <td>secondary</td>\n      <td>0</td>\n      <td>132</td>\n      <td>0</td>\n      <td>0</td>\n      <td>cellular</td>\n      <td>7</td>\n      <td>7</td>\n      <td>148</td>\n      <td>1</td>\n      <td>152</td>\n      <td>1</td>\n      <td>other</td>\n      <td>0</td>\n    </tr>\n    <tr>\n      <th>20</th>\n      <td>38</td>\n      <td>management</td>\n      <td>divorced</td>\n      <td>unknown</td>\n      <td>0</td>\n      <td>0</td>\n      <td>1</td>\n      <td>0</td>\n      <td>cellular</td>\n      <td>18</td>\n      <td>11</td>\n      <td>96</td>\n      <td>2</td>\n      <td>-1</td>\n      <td>0</td>\n      <td>unknown</td>\n      <td>0</td>\n    </tr>\n    <tr>\n      <th>21</th>\n      <td>42</td>\n      <td>management</td>\n      <td>divorced</td>\n      <td>tertiary</td>\n      <td>0</td>\n      <td>16</td>\n      <td>0</td>\n      <td>0</td>\n      <td>cellular</td>\n      <td>19</td>\n      <td>11</td>\n      <td>140</td>\n      <td>3</td>\n      <td>-1</td>\n      <td>0</td>\n      <td>unknown</td>\n      <td>0</td>\n    </tr>\n    <tr>\n      <th>22</th>\n      <td>44</td>\n      <td>services</td>\n      <td>single</td>\n      <td>secondary</td>\n      <td>0</td>\n      <td>106</td>\n      <td>0</td>\n      <td>0</td>\n      <td>unknown</td>\n      <td>12</td>\n      <td>6</td>\n      <td>109</td>\n      <td>2</td>\n      <td>-1</td>\n      <td>0</td>\n      <td>unknown</td>\n      <td>0</td>\n    </tr>\n    <tr>\n      <th>23</th>\n      <td>44</td>\n      <td>entrepreneur</td>\n      <td>married</td>\n      <td>secondary</td>\n      <td>0</td>\n      <td>93</td>\n      <td>0</td>\n      <td>0</td>\n      <td>cellular</td>\n      <td>7</td>\n      <td>7</td>\n      <td>125</td>\n      <td>2</td>\n      <td>-1</td>\n      <td>0</td>\n      <td>unknown</td>\n      <td>0</td>\n    </tr>\n    <tr>\n      <th>24</th>\n      <td>26</td>\n      <td>housemaid</td>\n      <td>married</td>\n      <td>tertiary</td>\n      <td>0</td>\n      <td>543</td>\n      <td>0</td>\n      <td>0</td>\n      <td>cellular</td>\n      <td>30</td>\n      <td>1</td>\n      <td>169</td>\n      <td>3</td>\n      <td>-1</td>\n      <td>0</td>\n      <td>unknown</td>\n      <td>0</td>\n    </tr>\n    <tr>\n      <th>25</th>\n      <td>41</td>\n      <td>management</td>\n      <td>married</td>\n      <td>tertiary</td>\n      <td>0</td>\n      <td>5883</td>\n      <td>0</td>\n      <td>0</td>\n      <td>cellular</td>\n      <td>20</td>\n      <td>11</td>\n      <td>182</td>\n      <td>2</td>\n      <td>-1</td>\n      <td>0</td>\n      <td>unknown</td>\n      <td>0</td>\n    </tr>\n    <tr>\n      <th>26</th>\n      <td>55</td>\n      <td>blue-collar</td>\n      <td>married</td>\n      <td>primary</td>\n      <td>0</td>\n      <td>627</td>\n      <td>1</td>\n      <td>0</td>\n      <td>unknown</td>\n      <td>5</td>\n      <td>5</td>\n      <td>247</td>\n      <td>1</td>\n      <td>-1</td>\n      <td>0</td>\n      <td>unknown</td>\n      <td>0</td>\n    </tr>\n    <tr>\n      <th>27</th>\n      <td>67</td>\n      <td>retired</td>\n      <td>married</td>\n      <td>unknown</td>\n      <td>0</td>\n      <td>696</td>\n      <td>0</td>\n      <td>0</td>\n      <td>telephone</td>\n      <td>17</td>\n      <td>8</td>\n      <td>119</td>\n      <td>1</td>\n      <td>105</td>\n      <td>2</td>\n      <td>failure</td>\n      <td>0</td>\n    </tr>\n    <tr>\n      <th>28</th>\n      <td>56</td>\n      <td>self-employed</td>\n      <td>married</td>\n      <td>secondary</td>\n      <td>0</td>\n      <td>784</td>\n      <td>0</td>\n      <td>1</td>\n      <td>cellular</td>\n      <td>30</td>\n      <td>7</td>\n      <td>149</td>\n      <td>2</td>\n      <td>-1</td>\n      <td>0</td>\n      <td>unknown</td>\n      <td>0</td>\n    </tr>\n    <tr>\n      <th>29</th>\n      <td>53</td>\n      <td>admin.</td>\n      <td>married</td>\n      <td>secondary</td>\n      <td>0</td>\n      <td>105</td>\n      <td>0</td>\n      <td>1</td>\n      <td>cellular</td>\n      <td>21</td>\n      <td>8</td>\n      <td>74</td>\n      <td>2</td>\n      <td>-1</td>\n      <td>0</td>\n      <td>unknown</td>\n      <td>0</td>\n    </tr>\n    <tr>\n      <th>...</th>\n      <td>...</td>\n      <td>...</td>\n      <td>...</td>\n      <td>...</td>\n      <td>...</td>\n      <td>...</td>\n      <td>...</td>\n      <td>...</td>\n      <td>...</td>\n      <td>...</td>\n      <td>...</td>\n      <td>...</td>\n      <td>...</td>\n      <td>...</td>\n      <td>...</td>\n      <td>...</td>\n      <td>...</td>\n    </tr>\n    <tr>\n      <th>4491</th>\n      <td>35</td>\n      <td>blue-collar</td>\n      <td>single</td>\n      <td>secondary</td>\n      <td>0</td>\n      <td>0</td>\n      <td>1</td>\n      <td>0</td>\n      <td>cellular</td>\n      <td>16</td>\n      <td>4</td>\n      <td>169</td>\n      <td>1</td>\n      <td>-1</td>\n      <td>0</td>\n      <td>unknown</td>\n      <td>0</td>\n    </tr>\n    <tr>\n      <th>4492</th>\n      <td>32</td>\n      <td>technician</td>\n      <td>single</td>\n      <td>secondary</td>\n      <td>0</td>\n      <td>309</td>\n      <td>1</td>\n      <td>1</td>\n      <td>cellular</td>\n      <td>16</td>\n      <td>4</td>\n      <td>346</td>\n      <td>1</td>\n      <td>234</td>\n      <td>3</td>\n      <td>failure</td>\n      <td>0</td>\n    </tr>\n    <tr>\n      <th>4493</th>\n      <td>28</td>\n      <td>technician</td>\n      <td>single</td>\n      <td>tertiary</td>\n      <td>0</td>\n      <td>0</td>\n      <td>1</td>\n      <td>0</td>\n      <td>unknown</td>\n      <td>4</td>\n      <td>6</td>\n      <td>205</td>\n      <td>6</td>\n      <td>-1</td>\n      <td>0</td>\n      <td>unknown</td>\n      <td>0</td>\n    </tr>\n    <tr>\n      <th>4494</th>\n      <td>26</td>\n      <td>technician</td>\n      <td>single</td>\n      <td>secondary</td>\n      <td>0</td>\n      <td>668</td>\n      <td>1</td>\n      <td>0</td>\n      <td>unknown</td>\n      <td>28</td>\n      <td>5</td>\n      <td>576</td>\n      <td>3</td>\n      <td>-1</td>\n      <td>0</td>\n      <td>unknown</td>\n      <td>1</td>\n    </tr>\n    <tr>\n      <th>4495</th>\n      <td>48</td>\n      <td>management</td>\n      <td>married</td>\n      <td>tertiary</td>\n      <td>0</td>\n      <td>1175</td>\n      <td>1</td>\n      <td>0</td>\n      <td>telephone</td>\n      <td>18</td>\n      <td>11</td>\n      <td>1476</td>\n      <td>3</td>\n      <td>-1</td>\n      <td>0</td>\n      <td>unknown</td>\n      <td>0</td>\n    </tr>\n    <tr>\n      <th>4496</th>\n      <td>30</td>\n      <td>blue-collar</td>\n      <td>single</td>\n      <td>secondary</td>\n      <td>0</td>\n      <td>363</td>\n      <td>0</td>\n      <td>0</td>\n      <td>cellular</td>\n      <td>28</td>\n      <td>7</td>\n      <td>171</td>\n      <td>3</td>\n      <td>-1</td>\n      <td>0</td>\n      <td>unknown</td>\n      <td>0</td>\n    </tr>\n    <tr>\n      <th>4497</th>\n      <td>31</td>\n      <td>entrepreneur</td>\n      <td>single</td>\n      <td>tertiary</td>\n      <td>0</td>\n      <td>38</td>\n      <td>0</td>\n      <td>0</td>\n      <td>cellular</td>\n      <td>20</td>\n      <td>11</td>\n      <td>185</td>\n      <td>2</td>\n      <td>-1</td>\n      <td>0</td>\n      <td>unknown</td>\n      <td>0</td>\n    </tr>\n    <tr>\n      <th>4498</th>\n      <td>31</td>\n      <td>management</td>\n      <td>married</td>\n      <td>tertiary</td>\n      <td>0</td>\n      <td>1183</td>\n      <td>1</td>\n      <td>0</td>\n      <td>unknown</td>\n      <td>27</td>\n      <td>5</td>\n      <td>676</td>\n      <td>6</td>\n      <td>-1</td>\n      <td>0</td>\n      <td>unknown</td>\n      <td>0</td>\n    </tr>\n    <tr>\n      <th>4499</th>\n      <td>45</td>\n      <td>blue-collar</td>\n      <td>divorced</td>\n      <td>primary</td>\n      <td>0</td>\n      <td>942</td>\n      <td>0</td>\n      <td>0</td>\n      <td>cellular</td>\n      <td>21</td>\n      <td>11</td>\n      <td>362</td>\n      <td>1</td>\n      <td>-1</td>\n      <td>0</td>\n      <td>unknown</td>\n      <td>0</td>\n    </tr>\n    <tr>\n      <th>4500</th>\n      <td>38</td>\n      <td>admin.</td>\n      <td>married</td>\n      <td>secondary</td>\n      <td>0</td>\n      <td>4196</td>\n      <td>1</td>\n      <td>0</td>\n      <td>cellular</td>\n      <td>12</td>\n      <td>5</td>\n      <td>193</td>\n      <td>2</td>\n      <td>-1</td>\n      <td>0</td>\n      <td>unknown</td>\n      <td>0</td>\n    </tr>\n    <tr>\n      <th>4501</th>\n      <td>34</td>\n      <td>management</td>\n      <td>married</td>\n      <td>tertiary</td>\n      <td>0</td>\n      <td>297</td>\n      <td>1</td>\n      <td>0</td>\n      <td>cellular</td>\n      <td>26</td>\n      <td>8</td>\n      <td>63</td>\n      <td>4</td>\n      <td>-1</td>\n      <td>0</td>\n      <td>unknown</td>\n      <td>0</td>\n    </tr>\n    <tr>\n      <th>4502</th>\n      <td>42</td>\n      <td>services</td>\n      <td>married</td>\n      <td>secondary</td>\n      <td>0</td>\n      <td>-91</td>\n      <td>1</td>\n      <td>1</td>\n      <td>cellular</td>\n      <td>5</td>\n      <td>2</td>\n      <td>43</td>\n      <td>1</td>\n      <td>-1</td>\n      <td>0</td>\n      <td>unknown</td>\n      <td>0</td>\n    </tr>\n    <tr>\n      <th>4503</th>\n      <td>60</td>\n      <td>self-employed</td>\n      <td>married</td>\n      <td>primary</td>\n      <td>0</td>\n      <td>362</td>\n      <td>0</td>\n      <td>1</td>\n      <td>cellular</td>\n      <td>29</td>\n      <td>7</td>\n      <td>816</td>\n      <td>6</td>\n      <td>-1</td>\n      <td>0</td>\n      <td>unknown</td>\n      <td>1</td>\n    </tr>\n    <tr>\n      <th>4504</th>\n      <td>42</td>\n      <td>blue-collar</td>\n      <td>single</td>\n      <td>secondary</td>\n      <td>0</td>\n      <td>1080</td>\n      <td>1</td>\n      <td>1</td>\n      <td>cellular</td>\n      <td>13</td>\n      <td>5</td>\n      <td>951</td>\n      <td>3</td>\n      <td>370</td>\n      <td>4</td>\n      <td>failure</td>\n      <td>1</td>\n    </tr>\n    <tr>\n      <th>4505</th>\n      <td>32</td>\n      <td>admin.</td>\n      <td>single</td>\n      <td>secondary</td>\n      <td>0</td>\n      <td>620</td>\n      <td>1</td>\n      <td>0</td>\n      <td>unknown</td>\n      <td>26</td>\n      <td>5</td>\n      <td>1234</td>\n      <td>3</td>\n      <td>-1</td>\n      <td>0</td>\n      <td>unknown</td>\n      <td>1</td>\n    </tr>\n    <tr>\n      <th>4506</th>\n      <td>42</td>\n      <td>unemployed</td>\n      <td>divorced</td>\n      <td>tertiary</td>\n      <td>0</td>\n      <td>-166</td>\n      <td>0</td>\n      <td>0</td>\n      <td>cellular</td>\n      <td>29</td>\n      <td>8</td>\n      <td>85</td>\n      <td>4</td>\n      <td>-1</td>\n      <td>0</td>\n      <td>unknown</td>\n      <td>0</td>\n    </tr>\n    <tr>\n      <th>4507</th>\n      <td>33</td>\n      <td>services</td>\n      <td>married</td>\n      <td>secondary</td>\n      <td>0</td>\n      <td>288</td>\n      <td>1</td>\n      <td>0</td>\n      <td>cellular</td>\n      <td>17</td>\n      <td>4</td>\n      <td>306</td>\n      <td>1</td>\n      <td>-1</td>\n      <td>0</td>\n      <td>unknown</td>\n      <td>0</td>\n    </tr>\n    <tr>\n      <th>4508</th>\n      <td>42</td>\n      <td>admin.</td>\n      <td>married</td>\n      <td>unknown</td>\n      <td>0</td>\n      <td>642</td>\n      <td>1</td>\n      <td>1</td>\n      <td>unknown</td>\n      <td>16</td>\n      <td>5</td>\n      <td>509</td>\n      <td>2</td>\n      <td>-1</td>\n      <td>0</td>\n      <td>unknown</td>\n      <td>0</td>\n    </tr>\n    <tr>\n      <th>4509</th>\n      <td>51</td>\n      <td>technician</td>\n      <td>married</td>\n      <td>tertiary</td>\n      <td>0</td>\n      <td>2506</td>\n      <td>0</td>\n      <td>0</td>\n      <td>cellular</td>\n      <td>30</td>\n      <td>11</td>\n      <td>210</td>\n      <td>3</td>\n      <td>-1</td>\n      <td>0</td>\n      <td>unknown</td>\n      <td>0</td>\n    </tr>\n    <tr>\n      <th>4510</th>\n      <td>36</td>\n      <td>technician</td>\n      <td>divorced</td>\n      <td>secondary</td>\n      <td>0</td>\n      <td>566</td>\n      <td>1</td>\n      <td>0</td>\n      <td>unknown</td>\n      <td>20</td>\n      <td>5</td>\n      <td>129</td>\n      <td>2</td>\n      <td>-1</td>\n      <td>0</td>\n      <td>unknown</td>\n      <td>0</td>\n    </tr>\n    <tr>\n      <th>4511</th>\n      <td>46</td>\n      <td>blue-collar</td>\n      <td>married</td>\n      <td>secondary</td>\n      <td>0</td>\n      <td>668</td>\n      <td>1</td>\n      <td>0</td>\n      <td>unknown</td>\n      <td>15</td>\n      <td>5</td>\n      <td>1263</td>\n      <td>2</td>\n      <td>-1</td>\n      <td>0</td>\n      <td>unknown</td>\n      <td>1</td>\n    </tr>\n    <tr>\n      <th>4512</th>\n      <td>40</td>\n      <td>blue-collar</td>\n      <td>married</td>\n      <td>secondary</td>\n      <td>0</td>\n      <td>1100</td>\n      <td>1</td>\n      <td>0</td>\n      <td>unknown</td>\n      <td>29</td>\n      <td>5</td>\n      <td>660</td>\n      <td>2</td>\n      <td>-1</td>\n      <td>0</td>\n      <td>unknown</td>\n      <td>0</td>\n    </tr>\n    <tr>\n      <th>4513</th>\n      <td>49</td>\n      <td>blue-collar</td>\n      <td>married</td>\n      <td>secondary</td>\n      <td>0</td>\n      <td>322</td>\n      <td>0</td>\n      <td>0</td>\n      <td>cellular</td>\n      <td>14</td>\n      <td>8</td>\n      <td>356</td>\n      <td>2</td>\n      <td>-1</td>\n      <td>0</td>\n      <td>unknown</td>\n      <td>0</td>\n    </tr>\n    <tr>\n      <th>4514</th>\n      <td>38</td>\n      <td>blue-collar</td>\n      <td>married</td>\n      <td>secondary</td>\n      <td>0</td>\n      <td>1205</td>\n      <td>1</td>\n      <td>0</td>\n      <td>cellular</td>\n      <td>20</td>\n      <td>4</td>\n      <td>45</td>\n      <td>4</td>\n      <td>153</td>\n      <td>1</td>\n      <td>failure</td>\n      <td>0</td>\n    </tr>\n    <tr>\n      <th>4515</th>\n      <td>32</td>\n      <td>services</td>\n      <td>single</td>\n      <td>secondary</td>\n      <td>0</td>\n      <td>473</td>\n      <td>1</td>\n      <td>0</td>\n      <td>cellular</td>\n      <td>7</td>\n      <td>7</td>\n      <td>624</td>\n      <td>5</td>\n      <td>-1</td>\n      <td>0</td>\n      <td>unknown</td>\n      <td>0</td>\n    </tr>\n    <tr>\n      <th>4516</th>\n      <td>33</td>\n      <td>services</td>\n      <td>married</td>\n      <td>secondary</td>\n      <td>0</td>\n      <td>-333</td>\n      <td>1</td>\n      <td>0</td>\n      <td>cellular</td>\n      <td>30</td>\n      <td>7</td>\n      <td>329</td>\n      <td>5</td>\n      <td>-1</td>\n      <td>0</td>\n      <td>unknown</td>\n      <td>0</td>\n    </tr>\n    <tr>\n      <th>4517</th>\n      <td>57</td>\n      <td>self-employed</td>\n      <td>married</td>\n      <td>tertiary</td>\n      <td>1</td>\n      <td>-3313</td>\n      <td>1</td>\n      <td>1</td>\n      <td>unknown</td>\n      <td>9</td>\n      <td>5</td>\n      <td>153</td>\n      <td>1</td>\n      <td>-1</td>\n      <td>0</td>\n      <td>unknown</td>\n      <td>0</td>\n    </tr>\n    <tr>\n      <th>4518</th>\n      <td>57</td>\n      <td>technician</td>\n      <td>married</td>\n      <td>secondary</td>\n      <td>0</td>\n      <td>295</td>\n      <td>0</td>\n      <td>0</td>\n      <td>cellular</td>\n      <td>19</td>\n      <td>8</td>\n      <td>151</td>\n      <td>11</td>\n      <td>-1</td>\n      <td>0</td>\n      <td>unknown</td>\n      <td>0</td>\n    </tr>\n    <tr>\n      <th>4519</th>\n      <td>28</td>\n      <td>blue-collar</td>\n      <td>married</td>\n      <td>secondary</td>\n      <td>0</td>\n      <td>1137</td>\n      <td>0</td>\n      <td>0</td>\n      <td>cellular</td>\n      <td>6</td>\n      <td>2</td>\n      <td>129</td>\n      <td>4</td>\n      <td>211</td>\n      <td>3</td>\n      <td>other</td>\n      <td>0</td>\n    </tr>\n    <tr>\n      <th>4520</th>\n      <td>44</td>\n      <td>entrepreneur</td>\n      <td>single</td>\n      <td>tertiary</td>\n      <td>0</td>\n      <td>1136</td>\n      <td>1</td>\n      <td>1</td>\n      <td>cellular</td>\n      <td>3</td>\n      <td>4</td>\n      <td>345</td>\n      <td>2</td>\n      <td>249</td>\n      <td>7</td>\n      <td>other</td>\n      <td>0</td>\n    </tr>\n  </tbody>\n</table>\n<p>4521 rows × 17 columns</p>\n</div>"
     },
     "metadata": {},
     "execution_count": 53
    }
   ],
   "source": [
    "data"
   ]
  }
 ]
}