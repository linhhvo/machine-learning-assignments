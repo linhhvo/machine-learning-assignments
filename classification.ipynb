{
 "metadata": {
  "language_info": {
   "codemirror_mode": {
    "name": "ipython",
    "version": 3
   },
   "file_extension": ".py",
   "mimetype": "text/x-python",
   "name": "python",
   "nbconvert_exporter": "python",
   "pygments_lexer": "ipython3",
   "version": "3.6.8-final"
  },
  "orig_nbformat": 2,
  "kernelspec": {
   "name": "python3",
   "display_name": "Python 3",
   "language": "python"
  }
 },
 "nbformat": 4,
 "nbformat_minor": 2,
 "cells": [
  {
   "cell_type": "code",
   "execution_count": 1,
   "metadata": {},
   "outputs": [],
   "source": [
    "import numpy as np\n",
    "import pandas as pd\n",
    "from sklearn.model_selection import train_test_split\n",
    "from sklearn.metrics import confusion_matrix, accuracy_score, classification_report\n",
    "from sklearn.tree import DecisionTreeClassifier, plot_tree\n",
    "from sklearn.ensemble import RandomForestClassifier, VotingClassifier\n",
    "from sklearn.pipeline import Pipeline\n",
    "import xgboost as xgb\n",
    "import matplotlib.pyplot as plt\n",
    "import category_encoders as ce\n",
    "from datetime import datetime"
   ]
  },
  {
   "cell_type": "code",
   "execution_count": 2,
   "metadata": {},
   "outputs": [],
   "source": [
    "# Performance Report\n",
    "def evaluate(y_test, y_pred):\n",
    "    print(\"Confusion Matrix: \")\n",
    "    print(confusion_matrix(y_test, y_pred))\n",
    "\n",
    "    print (\"Accuracy : \")\n",
    "    print(accuracy_score(y_test,y_pred)*100)\n",
    "\n",
    "    print(\"Report : \")\n",
    "    report = classification_report(y_test, y_pred)\n",
    "    print(report)"
   ]
  },
  {
   "source": [
    "data = pd.read_csv(\"bank.csv\")"
   ],
   "cell_type": "code",
   "metadata": {},
   "execution_count": 3,
   "outputs": []
  },
  {
   "source": [
    "<h3>Preprocessing data</h3>"
   ],
   "cell_type": "markdown",
   "metadata": {}
  },
  {
   "cell_type": "code",
   "execution_count": null,
   "metadata": {},
   "outputs": [],
   "source": [
    "data.rename(columns={'subcribed': 'subscribed'}, inplace=True)\n",
    "data = data.replace({'yes': 1, 'no': 0})\n",
    "data['education'] = data['education'].replace({'tertiary': 1, 'secondary': 2, 'primary': 3, 'unknown': 4})\n",
    "data['month'] = data['month'].transform(lambda x : datetime.strptime(x, '%b').month)"
   ]
  },
  {
   "cell_type": "code",
   "execution_count": null,
   "metadata": {},
   "outputs": [],
   "source": [
    "encoding_pipeline = Pipeline([\n",
    "    ('encode_others', ce.OneHotEncoder(cols=['marital', 'contact', 'poutcome'], use_cat_names=True, return_df=True)),\n",
    "    ('encode_job', ce.JamesSteinEncoder(cols=['job'], return_df=True))\n",
    "])\n",
    "\n",
    "data_transformed = encoding_pipeline.fit_transform(data, data['subscribed'])"
   ]
  },
  {
   "cell_type": "code",
   "execution_count": null,
   "metadata": {},
   "outputs": [],
   "source": [
    "data.rename(columns={'subcribed': 'subscribed'}, inplace=True)\n",
    "X = data.drop(columns=['subscribed'])\n",
    "y = data['subscribed']"
   ]
  },
  {
   "cell_type": "code",
   "execution_count": null,
   "metadata": {},
   "outputs": [],
   "source": [
    "from sklearn.preprocessing import LabelEncoder\n",
    "\n",
    "ohe = ce.OneHotEncoder(handle_unknown='ignore', use_cat_names=True)\n",
    "X = ohe.fit_transform(X)\n",
    "    \n",
    "te = LabelEncoder()\n",
    "y = te.fit_transform(y)"
   ]
  },
  {
   "cell_type": "code",
   "execution_count": null,
   "metadata": {},
   "outputs": [],
   "source": [
    "X_train, X_test, y_train, y_test = train_test_split(X, y, test_size=0.3, random_state = 100)"
   ]
  },
  {
   "source": [
    "<h3>Desicion Tree Model</h3>"
   ],
   "cell_type": "markdown",
   "metadata": {}
  },
  {
   "cell_type": "code",
   "execution_count": null,
   "metadata": {},
   "outputs": [],
   "source": [
    "tree_classifier = DecisionTreeClassifier(criterion=\"gini\", random_state = 100, max_depth = 4, min_samples_leaf = 5)\n",
    "\n",
    "tree_classifier.fit(X_train, y_train)\n",
    "y_pred_tree = tree_classifier.predict(X_test)\n",
    "evaluate(y_test, y_pred_tree)\n"
   ]
  },
  {
   "cell_type": "code",
   "execution_count": null,
   "metadata": {},
   "outputs": [],
   "source": [
    "feature_imp_tree = pd.Series(tree_classifier.feature_importances_, index = X_train.columns).sort_values(ascending=False)[:10]\n",
    "print(feature_imp_tree)"
   ]
  },
  {
   "cell_type": "code",
   "execution_count": null,
   "metadata": {},
   "outputs": [],
   "source": [
    "plt.figure(figsize=(20,10))\n",
    "\n",
    "plot_tree(tree_classifier, feature_names=X_train.columns, class_names=['no', 'yes'], rounded=True)\n",
    "\n",
    "plt.show()"
   ]
  },
  {
   "source": [
    "<h3>Random Forest Model</h3>"
   ],
   "cell_type": "markdown",
   "metadata": {}
  },
  {
   "cell_type": "code",
   "execution_count": null,
   "metadata": {},
   "outputs": [],
   "source": [
    "rf_classifier = RandomForestClassifier(criterion=\"gini\", random_state = 100, max_depth = 4, min_samples_leaf = 5)\n",
    "\n",
    "rf_classifier.fit(X_train, np.ravel(y_train))\n",
    "y_pred_rf = rf_classifier.predict(X_test)\n",
    "evaluate(y_test, y_pred_rf)\n"
   ]
  },
  {
   "cell_type": "code",
   "execution_count": null,
   "metadata": {},
   "outputs": [],
   "source": [
    "feature_imp_rf = pd.Series(rf_classifier.feature_importances_, index = X_train.columns).sort_values(ascending=False)[:10]\n",
    "print(feature_imp_rf)"
   ]
  },
  {
   "source": [
    "<h3>XGBoost</h3>\n"
   ],
   "cell_type": "markdown",
   "metadata": {}
  },
  {
   "cell_type": "code",
   "execution_count": null,
   "metadata": {},
   "outputs": [],
   "source": [
    "xgb_classifier = xgb.XGBClassifier(objective='binary:logistic', learning_rate=0.1, max_depth=4, use_label_encoder=False)\n",
    "xgb_classifier.fit(X_train, y_train)\n",
    "y_pred_xgb = xgb_classifier.predict(X_test)\n",
    "evaluate(y_test, y_pred_xgb)"
   ]
  },
  {
   "cell_type": "code",
   "execution_count": null,
   "metadata": {},
   "outputs": [],
   "source": [
    "feature_imp_xgb = pd.Series(xgb_classifier.feature_importances_, index = X_train.columns).sort_values(ascending=False)[:10]\n",
    "print(feature_imp_xgb)"
   ]
  },
  {
   "cell_type": "code",
   "execution_count": null,
   "metadata": {},
   "outputs": [],
   "source": [
    "plt.figure(figsize=(10,5))\n",
    "\n",
    "y_pos = np.arange(len(feature_imp_xgb))\n",
    "plt.bar(y_pos, feature_imp_xgb, align='center', color='purple')\n",
    "plt.xticks(y_pos, feature_imp_xgb.index, rotation=30, ha='right')\n",
    "plt.xlabel('Features')\n",
    "plt.title(\"Feature Importance\", weight='bold', fontsize=18, pad=20)\n",
    "plt.show()"
   ]
  },
  {
   "source": [
    "<h3>Voting</h3>"
   ],
   "cell_type": "markdown",
   "metadata": {}
  },
  {
   "cell_type": "code",
   "execution_count": null,
   "metadata": {},
   "outputs": [],
   "source": [
    "vt_classifier = VotingClassifier(estimators=[(\"tree\", tree_classifier),(\"rf\", rf_classifier),(\"xgb\", xgb_classifier)])\n",
    "vt_classifier.fit(X_train, y_train)\n",
    "y_pred_vt = vt_classifier.predict(X_test)\n",
    "evaluate(y_test, y_pred_vt)"
   ]
  },
  {
   "cell_type": "code",
   "execution_count": null,
   "metadata": {},
   "outputs": [],
   "source": []
  }
 ]
}