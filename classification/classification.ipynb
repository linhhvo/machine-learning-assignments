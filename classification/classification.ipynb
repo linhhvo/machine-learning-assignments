{
 "metadata": {
  "language_info": {
   "codemirror_mode": {
    "name": "ipython",
    "version": 3
   },
   "file_extension": ".py",
   "mimetype": "text/x-python",
   "name": "python",
   "nbconvert_exporter": "python",
   "pygments_lexer": "ipython3",
   "version": "3.6.8-final"
  },
  "orig_nbformat": 2,
  "kernelspec": {
   "name": "python3",
   "display_name": "Python 3",
   "language": "python"
  }
 },
 "nbformat": 4,
 "nbformat_minor": 2,
 "cells": [
  {
   "cell_type": "code",
   "execution_count": null,
   "metadata": {},
   "outputs": [],
   "source": [
    "import numpy as np\n",
    "import pandas as pd\n",
    "from sklearn.model_selection import train_test_split\n",
    "from sklearn.metrics import confusion_matrix, accuracy_score, classification_report\n",
    "from sklearn.tree import DecisionTreeClassifier, plot_tree\n",
    "from sklearn.ensemble import RandomForestClassifier, VotingClassifier\n",
    "from sklearn.pipeline import Pipeline\n",
    "import xgboost as xgb\n",
    "import matplotlib.pyplot as plt\n",
    "import category_encoders as ce\n",
    "from datetime import datetime"
   ]
  },
  {
   "cell_type": "code",
   "execution_count": null,
   "metadata": {},
   "outputs": [],
   "source": [
    "# Performance Report\n",
    "def evaluate(y_test, y_pred):\n",
    "    print(\"Confusion Matrix: \")\n",
    "    print(confusion_matrix(y_test, y_pred))\n",
    "\n",
    "    print (\"Accuracy : \")\n",
    "    print(accuracy_score(y_test,y_pred)*100)\n",
    "\n",
    "    print(\"Report : \")\n",
    "    report = classification_report(y_test, y_pred)\n",
    "    print(report)"
   ]
  },
  {
   "source": [
    "data = pd.read_csv(\"bank.csv\")"
   ],
   "cell_type": "code",
   "metadata": {},
   "execution_count": null,
   "outputs": []
  },
  {
   "cell_type": "code",
   "execution_count": null,
   "metadata": {},
   "outputs": [],
   "source": [
    "data.head()"
   ]
  },
  {
   "source": [
    "<h3>Preprocessing data</h3>"
   ],
   "cell_type": "markdown",
   "metadata": {}
  },
  {
   "cell_type": "code",
   "execution_count": null,
   "metadata": {},
   "outputs": [],
   "source": [
    "data.rename(columns={'subcribed': 'subscribed'}, inplace=True)\n",
    "data = data.replace({'yes': 1, 'no': 0})\n",
    "data['education'] = data['education'].replace({'tertiary': 1, 'secondary': 2, 'primary': 3, 'unknown': 4})\n",
    "data['month'] = data['month'].transform(lambda x : datetime.strptime(x, '%b').month)"
   ]
  },
  {
   "cell_type": "code",
   "execution_count": null,
   "metadata": {},
   "outputs": [],
   "source": [
    "encoding_pipeline = Pipeline([\n",
    "    ('encode_others', ce.OneHotEncoder(cols=['marital', 'contact', 'poutcome'], use_cat_names=True, return_df=True)),\n",
    "    ('encode_job', ce.JamesSteinEncoder(cols=['job'], return_df=True))\n",
    "])\n",
    "\n",
    "data_transformed = encoding_pipeline.fit_transform(data, data['subscribed'])"
   ]
  },
  {
   "cell_type": "code",
   "execution_count": null,
   "metadata": {},
   "outputs": [],
   "source": [
    "data.rename(columns={'subcribed': 'subscribed'}, inplace=True)\n",
    " # Encoding features\n",
    "data = data.replace({\"yes\": 1, \"no\": 0})\n",
    "ohe = ce.OneHotEncoder(\n",
    "    cols=[\"job\", \"marital\", \"education\", \"contact\", \"month\", \"poutcome\"],\n",
    "    use_cat_names=True,\n",
    "    return_df=True,\n",
    ")\n",
    "data = ohe.fit_transform(data)"
   ]
  },
  {
   "cell_type": "code",
   "execution_count": null,
   "metadata": {},
   "outputs": [],
   "source": [
    "X = data.drop(columns=['subscribed'])\n",
    "y = data['subscribed']"
   ]
  },
  {
   "cell_type": "code",
   "execution_count": null,
   "metadata": {},
   "outputs": [],
   "source": [
    "X_train, X_test, y_train, y_test = train_test_split(X, y, test_size=0.3, random_state = 100)"
   ]
  },
  {
   "cell_type": "code",
   "execution_count": null,
   "metadata": {},
   "outputs": [],
   "source": [
    "from sklearn import decomposition, datasets\n",
    "from sklearn import tree\n",
    "from sklearn.pipeline import Pipeline\n",
    "from sklearn.model_selection import GridSearchCV\n",
    "from sklearn.preprocessing import StandardScaler"
   ]
  },
  {
   "cell_type": "code",
   "execution_count": 43,
   "metadata": {},
   "outputs": [
    {
     "output_type": "execute_result",
     "data": {
      "text/plain": [
       "XGBClassifier(base_score=0.5, booster='gbtree', colsample_bylevel=1,\n",
       "              colsample_bynode=1, colsample_bytree=1, gamma=0,\n",
       "              learning_rate=0.05, max_delta_step=0, max_depth=4,\n",
       "              min_child_weight=1, missing=None, n_estimators=100, n_jobs=1,\n",
       "              nthread=None, objective='binary:logistic', random_state=0,\n",
       "              reg_alpha=0, reg_lambda=1, scale_pos_weight=1, seed=None,\n",
       "              silent=None, subsample=1, use_label_encoder=False, verbosity=1)"
      ]
     },
     "metadata": {},
     "execution_count": 43
    }
   ],
   "source": [
    "xgb_classifier = xgb.XGBClassifier(\n",
    "        objective=\"binary:logistic\",\n",
    "        learning_rate=0.05,\n",
    "        max_depth=4,\n",
    "        min_child_weight=1,\n",
    "        use_label_encoder=False,\n",
    "    )\n",
    "xgb_classifier.fit(X_train, y_train)"
   ]
  },
  {
   "cell_type": "code",
   "execution_count": 46,
   "metadata": {},
   "outputs": [
    {
     "output_type": "stream",
     "name": "stdout",
     "text": [
      "Fitting 3 folds for each of 315 candidates, totalling 945 fits\n",
      "[Parallel(n_jobs=-1)]: Using backend LokyBackend with 8 concurrent workers.\n",
      "[Parallel(n_jobs=-1)]: Done  34 tasks      | elapsed:    4.7s\n",
      "[Parallel(n_jobs=-1)]: Done 184 tasks      | elapsed:   34.9s\n",
      "[Parallel(n_jobs=-1)]: Done 434 tasks      | elapsed:  1.3min\n",
      "[Parallel(n_jobs=-1)]: Done 784 tasks      | elapsed:  2.6min\n",
      "[Parallel(n_jobs=-1)]: Done 945 out of 945 | elapsed:  3.2min finished\n"
     ]
    },
    {
     "output_type": "execute_result",
     "data": {
      "text/plain": [
       "GridSearchCV(cv='warn', error_score='raise-deprecating',\n",
       "             estimator=XGBClassifier(base_score=0.5, booster='gbtree',\n",
       "                                     colsample_bylevel=1, colsample_bynode=1,\n",
       "                                     colsample_bytree=1, gamma=0,\n",
       "                                     learning_rate=0.05, max_delta_step=0,\n",
       "                                     max_depth=4, min_child_weight=1,\n",
       "                                     missing=None, n_estimators=100, n_jobs=1,\n",
       "                                     nthread=None, objective='binary:logistic',\n",
       "                                     random_state=0, reg_alpha=0, reg_lambda=1,\n",
       "                                     scale_pos_weight=1, seed=None, silent=None,\n",
       "                                     subsample=1, use_label_encoder=False,\n",
       "                                     verbosity=1),\n",
       "             iid='warn', n_jobs=-1,\n",
       "             param_grid={'gamma': array([0, 1, 2, 3, 4]),\n",
       "                         'max_depth': range(3, 10),\n",
       "                         'min_child_weight': range(1, 10)},\n",
       "             pre_dispatch='2*n_jobs', refit=True, return_train_score=False,\n",
       "             scoring=None, verbose=1)"
      ]
     },
     "metadata": {},
     "execution_count": 46
    }
   ],
   "source": [
    "param_dict = {\n",
    "    'max_depth': range(3,10),\n",
    "    'min_child_weight': range(1, 10),\n",
    "    'gamma': np.arange(0,5)\n",
    "}\n",
    "\n",
    "grid = GridSearchCV(xgb_classifier, param_grid=param_dict, verbose=1, n_jobs=-1)\n",
    "grid.fit(X_train, y_train)"
   ]
  },
  {
   "cell_type": "code",
   "execution_count": 47,
   "metadata": {},
   "outputs": [
    {
     "output_type": "execute_result",
     "data": {
      "text/plain": [
       "{'gamma': 0, 'max_depth': 9, 'min_child_weight': 3}"
      ]
     },
     "metadata": {},
     "execution_count": 47
    }
   ],
   "source": [
    "grid.best_params_"
   ]
  },
  {
   "cell_type": "code",
   "execution_count": 41,
   "metadata": {},
   "outputs": [
    {
     "output_type": "execute_result",
     "data": {
      "text/plain": [
       "RandomForestClassifier(bootstrap=True, class_weight=None, criterion='gini',\n",
       "                       max_depth=7, max_features='log2', max_leaf_nodes=9,\n",
       "                       min_impurity_decrease=0.0, min_impurity_split=None,\n",
       "                       min_samples_leaf=4, min_samples_split=9,\n",
       "                       min_weight_fraction_leaf=0.0, n_estimators=10,\n",
       "                       n_jobs=None, oob_score=False, random_state=100,\n",
       "                       verbose=0, warm_start=False)"
      ]
     },
     "metadata": {},
     "execution_count": 41
    }
   ],
   "source": [
    "grid.best_estimator_"
   ]
  },
  {
   "cell_type": "code",
   "execution_count": 40,
   "metadata": {},
   "outputs": [
    {
     "output_type": "execute_result",
     "data": {
      "text/plain": [
       "0.8868520859671302"
      ]
     },
     "metadata": {},
     "execution_count": 40
    }
   ],
   "source": [
    "grid.best_score_"
   ]
  },
  {
   "source": [
    "<h3>Desicion Tree Model</h3>"
   ],
   "cell_type": "markdown",
   "metadata": {}
  },
  {
   "cell_type": "code",
   "execution_count": null,
   "metadata": {},
   "outputs": [],
   "source": [
    "tree_classifier = DecisionTreeClassifier(criterion=\"gini\", random_state = 100, max_depth = 4, min_samples_leaf = 5)\n",
    "\n",
    "tree_classifier.fit(X_train, y_train)\n",
    "y_pred_tree = tree_classifier.predict(X_test)\n",
    "evaluate(y_test, y_pred_tree)\n"
   ]
  },
  {
   "cell_type": "code",
   "execution_count": null,
   "metadata": {},
   "outputs": [],
   "source": [
    "feature_imp_tree = pd.Series(tree_classifier.feature_importances_, index = X_train.columns).sort_values(ascending=False)[:10]\n",
    "print(feature_imp_tree)"
   ]
  },
  {
   "cell_type": "code",
   "execution_count": null,
   "metadata": {},
   "outputs": [],
   "source": [
    "plt.figure(figsize=(20,10))\n",
    "\n",
    "plot_tree(tree_classifier, feature_names=X_train.columns, class_names=['no', 'yes'], rounded=True)\n",
    "\n",
    "plt.show()"
   ]
  },
  {
   "source": [
    "<h3>Random Forest Model</h3>"
   ],
   "cell_type": "markdown",
   "metadata": {}
  },
  {
   "cell_type": "code",
   "execution_count": null,
   "metadata": {},
   "outputs": [],
   "source": [
    "rf_classifier = RandomForestClassifier(criterion=\"gini\", random_state = 100, max_depth = 4, min_samples_leaf = 5)\n",
    "\n",
    "rf_classifier.fit(X_train, np.ravel(y_train))\n",
    "y_pred_rf = rf_classifier.predict(X_test)\n",
    "evaluate(y_test, y_pred_rf)\n"
   ]
  },
  {
   "cell_type": "code",
   "execution_count": null,
   "metadata": {},
   "outputs": [],
   "source": [
    "feature_imp_rf = pd.Series(rf_classifier.feature_importances_, index = X_train.columns).sort_values(ascending=False)[:10]\n",
    "print(feature_imp_rf)"
   ]
  },
  {
   "source": [
    "<h3>XGBoost</h3>\n"
   ],
   "cell_type": "markdown",
   "metadata": {}
  },
  {
   "cell_type": "code",
   "execution_count": null,
   "metadata": {},
   "outputs": [],
   "source": [
    "xgb_classifier = xgb.XGBClassifier(objective='binary:logistic', learning_rate=0.1, max_depth=4, use_label_encoder=False)\n",
    "xgb_classifier.fit(X_train, y_train)\n",
    "y_pred_xgb = xgb_classifier.predict(X_test)\n",
    "evaluate(y_test, y_pred_xgb)"
   ]
  },
  {
   "cell_type": "code",
   "execution_count": null,
   "metadata": {},
   "outputs": [],
   "source": [
    "feature_imp_xgb = pd.Series(xgb_classifier.feature_importances_, index = X_train.columns).sort_values(ascending=False)[:10]\n",
    "print(feature_imp_xgb)"
   ]
  },
  {
   "cell_type": "code",
   "execution_count": null,
   "metadata": {},
   "outputs": [],
   "source": [
    "plt.figure(figsize=(10,5))\n",
    "\n",
    "y_pos = np.arange(len(feature_imp_xgb))\n",
    "plt.bar(y_pos, feature_imp_xgb, align='center', color='purple')\n",
    "plt.xticks(y_pos, feature_imp_xgb.index, rotation=30, ha='right')\n",
    "plt.xlabel('Features')\n",
    "plt.title(\"Feature Importance\", weight='bold', fontsize=18, pad=20)\n",
    "plt.show()"
   ]
  },
  {
   "source": [
    "<h3>Voting</h3>"
   ],
   "cell_type": "markdown",
   "metadata": {}
  },
  {
   "cell_type": "code",
   "execution_count": null,
   "metadata": {},
   "outputs": [],
   "source": [
    "vt_classifier = VotingClassifier(estimators=[(\"tree\", tree_classifier),(\"rf\", rf_classifier),(\"xgb\", xgb_classifier)])\n",
    "vt_classifier.fit(X_train, y_train)\n",
    "y_pred_vt = vt_classifier.predict(X_test)\n",
    "evaluate(y_test, y_pred_vt)"
   ]
  },
  {
   "cell_type": "code",
   "execution_count": null,
   "metadata": {},
   "outputs": [],
   "source": []
  }
 ]
}