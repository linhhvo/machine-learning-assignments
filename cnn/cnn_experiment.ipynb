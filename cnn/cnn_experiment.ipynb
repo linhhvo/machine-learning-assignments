{
  "nbformat": 4,
  "nbformat_minor": 0,
  "metadata": {
    "colab": {
      "name": "cnn-experiment.ipynb",
      "provenance": [],
      "collapsed_sections": []
    },
    "kernelspec": {
      "name": "python3",
      "display_name": "Python 3"
    },
    "language_info": {
      "name": "python"
    },
    "accelerator": "GPU"
  },
  "cells": [
    {
      "cell_type": "code",
      "metadata": {
        "id": "4H1fJfUqvHMh"
      },
      "source": [
        "import pandas as pd\n",
        "import numpy as np\n",
        "import matplotlib.pyplot as plt\n",
        "import tensorflow as tf\n",
        "from tensorflow import keras\n",
        "from tensorflow.keras.models import Sequential\n",
        "from tensorflow.keras.layers import Conv2D, MaxPooling2D, Dense, Flatten, Dropout, BatchNormalization\n",
        "from tensorflow.keras import backend\n",
        "import sys\n",
        "import h5py"
      ],
      "execution_count": null,
      "outputs": []
    },
    {
      "cell_type": "code",
      "metadata": {
        "id": "ZbAsYLA31WmZ",
        "colab": {
          "base_uri": "https://localhost:8080/"
        },
        "outputId": "bed06187-0ee7-4ba3-c132-f836447de5d8"
      },
      "source": [
        "# To use GPU, run this to check GPU is set up\n",
        "device_name = tf.test.gpu_device_name()\n",
        "if device_name != '/device:GPU:0':\n",
        "  raise SystemError('GPU device not found')\n",
        "print('Found GPU at: {}'.format(device_name))"
      ],
      "execution_count": null,
      "outputs": [
        {
          "output_type": "stream",
          "text": [
            "Found GPU at: /device:GPU:0\n"
          ],
          "name": "stdout"
        }
      ]
    },
    {
      "cell_type": "code",
      "metadata": {
        "colab": {
          "base_uri": "https://localhost:8080/"
        },
        "id": "zWRIwlfnxTQH",
        "outputId": "19349b67-d0c9-43eb-a658-a2a6454e858c"
      },
      "source": [
        "from google.colab import drive\n",
        "drive.mount(\"/content/drive/\")"
      ],
      "execution_count": null,
      "outputs": [
        {
          "output_type": "stream",
          "text": [
            "Drive already mounted at /content/drive/; to attempt to forcibly remount, call drive.mount(\"/content/drive/\", force_remount=True).\n"
          ],
          "name": "stdout"
        }
      ]
    },
    {
      "cell_type": "code",
      "metadata": {
        "colab": {
          "base_uri": "https://localhost:8080/",
          "height": 36
        },
        "id": "OK_j8RYrxhJ-",
        "outputId": "bd631fa4-bdc9-4ca6-826e-4ed402ef5c5d"
      },
      "source": [
        "sys.path.insert(0,'/content/drive/My Drive/CS733-HW4/')\n",
        "root_path=sys.path[0]\n",
        "root_path"
      ],
      "execution_count": null,
      "outputs": [
        {
          "output_type": "execute_result",
          "data": {
            "application/vnd.google.colaboratory.intrinsic+json": {
              "type": "string"
            },
            "text/plain": [
              "'/content/drive/My Drive/CS733-HW4/'"
            ]
          },
          "metadata": {
            "tags": []
          },
          "execution_count": 4
        }
      ]
    },
    {
      "cell_type": "code",
      "metadata": {
        "id": "vvBcLLy1yKwP"
      },
      "source": [
        "def load_dataset():\n",
        "    train_dataset = h5py.File(f'{root_path}datasets/train_catvnoncat.h5', \"r\")\n",
        "    train_set_x_orig = np.array(train_dataset[\"train_set_x\"][:]) # your train set features\n",
        "    train_set_y_orig = np.array(train_dataset[\"train_set_y\"][:]) # your train set labels\n",
        "    #train_set_y_orig is a 1D array (with one row, just like a list), which is different from a 2D array with only one row\n",
        "\n",
        "    test_dataset = h5py.File(f'{root_path}datasets/test_catvnoncat.h5', \"r\")\n",
        "    test_set_x_orig = np.array(test_dataset[\"test_set_x\"][:]) # your test set features\n",
        "    test_set_y_orig = np.array(test_dataset[\"test_set_y\"][:]) # your test set labels\n",
        "\n",
        "    classes = np.array(test_dataset[\"list_classes\"][:]) # the list of classes\n",
        "    \n",
        "    #Transforming y arrays (1D) to 2D arrays (with only one row)\n",
        "    train_set_y_orig = train_set_y_orig.reshape((1, train_set_y_orig.shape[0]))\n",
        "    test_set_y_orig = test_set_y_orig.reshape((1, test_set_y_orig.shape[0]))\n",
        "    \n",
        "    return train_set_x_orig, train_set_y_orig, test_set_x_orig, test_set_y_orig, classes"
      ],
      "execution_count": null,
      "outputs": []
    },
    {
      "cell_type": "code",
      "metadata": {
        "id": "LATkN-D4vvm_"
      },
      "source": [
        "# Load and preprocess data\n",
        "X_train, y_train, X_test, y_test, classes = load_dataset()\n",
        "\n",
        "y_train = y_train.T\n",
        "y_test = y_test.T"
      ],
      "execution_count": null,
      "outputs": []
    },
    {
      "cell_type": "code",
      "metadata": {
        "id": "ehBKUoLwx9TW"
      },
      "source": [
        "# print(\"Original X shape: \", X_train.shape)\n",
        "# print(\"X data type:\", X_train.dtype)\n",
        "# print(\"Y shape: \", y_train.shape)"
      ],
      "execution_count": null,
      "outputs": []
    },
    {
      "cell_type": "code",
      "metadata": {
        "id": "hDPJr72Uy4HQ",
        "colab": {
          "base_uri": "https://localhost:8080/"
        },
        "outputId": "124c26a9-b5db-4696-bdd4-789595550572"
      },
      "source": [
        "# Construct a CNN network\n",
        "model = Sequential(\n",
        "    [\n",
        "      Conv2D(filters=32, kernel_size=3, padding= 'same', activation='relu', input_shape=(64,64,3)),\n",
        "      BatchNormalization(),\n",
        "      MaxPooling2D(),\n",
        "      Conv2D(filters=64, kernel_size=3, padding= 'same', activation='relu'),\n",
        "      BatchNormalization(),\n",
        "      MaxPooling2D(),\n",
        "      Conv2D(filters=128, kernel_size=3, padding= 'same', activation='relu'),\n",
        "      BatchNormalization(),\n",
        "      MaxPooling2D(),\n",
        "      Conv2D(filters=128, kernel_size=3, padding= 'same', activation='relu'),\n",
        "      BatchNormalization(),\n",
        "      MaxPooling2D(),\n",
        "      Flatten(),\n",
        "      Dropout(0.5),\n",
        "      Dense(512, activation=\"relu\"),\n",
        "      Dense(1, activation=\"sigmoid\")\n",
        "    ]\n",
        ")\n",
        "\n",
        "# Get the summary of each layer\n",
        "print(model.summary())"
      ],
      "execution_count": 15,
      "outputs": [
        {
          "output_type": "stream",
          "text": [
            "Model: \"sequential_1\"\n",
            "_________________________________________________________________\n",
            "Layer (type)                 Output Shape              Param #   \n",
            "=================================================================\n",
            "conv2d_6 (Conv2D)            (None, 64, 64, 32)        896       \n",
            "_________________________________________________________________\n",
            "batch_normalization_4 (Batch (None, 64, 64, 32)        128       \n",
            "_________________________________________________________________\n",
            "max_pooling2d_4 (MaxPooling2 (None, 32, 32, 32)        0         \n",
            "_________________________________________________________________\n",
            "conv2d_7 (Conv2D)            (None, 32, 32, 64)        18496     \n",
            "_________________________________________________________________\n",
            "batch_normalization_5 (Batch (None, 32, 32, 64)        256       \n",
            "_________________________________________________________________\n",
            "max_pooling2d_5 (MaxPooling2 (None, 16, 16, 64)        0         \n",
            "_________________________________________________________________\n",
            "conv2d_8 (Conv2D)            (None, 16, 16, 128)       73856     \n",
            "_________________________________________________________________\n",
            "batch_normalization_6 (Batch (None, 16, 16, 128)       512       \n",
            "_________________________________________________________________\n",
            "max_pooling2d_6 (MaxPooling2 (None, 8, 8, 128)         0         \n",
            "_________________________________________________________________\n",
            "conv2d_9 (Conv2D)            (None, 8, 8, 128)         147584    \n",
            "_________________________________________________________________\n",
            "batch_normalization_7 (Batch (None, 8, 8, 128)         512       \n",
            "_________________________________________________________________\n",
            "max_pooling2d_7 (MaxPooling2 (None, 4, 4, 128)         0         \n",
            "_________________________________________________________________\n",
            "flatten_1 (Flatten)          (None, 2048)              0         \n",
            "_________________________________________________________________\n",
            "dropout_1 (Dropout)          (None, 2048)              0         \n",
            "_________________________________________________________________\n",
            "dense_2 (Dense)              (None, 512)               1049088   \n",
            "_________________________________________________________________\n",
            "dense_3 (Dense)              (None, 1)                 513       \n",
            "=================================================================\n",
            "Total params: 1,291,841\n",
            "Trainable params: 1,291,137\n",
            "Non-trainable params: 704\n",
            "_________________________________________________________________\n",
            "None\n"
          ],
          "name": "stdout"
        }
      ]
    },
    {
      "cell_type": "code",
      "metadata": {
        "id": "4ynhuEx20L6y"
      },
      "source": [
        "# Compile model\n",
        "# custom_opt = keras.optimizers.Adagrad(learning_rate=0.0001)\n",
        "# model.compile(optimizer=custom_opt, loss=\"binary_crossentropy\", metrics=[\"accuracy\"])\n",
        "\n",
        "model.compile(optimizer='nadam', loss=\"binary_crossentropy\", metrics=[\"accuracy\"])"
      ],
      "execution_count": null,
      "outputs": []
    },
    {
      "cell_type": "code",
      "metadata": {
        "id": "xWAJnYH8ybAX"
      },
      "source": [
        "# checkpointer = keras.callbacks.ModelCheckpoint(\"cats_model.h5\", save_best_only=True)\n",
        "# earlystopper = keras.callbacks.EarlyStopping(patience=20, restore_best_weights=True)\n",
        "\n",
        "# history = model.fit(X_train, y_train, epochs=100, validation_split=0.1, callbacks=[checkpointer, earlystopper], verbose=0)"
      ],
      "execution_count": null,
      "outputs": []
    },
    {
      "cell_type": "code",
      "metadata": {
        "id": "gFPs4H7b0ZYK"
      },
      "source": [
        "# Train model for 100 epochs\n",
        "history = model.fit(X_train, y_train, epochs=100, validation_split=0.1, verbose=0)"
      ],
      "execution_count": null,
      "outputs": []
    },
    {
      "cell_type": "code",
      "metadata": {
        "id": "ea-lWsxX8PrS",
        "colab": {
          "base_uri": "https://localhost:8080/"
        },
        "outputId": "3dacaf6b-5bf5-4b0b-f35a-43b42bf83b5c"
      },
      "source": [
        "print(\"Training accuracy:\")\n",
        "model.evaluate(X_train, y_train)\n",
        "print(\"Testing accuracy:\")\n",
        "model.evaluate(X_test, y_test)"
      ],
      "execution_count": null,
      "outputs": [
        {
          "output_type": "stream",
          "text": [
            "Training accuracy:\n",
            "7/7 [==============================] - 0s 8ms/step - loss: 0.1978 - accuracy: 0.9761\n",
            "Testing accuracy:\n",
            "2/2 [==============================] - 0s 32ms/step - loss: 0.6936 - accuracy: 0.9400\n"
          ],
          "name": "stdout"
        },
        {
          "output_type": "execute_result",
          "data": {
            "text/plain": [
              "[0.6935617327690125, 0.9399999976158142]"
            ]
          },
          "metadata": {
            "tags": []
          },
          "execution_count": 13
        }
      ]
    },
    {
      "cell_type": "code",
      "metadata": {
        "id": "997FAiyo0sBx"
      },
      "source": [
        "# model.save_weights(f'{root_path}/cnn_cats_model_best_weights.h5')\n",
        "# model.save(f'{root_path}/cnn_cats_model_best.h5')"
      ],
      "execution_count": null,
      "outputs": []
    },
    {
      "cell_type": "markdown",
      "metadata": {
        "id": "0aN_qOjD3axl"
      },
      "source": [
        "## Best model\n",
        "Training accuracy: 97.61\n",
        "Testing accuracy: 94.00"
      ]
    },
    {
      "cell_type": "code",
      "metadata": {
        "id": "OTVpRyLS6Wei"
      },
      "source": [
        ""
      ],
      "execution_count": null,
      "outputs": []
    }
  ]
}